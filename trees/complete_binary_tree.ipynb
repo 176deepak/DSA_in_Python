{
 "cells": [
  {
   "cell_type": "markdown",
   "id": "ce25ffcc-2a3e-42d8-9dc4-d9a3a1881969",
   "metadata": {},
   "source": [
    "<h1 style=\"\n",
    "    text-align:center; \n",
    "    font-size:40px; \n",
    "    font-weight: bold;\n",
    "    font-family: 'Lucida Console', 'Courier New', 'monospace'; \n",
    "    color:blue\n",
    "\">\n",
    "    Complete Binary Tree\n",
    "</h1>"
   ]
  },
  {
   "cell_type": "markdown",
   "id": "c98b06a2-cebf-4190-a217-cb0f3fc8e26b",
   "metadata": {},
   "source": [
    "## Theory\n",
    "<hr>\n",
    "\n",
    "A complete binary tree is a special type of binary tree in which every level of the tree is completely filled except possibly for the last level. In the last level, all nodes are as left as possible. This property makes complete binary trees particularly interesting and useful in various computer science applications.\n",
    "\n",
    "Key characteristics of a complete binary tree:\n",
    "1. **Fill Levels**: All levels of the tree are filled completely except for the last level, which may be partially filled from left to right.\n",
    "2. **Left-Weighted**: Nodes in the last level are filled from left to right. In other words, nodes are added to the leftmost position first, and if the last level is not completely filled, the rightmost nodes may be empty.\n",
    "3. **Balanced Structure**: Although it's not a perfectly balanced tree like a full binary tree (where all levels are completely filled), a complete binary tree is reasonably balanced. The height of the tree is usually close to the minimum possible height for the given number of nodes.\n",
    "\n",
    "Applications and advantages of complete binary trees:\n",
    "1. **Array Representations**: Complete binary trees can be efficiently represented using arrays. This is because the leftmost node of the last level corresponds to the first element of an array, and subsequent elements in the array correspond to nodes from left to right in the last level. This allows for fast indexing and memory efficiency.\n",
    "2. **Heap Data Structures**: Complete binary trees are used as the basis for implementing binary heaps, such as min-heaps and max-heaps, which are data structures used in various algorithms, including priority queues and sorting algorithms like heap sort.\n",
    "3. **Binary Search Tree (BST) Construction**: When constructing a Binary Search Tree (BST) from a sorted array, the result will be a complete binary tree. This property can be leveraged for efficient BST construction algorithms.\n",
    "4. **Network Routing**: In computer networks, complete binary trees can be used for hierarchical routing, where each node corresponds to a network switch or router.\n",
    "\n",
    "In summary, a complete binary tree is a binary tree where all levels are filled except the last level, and nodes are added from left to right in the last level. The balanced and efficient properties of complete binary trees make them useful in various data structures and algorithms."
   ]
  },
  {
   "cell_type": "code",
   "execution_count": 1,
   "id": "3670a72e-e08b-4461-8028-e44303315f47",
   "metadata": {},
   "outputs": [],
   "source": [
    "# tree structure\n",
    "class Node:\n",
    "    def __init__(self, key):\n",
    "        self.val = key\n",
    "        self.left_child = None\n",
    "        self.right_child = None"
   ]
  },
  {
   "cell_type": "code",
   "execution_count": 2,
   "id": "bb25f9ea-3b00-4723-a798-22a12d8d3eee",
   "metadata": {},
   "outputs": [],
   "source": [
    "# inserting nodes into tree\n",
    "root = Node(1)\n",
    "root.left = Node(2)\n",
    "root.right = Node(3)\n",
    "root.left.left = Node(4)\n",
    "root.left.right = Node(5)\n",
    "root.right.left = Node(6)"
   ]
  },
  {
   "cell_type": "code",
   "execution_count": 3,
   "id": "21261af4-49b6-4362-a0bb-79b8a052f83c",
   "metadata": {},
   "outputs": [],
   "source": [
    "# counting total nodes in tree\n",
    "def nodes_count(tree):\n",
    "    if tree is None:\n",
    "        return 0\n",
    "    return (1 + nodes_count(tree.left_child) + nodes_count(tree.right_child)) "
   ]
  },
  {
   "cell_type": "code",
   "execution_count": 4,
   "id": "91c0aed6-b1a4-4b02-866a-92a29f5878e8",
   "metadata": {},
   "outputs": [],
   "source": [
    "# Check if the tree is complete binary tree\n",
    "def is_complete(root, index, numberNodes):\n",
    "\n",
    "    # Check if the tree is empty\n",
    "    if root is None:\n",
    "        return True\n",
    "\n",
    "    if index >= numberNodes:\n",
    "        return False\n",
    "\n",
    "    return (is_complete(root.left_child, 2 * index + 1, numberNodes) and is_complete(root.right_child, 2 * index + 2, numberNodes))"
   ]
  },
  {
   "cell_type": "code",
   "execution_count": 5,
   "id": "df063838-78fb-4f34-a151-764665ef2efd",
   "metadata": {},
   "outputs": [
    {
     "name": "stdout",
     "output_type": "stream",
     "text": [
      "The tree is a complete binary tree\n"
     ]
    }
   ],
   "source": [
    "node_count = nodes_count(root)\n",
    "index = 0\n",
    "\n",
    "if is_complete(root, index, node_count):\n",
    "    print(\"The tree is a complete binary tree\")\n",
    "else:\n",
    "    print(\"The tree is not a complete binary tree\")"
   ]
  },
  {
   "cell_type": "markdown",
   "id": "17a3c680-7e4c-4362-9f65-0ce2d1a75840",
   "metadata": {},
   "source": [
    "<h1 style=\"\n",
    "    text-align:center; \n",
    "    font-size:80px; \n",
    "    font-family: 'Brush Script MT', cursive; \n",
    "    color:blue\n",
    "\">\n",
    "    Thankyou\n",
    "</h1>"
   ]
  }
 ],
 "metadata": {
  "kernelspec": {
   "display_name": "Python 3 (ipykernel)",
   "language": "python",
   "name": "python3"
  },
  "language_info": {
   "codemirror_mode": {
    "name": "ipython",
    "version": 3
   },
   "file_extension": ".py",
   "mimetype": "text/x-python",
   "name": "python",
   "nbconvert_exporter": "python",
   "pygments_lexer": "ipython3",
   "version": "3.10.12"
  }
 },
 "nbformat": 4,
 "nbformat_minor": 5
}
