{
 "cells": [
  {
   "cell_type": "markdown",
   "id": "ce25ffcc-2a3e-42d8-9dc4-d9a3a1881969",
   "metadata": {},
   "source": [
    "<h1 style=\"text-align:center; color:yellow; font-family: cursive; font-weight: bold;\">Complete Binary Tree</h1>"
   ]
  },
  {
   "cell_type": "code",
   "execution_count": 1,
   "id": "3670a72e-e08b-4461-8028-e44303315f47",
   "metadata": {},
   "outputs": [],
   "source": [
    "# tree structure\n",
    "class Node:\n",
    "    def __init__(self, key):\n",
    "        self.val = key\n",
    "        self.left_child = None\n",
    "        self.right_child = None"
   ]
  },
  {
   "cell_type": "code",
   "execution_count": 2,
   "id": "bb25f9ea-3b00-4723-a798-22a12d8d3eee",
   "metadata": {},
   "outputs": [],
   "source": [
    "# inserting nodes into tree\n",
    "root = Node(1)\n",
    "root.left = Node(2)\n",
    "root.right = Node(3)\n",
    "root.left.left = Node(4)\n",
    "root.left.right = Node(5)\n",
    "root.right.left = Node(6)"
   ]
  },
  {
   "cell_type": "code",
   "execution_count": 3,
   "id": "21261af4-49b6-4362-a0bb-79b8a052f83c",
   "metadata": {},
   "outputs": [],
   "source": [
    "# counting total nodes in tree\n",
    "def nodes_count(tree):\n",
    "    if tree is None:\n",
    "        return 0\n",
    "    return (1 + nodes_count(tree.left_child) + nodes_count(tree.right_child)) "
   ]
  },
  {
   "cell_type": "code",
   "execution_count": 4,
   "id": "91c0aed6-b1a4-4b02-866a-92a29f5878e8",
   "metadata": {},
   "outputs": [],
   "source": [
    "# Check if the tree is complete binary tree\n",
    "def is_complete(root, index, numberNodes):\n",
    "\n",
    "    # Check if the tree is empty\n",
    "    if root is None:\n",
    "        return True\n",
    "\n",
    "    if index >= numberNodes:\n",
    "        return False\n",
    "\n",
    "    return (is_complete(root.left_child, 2 * index + 1, numberNodes) and is_complete(root.right_child, 2 * index + 2, numberNodes))"
   ]
  },
  {
   "cell_type": "code",
   "execution_count": 5,
   "id": "df063838-78fb-4f34-a151-764665ef2efd",
   "metadata": {},
   "outputs": [
    {
     "name": "stdout",
     "output_type": "stream",
     "text": [
      "The tree is a complete binary tree\n"
     ]
    }
   ],
   "source": [
    "node_count = nodes_count(root)\n",
    "index = 0\n",
    "\n",
    "if is_complete(root, index, node_count):\n",
    "    print(\"The tree is a complete binary tree\")\n",
    "else:\n",
    "    print(\"The tree is not a complete binary tree\")"
   ]
  }
 ],
 "metadata": {
  "kernelspec": {
   "display_name": "Python 3 (ipykernel)",
   "language": "python",
   "name": "python3"
  },
  "language_info": {
   "codemirror_mode": {
    "name": "ipython",
    "version": 3
   },
   "file_extension": ".py",
   "mimetype": "text/x-python",
   "name": "python",
   "nbconvert_exporter": "python",
   "pygments_lexer": "ipython3",
   "version": "3.10.12"
  }
 },
 "nbformat": 4,
 "nbformat_minor": 5
}
