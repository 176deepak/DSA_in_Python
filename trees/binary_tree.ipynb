{
 "cells": [
  {
   "cell_type": "markdown",
   "id": "eb273f8d-8b68-405b-967d-b8f301559fe1",
   "metadata": {},
   "source": [
    "<h1 style=\"text-align: center; color: green\">Binary Tree</h1>"
   ]
  },
  {
   "cell_type": "code",
   "execution_count": 1,
   "id": "ab5f3b9f-9df6-40df-9d67-753956a87558",
   "metadata": {},
   "outputs": [],
   "source": [
    "# binary tree structure\n",
    "class Tree:\n",
    "    '''\n",
    "        Binary Tree\n",
    "    '''\n",
    "    def __init__(self, key):\n",
    "        self.left_subtree = None\n",
    "        self.right_subtree = None\n",
    "        self.node_val = key"
   ]
  },
  {
   "cell_type": "code",
   "execution_count": 2,
   "id": "9e12e8aa-0f63-4e2f-abb5-7f9b20dd17ae",
   "metadata": {},
   "outputs": [],
   "source": [
    "# inserting nodes in binary tree\n",
    "\n",
    "# level ---> 0\n",
    "root = Tree(1)\n",
    "\n",
    "# level ---> 1\n",
    "root.left_subtree = Tree(2)\n",
    "root.right_subtree = Tree(3)\n",
    "\n",
    "# level ---> 2\n",
    "root.left_subtree.left_subtree = Tree(4)\n",
    "root.right_subtree.right_subtree = Tree(7)"
   ]
  },
  {
   "cell_type": "code",
   "execution_count": 3,
   "id": "e71649e2-0d32-4487-b69e-467e4a135955",
   "metadata": {},
   "outputs": [],
   "source": [
    "# tree traversal\n",
    "def traversal(tree):\n",
    "    if tree:\n",
    "        print(tree.node_val, end=' ')\n",
    "        traversal(tree.left_subtree)\n",
    "        traversal(tree.right_subtree)"
   ]
  },
  {
   "cell_type": "code",
   "execution_count": 4,
   "id": "21fd63fc-5ce3-4485-b743-3bd4be8da33c",
   "metadata": {},
   "outputs": [
    {
     "name": "stdout",
     "output_type": "stream",
     "text": [
      "Tree node's value: \n",
      "1 2 4 3 7 "
     ]
    }
   ],
   "source": [
    "print(\"Tree node's value: \")\n",
    "traversal(root)"
   ]
  }
 ],
 "metadata": {
  "kernelspec": {
   "display_name": "Python 3 (ipykernel)",
   "language": "python",
   "name": "python3"
  },
  "language_info": {
   "codemirror_mode": {
    "name": "ipython",
    "version": 3
   },
   "file_extension": ".py",
   "mimetype": "text/x-python",
   "name": "python",
   "nbconvert_exporter": "python",
   "pygments_lexer": "ipython3",
   "version": "3.10.12"
  }
 },
 "nbformat": 4,
 "nbformat_minor": 5
}
