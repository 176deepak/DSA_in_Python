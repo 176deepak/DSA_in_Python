{
 "cells": [
  {
   "cell_type": "markdown",
   "id": "eb273f8d-8b68-405b-967d-b8f301559fe1",
   "metadata": {},
   "source": [
    "<h1 style=\"\n",
    "    text-align:center; \n",
    "    font-size:40px; \n",
    "    font-weight: bold;\n",
    "    font-family: 'Lucida Console', 'Courier New', 'monospace'; \n",
    "    color:blue\n",
    "\">\n",
    "    Binary Tree \n",
    "</h1>"
   ]
  },
  {
   "cell_type": "markdown",
   "id": "4e519284-1c4d-41dc-9b81-933b2e2416dd",
   "metadata": {},
   "source": [
    "## Theory\n",
    "<hr>\n",
    "\n",
    "A binary tree is a hierarchical data structure that consists of nodes connected by edges. Each node in a binary tree has at most two children, which are referred to as the left child and the right child. A binary tree is used to represent a hierarchical structure in which each node can have zero, one, or two children.\n",
    "\n",
    "Key characteristics of a binary tree:\n",
    "1. **Root**: The topmost node in a binary tree is called the root. It serves as the starting point for traversing or accessing the tree.\n",
    "2. **Nodes**: Each element in a binary tree is a node. A node can contain data or information, and it may have zero, one, or two children nodes.\n",
    "3. **Edges**: Edges or links connect nodes to each other, defining the relationships within the tree.\n",
    "4. **Parent and Child Nodes**: Each node in a binary tree can be the parent of one or more child nodes. The nodes directly connected to a parent are referred to as its children. A node can have either zero children (a leaf node), one child, or two children.\n",
    "5. **Leaf Nodes**: Leaf nodes are nodes that have no children. They are the nodes at the bottom of the tree.\n",
    "6. **Height**: The height of a binary tree is the length of the longest path from the root to a leaf. It represents the number of edges in the longest path from the root to a leaf node. The height of a binary tree can vary depending on its structure.\n",
    "\n",
    "Binary trees are fundamental data structures and are a building block for more complex data structures like AVL trees, Red-Black trees, and many others. They are versatile and can be adapted to various problems and scenarios."
   ]
  },
  {
   "cell_type": "code",
   "execution_count": 1,
   "id": "ab5f3b9f-9df6-40df-9d67-753956a87558",
   "metadata": {},
   "outputs": [],
   "source": [
    "# binary tree structure\n",
    "\n",
    "# Tree Node\n",
    "class Tree:\n",
    "    '''\n",
    "        Binary Tree\n",
    "    '''\n",
    "    def __init__(self, key):\n",
    "        # node's left child\n",
    "        self.left_subtree = None\n",
    "        # node's right child\n",
    "        self.right_subtree = None\n",
    "        # node's value\n",
    "        self.node_val = key"
   ]
  },
  {
   "cell_type": "code",
   "execution_count": 2,
   "id": "9e12e8aa-0f63-4e2f-abb5-7f9b20dd17ae",
   "metadata": {},
   "outputs": [],
   "source": [
    "# inserting nodes in binary tree\n",
    "\n",
    "# level ---> 0\n",
    "root = Tree(1)\n",
    "\n",
    "# level ---> 1\n",
    "root.left_subtree = Tree(2)\n",
    "root.right_subtree = Tree(3)\n",
    "\n",
    "# level ---> 2\n",
    "root.left_subtree.left_subtree = Tree(4)\n",
    "root.right_subtree.right_subtree = Tree(7)"
   ]
  },
  {
   "cell_type": "code",
   "execution_count": 3,
   "id": "e71649e2-0d32-4487-b69e-467e4a135955",
   "metadata": {},
   "outputs": [],
   "source": [
    "# tree traversal\n",
    "def traversal(tree):\n",
    "    if tree:\n",
    "        print(tree.node_val, end=' ')\n",
    "        traversal(tree.left_subtree)\n",
    "        traversal(tree.right_subtree)"
   ]
  },
  {
   "cell_type": "code",
   "execution_count": 4,
   "id": "21fd63fc-5ce3-4485-b743-3bd4be8da33c",
   "metadata": {},
   "outputs": [
    {
     "name": "stdout",
     "output_type": "stream",
     "text": [
      "Tree node's value: \n",
      "1 2 4 3 7 "
     ]
    }
   ],
   "source": [
    "print(\"Tree node's value: \")\n",
    "traversal(root)"
   ]
  },
  {
   "cell_type": "markdown",
   "id": "1db89fea-f45a-4638-9fdd-3564a8a7e6dc",
   "metadata": {},
   "source": [
    "<h1 style=\"\n",
    "    text-align:center; \n",
    "    font-size:80px; \n",
    "    font-family: 'Brush Script MT', cursive; \n",
    "    color:blue\n",
    "\">\n",
    "    Thankyou\n",
    "</h1>"
   ]
  }
 ],
 "metadata": {
  "kernelspec": {
   "display_name": "Python 3 (ipykernel)",
   "language": "python",
   "name": "python3"
  },
  "language_info": {
   "codemirror_mode": {
    "name": "ipython",
    "version": 3
   },
   "file_extension": ".py",
   "mimetype": "text/x-python",
   "name": "python",
   "nbconvert_exporter": "python",
   "pygments_lexer": "ipython3",
   "version": "3.10.12"
  }
 },
 "nbformat": 4,
 "nbformat_minor": 5
}
