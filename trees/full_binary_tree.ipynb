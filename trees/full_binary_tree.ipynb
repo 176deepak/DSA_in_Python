{
 "cells": [
  {
   "cell_type": "markdown",
   "id": "ea447e4b-ff57-4d54-8914-e173ff3b625e",
   "metadata": {},
   "source": [
    "<h1 style=\"\n",
    "    text-align:center; \n",
    "    font-size:40px; \n",
    "    font-weight: bold;\n",
    "    font-family: 'Lucida Console', 'Courier New', 'monospace'; \n",
    "    color:blue\n",
    "\">\n",
    "    Full Binary Tree\n",
    "</h1>"
   ]
  },
  {
   "cell_type": "markdown",
   "id": "b4b23a12-e607-4492-a8da-9c6b5d530ec6",
   "metadata": {},
   "source": [
    "## Theory\n",
    "<hr>\n",
    "\n",
    "A full binary tree, also known as a proper binary tree or 2-tree, is a special type of binary tree in which every node has either zero children (is a leaf node) or exactly two children. In other words, every non-leaf node in a full binary tree has exactly two child nodes, and all leaf nodes are at the same level. \n",
    "\n",
    "Here are the key characteristics of a full binary tree:\n",
    "1. **Nodes and Children**: Each node in a full binary tree can have either zero children (in the case of a leaf node) or two children (in the case of an internal node). This means that every non-leaf node is bifurcating, meaning it has two child nodes.\n",
    "2. **Balanced Structure**: A full binary tree is typically well-balanced, which means that the heights of the left and right subtrees of every node differ by at most one. This balance ensures that the tree has a consistent and predictable structure.\n",
    "3. **Leaf Nodes**: All leaf nodes in a full binary tree are at the same level. This means that the path from the root node to any leaf node has the same length.\n",
    "\n",
    "Applications and advantages of full binary trees:\n",
    "1. **Memory Efficiency**: Full binary trees can be efficiently represented using arrays. The index of each node in the array corresponds to its position in the tree. This makes full binary trees memory-efficient and suitable for storage structures like heaps.\n",
    "2. **Binary Search Trees (BSTs)**: While not all BSTs are full binary trees, some specialized BSTs like perfect binary search trees are also full binary trees. These structures provide predictable and efficient search, insertion, and deletion operations.\n",
    "3. **Tree-Based Data Structures**: Full binary trees serve as the foundation for various tree-based data structures, including heaps, segment trees, and quad trees.\n",
    "4. **Efficient Sorting**: Some sorting algorithms, like the heap sort algorithm, leverage full binary trees to efficiently sort data.\n",
    "\n",
    "In summary, a full binary tree is a binary tree where every node has either zero or two children, ensuring a balanced and predictable structure. This type of tree has practical applications in data storage, search structures, and sorting algorithms due to its efficient and consistent properties."
   ]
  },
  {
   "cell_type": "code",
   "execution_count": 1,
   "id": "4b6e19e9-2b7e-4180-8ec6-6a6b668554d9",
   "metadata": {},
   "outputs": [],
   "source": [
    "# full binary tree structure\n",
    "\n",
    "class FullBinaryTree:\n",
    "    '''\n",
    "        full binary tree\n",
    "    '''\n",
    "    def __init__(self, key):\n",
    "        # node value\n",
    "        self.val = key\n",
    "        # left child subtree\n",
    "        self.left_subtree = None\n",
    "        # right child subtree\n",
    "        self.right_subtree = None"
   ]
  },
  {
   "cell_type": "code",
   "execution_count": 2,
   "id": "8479fa9b-bfd7-4ac9-93fa-e07b84441188",
   "metadata": {},
   "outputs": [],
   "source": [
    "# inserting nodes in tree\n",
    "root = FullBinaryTree(1)\n",
    "root.right_subtree = FullBinaryTree(3)\n",
    "root.left_subtree = FullBinaryTree(2)\n",
    "root.left_subtree.left_subtree = FullBinaryTree(4)\n",
    "root.left_subtree.right_subtree = FullBinaryTree(5)\n",
    "root.left_subtree.right_subtree.left_subtree = FullBinaryTree(6)\n",
    "root.left_subtree.right_subtree.right_subtree = FullBinaryTree(7)"
   ]
  },
  {
   "cell_type": "code",
   "execution_count": 4,
   "id": "e043e660-3b7e-4be9-a474-3f773d69c662",
   "metadata": {},
   "outputs": [],
   "source": [
    "# function for checking, is given tree is full binary tree or not \n",
    "def check_tree(tree):\n",
    "    if tree is None:\n",
    "        return True\n",
    "    else:\n",
    "        if ((tree.left_subtree is None) and (tree.right_subtree is None)):\n",
    "            return True\n",
    "            \n",
    "        if ((tree.left_subtree is not None) and (tree.right_subtree is not None)):\n",
    "            return check_tree(tree.left_subtree) and check_tree(tree.right_subtree)\n",
    "    return False"
   ]
  },
  {
   "cell_type": "code",
   "execution_count": 5,
   "id": "af18542a-27a0-41cb-9c32-9626f7022c05",
   "metadata": {},
   "outputs": [
    {
     "name": "stdout",
     "output_type": "stream",
     "text": [
      "The tree is a full binary tree\n"
     ]
    }
   ],
   "source": [
    "# checking\n",
    "if check_tree(root):\n",
    "    print(\"The tree is a full binary tree\")\n",
    "else:\n",
    "    print(\"The tree is not a full binary tree\")"
   ]
  },
  {
   "cell_type": "markdown",
   "id": "a5ae0c52-eafe-4172-8f09-b09176fe6519",
   "metadata": {},
   "source": [
    "<h1 style=\"\n",
    "    text-align:center; \n",
    "    font-size:80px; \n",
    "    font-family: 'Brush Script MT', cursive; \n",
    "    color:blue\n",
    "\">\n",
    "    Thankyou\n",
    "</h1>"
   ]
  }
 ],
 "metadata": {
  "kernelspec": {
   "display_name": "Python 3 (ipykernel)",
   "language": "python",
   "name": "python3"
  },
  "language_info": {
   "codemirror_mode": {
    "name": "ipython",
    "version": 3
   },
   "file_extension": ".py",
   "mimetype": "text/x-python",
   "name": "python",
   "nbconvert_exporter": "python",
   "pygments_lexer": "ipython3",
   "version": "3.10.12"
  }
 },
 "nbformat": 4,
 "nbformat_minor": 5
}
