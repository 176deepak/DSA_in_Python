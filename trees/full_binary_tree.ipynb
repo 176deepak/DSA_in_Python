{
 "cells": [
  {
   "cell_type": "markdown",
   "id": "ea447e4b-ff57-4d54-8914-e173ff3b625e",
   "metadata": {},
   "source": [
    "<h1 style=\"text-align:center; color:purple; font-family: cursive\">Full Binary Tree</h1>"
   ]
  },
  {
   "cell_type": "code",
   "execution_count": 1,
   "id": "4b6e19e9-2b7e-4180-8ec6-6a6b668554d9",
   "metadata": {},
   "outputs": [],
   "source": [
    "# full binary tree structure\n",
    "\n",
    "class FullBinaryTree:\n",
    "    '''\n",
    "        full binary tree\n",
    "    '''\n",
    "    def __init__(self, key):\n",
    "        # node value\n",
    "        self.val = key\n",
    "        # left child subtree\n",
    "        self.left_subtree = None\n",
    "        # right child subtree\n",
    "        self.right_subtree = None"
   ]
  },
  {
   "cell_type": "code",
   "execution_count": 2,
   "id": "8479fa9b-bfd7-4ac9-93fa-e07b84441188",
   "metadata": {},
   "outputs": [],
   "source": [
    "# inserting nodes in tree\n",
    "root = FullBinaryTree(1)\n",
    "root.right_subtree = FullBinaryTree(3)\n",
    "root.left_subtree = FullBinaryTree(2)\n",
    "root.left_subtree.left_subtree = FullBinaryTree(4)\n",
    "root.left_subtree.right_subtree = FullBinaryTree(5)\n",
    "root.left_subtree.right_subtree.left_subtree = FullBinaryTree(6)\n",
    "root.left_subtree.right_subtree.right_subtree = FullBinaryTree(7)"
   ]
  },
  {
   "cell_type": "code",
   "execution_count": 4,
   "id": "e043e660-3b7e-4be9-a474-3f773d69c662",
   "metadata": {},
   "outputs": [],
   "source": [
    "# function for checking, is given tree is full binary tree or not \n",
    "def check_tree(tree):\n",
    "    if tree is None:\n",
    "        return True\n",
    "    else:\n",
    "        if ((tree.left_subtree is None) and (tree.right_subtree is None)):\n",
    "            return True\n",
    "            \n",
    "        if ((tree.left_subtree is not None) and (tree.right_subtree is not None)):\n",
    "            return check_tree(tree.left_subtree) and check_tree(tree.right_subtree)\n",
    "    return False"
   ]
  },
  {
   "cell_type": "code",
   "execution_count": 5,
   "id": "af18542a-27a0-41cb-9c32-9626f7022c05",
   "metadata": {},
   "outputs": [
    {
     "name": "stdout",
     "output_type": "stream",
     "text": [
      "The tree is a full binary tree\n"
     ]
    }
   ],
   "source": [
    "# checking\n",
    "if check_tree(root):\n",
    "    print(\"The tree is a full binary tree\")\n",
    "else:\n",
    "    print(\"The tree is not a full binary tree\")"
   ]
  },
  {
   "cell_type": "code",
   "execution_count": null,
   "id": "ac70d5ae-52e1-4e29-8a90-123d35a84994",
   "metadata": {},
   "outputs": [],
   "source": []
  }
 ],
 "metadata": {
  "kernelspec": {
   "display_name": "Python 3 (ipykernel)",
   "language": "python",
   "name": "python3"
  },
  "language_info": {
   "codemirror_mode": {
    "name": "ipython",
    "version": 3
   },
   "file_extension": ".py",
   "mimetype": "text/x-python",
   "name": "python",
   "nbconvert_exporter": "python",
   "pygments_lexer": "ipython3",
   "version": "3.10.12"
  }
 },
 "nbformat": 4,
 "nbformat_minor": 5
}
