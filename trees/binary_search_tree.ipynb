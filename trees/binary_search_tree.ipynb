{
 "cells": [
  {
   "cell_type": "markdown",
   "id": "f67755a8-55e4-4872-aed0-3711521e8241",
   "metadata": {},
   "source": [
    "<h1 style=\"text-align: center; color: seagreen; font-weight: bold; font-size: 50px; font-family: cursive\"><i>Binary Search Tree</i></h1>"
   ]
  },
  {
   "cell_type": "code",
   "execution_count": 1,
   "id": "34692e28-32ed-4aa3-a17d-431c240d32bb",
   "metadata": {},
   "outputs": [],
   "source": [
    "# BST \n",
    "class Node:\n",
    "    def __init__(self, key):\n",
    "        self.val = key\n",
    "        self.left_child = None\n",
    "        self.right_child = None"
   ]
  },
  {
   "cell_type": "code",
   "execution_count": null,
   "id": "662f5479-40ab-4cb9-814e-7c38dea4b228",
   "metadata": {},
   "outputs": [],
   "source": [
    "# "
   ]
  }
 ],
 "metadata": {
  "kernelspec": {
   "display_name": "Python 3 (ipykernel)",
   "language": "python",
   "name": "python3"
  },
  "language_info": {
   "codemirror_mode": {
    "name": "ipython",
    "version": 3
   },
   "file_extension": ".py",
   "mimetype": "text/x-python",
   "name": "python",
   "nbconvert_exporter": "python",
   "pygments_lexer": "ipython3",
   "version": "3.10.12"
  }
 },
 "nbformat": 4,
 "nbformat_minor": 5
}
