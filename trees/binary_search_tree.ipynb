{
 "cells": [
  {
   "cell_type": "markdown",
   "id": "f67755a8-55e4-4872-aed0-3711521e8241",
   "metadata": {},
   "source": [
    "<h1 style=\"\n",
    "    text-align:center; \n",
    "    font-size:40px; \n",
    "    font-weight: bold;\n",
    "    font-family: 'Lucida Console', 'Courier New', 'monospace'; \n",
    "    color:blue\n",
    "\">\n",
    "    Binary Search Tree\n",
    "</h1>"
   ]
  },
  {
   "cell_type": "markdown",
   "id": "14c97171-ab0c-4eda-9bec-3e0a91a396b6",
   "metadata": {},
   "source": [
    "## Theory\n",
    "<hr>\n",
    "\n",
    "A Binary Search Tree (BST) is a binary tree data structure with the following characteristics:\n",
    "1. **Binary Tree Structure**: A BST is a binary tree, which means that each node in the tree has at most two children, commonly referred to as the left child and the right child.\n",
    "2. **Ordering Property**: The key feature of a BST is its ordering property, which ensures that the elements (values or keys) stored in the tree are organized in a specific way:\n",
    "   - All nodes in the left subtree of a node have values less than the node's value.\n",
    "   - All nodes in the right subtree of a node have values greater than the node's value.\n",
    "3. **Unique Keys**: In most BST implementations, each node contains a unique key. This property allows for efficient searching and retrieval of elements.\n",
    " \n",
    "Key operations and characteristics of a Binary Search Tree:\n",
    "- **Insertion**: When adding a new element to a BST, it is placed in the appropriate position based on its value. The tree's structure is then adjusted to maintain the ordering property.\n",
    "- **Deletion**: To remove an element from a BST, you locate the node with the value to be deleted and then reorganize the tree to maintain the ordering property.\n",
    "- **Searching**: Searching in a BST is efficient. You can start at the root and traverse the tree by comparing the target value with the values in each node, which allows you to quickly find the desired element or determine if it's not present.\n",
    "- **In-Order Traversal**: In-order traversal of a BST visits the nodes in ascending order of their keys. This property makes BSTs useful for tasks that require elements to be processed in sorted order.\n",
    "\n",
    "BSTs have several advantages and use cases:\n",
    "- Efficient searching, insertion, and deletion operations, typically with an average time complexity of O(log n) for balanced trees. In the worst case (when the tree is completely unbalanced), these operations can be O(n), but this can be mitigated with self-balancing variants like AVL trees or Red-Black trees.\n",
    "- They can be used to implement data structures like sets and maps, where keys are associated with values.\n",
    "\n",
    "However, the efficiency of BST operations depends on the tree's balance. Unbalanced trees can degrade to linked lists, resulting in poor performance. To address this issue, self-balancing binary search trees, such as AVL trees and Red-Black trees, are used to automatically maintain balance, ensuring that operations remain efficient."
   ]
  },
  {
   "cell_type": "code",
   "execution_count": 6,
   "id": "34692e28-32ed-4aa3-a17d-431c240d32bb",
   "metadata": {},
   "outputs": [],
   "source": [
    "# BST node structure\n",
    "class Node:\n",
    "    def __init__(self, key):\n",
    "        self.val = key\n",
    "        self.left_child = None\n",
    "        self.right_child = None"
   ]
  },
  {
   "cell_type": "code",
   "execution_count": 7,
   "id": "662f5479-40ab-4cb9-814e-7c38dea4b228",
   "metadata": {},
   "outputs": [],
   "source": [
    "# Operations in a BST\n",
    "def min_value_node(root):\n",
    "    '''\n",
    "    Finds the node with the minimum value in the BST.\n",
    "    '''\n",
    "    current = root\n",
    "\n",
    "    while(current.left_child is not None):\n",
    "        current = current.left_child  # Traverse down the left child nodes to find the minimum value.\n",
    "\n",
    "    return current  # Return the node with the minimum value.\n",
    "\n",
    "\n",
    "def insert_node(root, key):\n",
    "    '''\n",
    "    Inserts a new node with the given key into the BST.\n",
    "    '''\n",
    "    if root is None:  # If the tree is empty, create a new node with the given key.\n",
    "        return Node(key)\n",
    "\n",
    "    if key < root.val:  # Check if the new key should be placed in the left or right subtree.\n",
    "        root.left_child = insert_node(root.left_child, key)\n",
    "    else:\n",
    "        root.right_child = insert_node(root.right_child, key)\n",
    "\n",
    "    return root  # Return the updated tree.\n",
    "\n",
    "def delete_node(root, key):\n",
    "    '''\n",
    "    Deletes the node with the given key from the BST and reorganizes the tree.\n",
    "    '''\n",
    "    if root is None:  # If the tree is empty, return it as is.\n",
    "        return root\n",
    "\n",
    "    if key < root.val:\n",
    "        root.left_child = delete_node(root.left_child, key)\n",
    "    elif key > root.val:\n",
    "        root.right_child = delete_node(root.right_child, key)\n",
    "    else:\n",
    "        # If the node has one or no child, handle it accordingly.\n",
    "        if root.left_child is None:\n",
    "            tmp = root.right_child\n",
    "            root = None\n",
    "            return tmp\n",
    "        if root.right_child is None:\n",
    "            tmp = root.left_child\n",
    "            root = None\n",
    "            return tmp\n",
    "\n",
    "        # If the node has two children, find the node with the minimum value in the right subtree and replace the current node with it.\n",
    "        temp = min_value_node(root.right_child)\n",
    "        root.val = temp.val\n",
    "        root.right_child = delete_node(root.right_child, temp.val)\n",
    "\n",
    "    return root  # Return the updated tree.\n",
    "\n",
    "def traversal(root):\n",
    "    '''\n",
    "    Perform an in-order traversal of the BST and print the values of the nodes.\n",
    "    '''\n",
    "    if root is not None:\n",
    "        traversal(root.left_child)  # Recursively traverse the left subtree.\n",
    "        print(str(root.val), end=' ')  # Print the value of the current node.\n",
    "        traversal(root.right_child)  # Recursively traverse the right subtree."
   ]
  },
  {
   "cell_type": "code",
   "execution_count": 8,
   "id": "61035563-4924-4ba0-b2e0-017d808bb176",
   "metadata": {},
   "outputs": [],
   "source": [
    "# inserting nodes into tree\n",
    "root = None\n",
    "root = insert_node(root, 8)\n",
    "root = insert_node(root, 3)\n",
    "root = insert_node(root, 1)\n",
    "root = insert_node(root, 6)\n",
    "root = insert_node(root, 7)\n",
    "root = insert_node(root, 10)\n",
    "root = insert_node(root, 14)\n",
    "root = insert_node(root, 4)"
   ]
  },
  {
   "cell_type": "code",
   "execution_count": 9,
   "id": "300d98b7-f1a4-4c55-9968-a2b5188b713a",
   "metadata": {},
   "outputs": [],
   "source": [
    "# operations on tree "
   ]
  },
  {
   "cell_type": "code",
   "execution_count": 10,
   "id": "d04525c3-f77e-4415-bf1a-a0d9ab9d296e",
   "metadata": {},
   "outputs": [
    {
     "name": "stdout",
     "output_type": "stream",
     "text": [
      "Inorder traversal:  1 3 4 6 7 8 10 14 "
     ]
    }
   ],
   "source": [
    "print(\"Inorder traversal: \", end=' ')\n",
    "traversal(root)"
   ]
  },
  {
   "cell_type": "code",
   "execution_count": 11,
   "id": "8ba192df-a756-4c39-b90e-8b160225b844",
   "metadata": {},
   "outputs": [
    {
     "name": "stdout",
     "output_type": "stream",
     "text": [
      "\n",
      "Delete 10\n"
     ]
    }
   ],
   "source": [
    "print(\"\\nDelete 10\")\n",
    "root = delete_node(root, 10)"
   ]
  },
  {
   "cell_type": "code",
   "execution_count": 12,
   "id": "e2a54135-afe8-4740-81f0-3cd2eeec687f",
   "metadata": {},
   "outputs": [
    {
     "name": "stdout",
     "output_type": "stream",
     "text": [
      "Inorder traversal:  1 3 4 6 7 8 14 "
     ]
    }
   ],
   "source": [
    "print(\"Inorder traversal: \", end=' ')\n",
    "traversal(root)"
   ]
  },
  {
   "cell_type": "markdown",
   "id": "d7a16ff2-6225-4ee9-ae66-9112f2ef4264",
   "metadata": {},
   "source": [
    "<h1 style=\"\n",
    "    text-align:center; \n",
    "    font-size:80px; \n",
    "    font-family: 'Brush Script MT', cursive; \n",
    "    color:blue\n",
    "\">\n",
    "    Thankyou\n",
    "</h1>"
   ]
  }
 ],
 "metadata": {
  "kernelspec": {
   "display_name": "Python 3 (ipykernel)",
   "language": "python",
   "name": "python3"
  },
  "language_info": {
   "codemirror_mode": {
    "name": "ipython",
    "version": 3
   },
   "file_extension": ".py",
   "mimetype": "text/x-python",
   "name": "python",
   "nbconvert_exporter": "python",
   "pygments_lexer": "ipython3",
   "version": "3.10.12"
  }
 },
 "nbformat": 4,
 "nbformat_minor": 5
}
