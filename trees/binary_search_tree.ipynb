{
 "cells": [
  {
   "cell_type": "markdown",
   "id": "f67755a8-55e4-4872-aed0-3711521e8241",
   "metadata": {},
   "source": [
    "<h1 style=\"text-align: center; color: seagreen; font-weight: bold; font-size: 50px; font-family: cursive\"><i>Binary Search Tree</i></h1>"
   ]
  },
  {
   "cell_type": "code",
   "execution_count": 6,
   "id": "34692e28-32ed-4aa3-a17d-431c240d32bb",
   "metadata": {},
   "outputs": [],
   "source": [
    "# BST node structure\n",
    "class Node:\n",
    "    def __init__(self, key):\n",
    "        self.val = key\n",
    "        self.left_child = None\n",
    "        self.right_child = None"
   ]
  },
  {
   "cell_type": "code",
   "execution_count": 7,
   "id": "662f5479-40ab-4cb9-814e-7c38dea4b228",
   "metadata": {},
   "outputs": [],
   "source": [
    "# operations in BST\n",
    "\n",
    "def min_value_node(root):\n",
    "    '''\n",
    "        finds node with minimum value\n",
    "    '''\n",
    "    current = root\n",
    "    \n",
    "    while(current.left_child is not None):\n",
    "        current = current.left_child         # goes down till bottom left child node\n",
    "    \n",
    "    return current             # return most bottom left child\n",
    "\n",
    "\n",
    "def insert_node(root, key):\n",
    "    '''\n",
    "        node insertion into tree\n",
    "    '''    \n",
    "    if root is None:              # if tree is empty\n",
    "        return Node(key)\n",
    "    \n",
    "    if key < root.val:               # checks new key value position, either left side on tree or right side on tree\n",
    "        root.left_child = insert_node(root.left_child, key)\n",
    "    else:\n",
    "        root.right_child = insert_node(root.right_child, key)\n",
    "    \n",
    "    return root            # returning tree\n",
    "\n",
    "\n",
    "def delete_node(root, key):\n",
    "    '''\n",
    "        deletes the given node and again arranges the tree\n",
    "    '''\n",
    "    if root is None:          # if tree is empty\n",
    "        return root\n",
    "\n",
    "    if key < root.val:\n",
    "        root.left_child = delete_node(root.left_child, key)\n",
    "    elif key > root.val:\n",
    "        root.right_child = delete_node(root.right_child, key)\n",
    "    else:\n",
    "        # If the node is with only one child or no child\n",
    "        if root.left_child is None:\n",
    "            tmp = root.right_child\n",
    "            root = None\n",
    "            return tmp\n",
    "        if root.right_child is None:\n",
    "            tmp = root.left_child\n",
    "            root = None\n",
    "            return tmp\n",
    "        \n",
    "        temp = min_value_node(root.right_child)\n",
    "        root.val = temp.val\n",
    "        root.right_child = deleteNode(root.right_child, temp.val)\n",
    "    return root\n",
    "\n",
    "\n",
    "def traversal(root):\n",
    "    if root is not None:\n",
    "        traversal(root.left_child)\n",
    "        print(str(root.val), end=' ')\n",
    "        traversal(root.right_child)"
   ]
  },
  {
   "cell_type": "code",
   "execution_count": 8,
   "id": "61035563-4924-4ba0-b2e0-017d808bb176",
   "metadata": {},
   "outputs": [],
   "source": [
    "# inserting nodes into tree\n",
    "root = None\n",
    "root = insert_node(root, 8)\n",
    "root = insert_node(root, 3)\n",
    "root = insert_node(root, 1)\n",
    "root = insert_node(root, 6)\n",
    "root = insert_node(root, 7)\n",
    "root = insert_node(root, 10)\n",
    "root = insert_node(root, 14)\n",
    "root = insert_node(root, 4)"
   ]
  },
  {
   "cell_type": "code",
   "execution_count": 9,
   "id": "300d98b7-f1a4-4c55-9968-a2b5188b713a",
   "metadata": {},
   "outputs": [],
   "source": [
    "# operations on tree "
   ]
  },
  {
   "cell_type": "code",
   "execution_count": 10,
   "id": "d04525c3-f77e-4415-bf1a-a0d9ab9d296e",
   "metadata": {},
   "outputs": [
    {
     "name": "stdout",
     "output_type": "stream",
     "text": [
      "Inorder traversal:  1 3 4 6 7 8 10 14 "
     ]
    }
   ],
   "source": [
    "print(\"Inorder traversal: \", end=' ')\n",
    "traversal(root)"
   ]
  },
  {
   "cell_type": "code",
   "execution_count": 11,
   "id": "8ba192df-a756-4c39-b90e-8b160225b844",
   "metadata": {},
   "outputs": [
    {
     "name": "stdout",
     "output_type": "stream",
     "text": [
      "\n",
      "Delete 10\n"
     ]
    }
   ],
   "source": [
    "print(\"\\nDelete 10\")\n",
    "root = delete_node(root, 10)"
   ]
  },
  {
   "cell_type": "code",
   "execution_count": 12,
   "id": "e2a54135-afe8-4740-81f0-3cd2eeec687f",
   "metadata": {},
   "outputs": [
    {
     "name": "stdout",
     "output_type": "stream",
     "text": [
      "Inorder traversal:  1 3 4 6 7 8 14 "
     ]
    }
   ],
   "source": [
    "print(\"Inorder traversal: \", end=' ')\n",
    "traversal(root)"
   ]
  }
 ],
 "metadata": {
  "kernelspec": {
   "display_name": "Python 3 (ipykernel)",
   "language": "python",
   "name": "python3"
  },
  "language_info": {
   "codemirror_mode": {
    "name": "ipython",
    "version": 3
   },
   "file_extension": ".py",
   "mimetype": "text/x-python",
   "name": "python",
   "nbconvert_exporter": "python",
   "pygments_lexer": "ipython3",
   "version": "3.10.12"
  }
 },
 "nbformat": 4,
 "nbformat_minor": 5
}
