{
 "cells": [
  {
   "cell_type": "markdown",
   "id": "73ad4658-023e-4416-bbd5-1f46a03b5ee1",
   "metadata": {},
   "source": [
    "# Tree Traversals"
   ]
  },
  {
   "cell_type": "markdown",
   "id": "88c06a86-7421-4a21-99fb-d25d85ba46d3",
   "metadata": {},
   "source": [
    "### Tree"
   ]
  },
  {
   "cell_type": "code",
   "execution_count": 1,
   "id": "9d26dd1b-39cd-4356-86ef-cf7228a26544",
   "metadata": {},
   "outputs": [],
   "source": [
    "# initially tree structure\n",
    "class Node:\n",
    "    '''\n",
    "        tree node\n",
    "    '''\n",
    "    def __init__(self, data):\n",
    "        # parent node value\n",
    "        self.val = data\n",
    "        # parent's left child\n",
    "        self.left = None\n",
    "        # parent's right child\n",
    "        self.right = None"
   ]
  },
  {
   "cell_type": "markdown",
   "id": "9fa94722-b35c-4dbb-8700-d1248d7faf1e",
   "metadata": {},
   "source": [
    "### Inserting nodes"
   ]
  },
  {
   "cell_type": "code",
   "execution_count": 2,
   "id": "48dd5172-c72d-415a-8e59-daf7ad49a025",
   "metadata": {},
   "outputs": [],
   "source": [
    "# adding nodes or values in tree\n",
    "\n",
    "# level ---> 0\n",
    "root = Node(1)\n",
    "\n",
    "# level ---> 1\n",
    "root.left = Node(2)\n",
    "root.right = Node(3)\n",
    "\n",
    "# level ---> 2\n",
    "root.left.left = Node(4)\n",
    "root.left.right = Node(5)\n",
    "root.right.left = Node(6)\n",
    "root.right.right = Node(7)\n",
    "\n",
    "# level ---> 3\n",
    "root.left.left.left = Node(8)\n",
    "root.left.left.right = Node(9)\n",
    "root.left.right.left = Node(10)\n",
    "root.left.right.right = Node(11)\n",
    "root.right.left.left = Node(12)\n",
    "root.right.left.right = Node(13)\n",
    "root.right.right.left = Node(14)\n",
    "root.right.right.right = Node(15)"
   ]
  },
  {
   "cell_type": "markdown",
   "id": "876e049b-da80-45e7-a0e8-727f4fa4f326",
   "metadata": {},
   "source": [
    "<h3><i>PreOrder Traversal</i></h3>"
   ]
  },
  {
   "cell_type": "code",
   "execution_count": 3,
   "id": "6162b1e9-1336-4433-8102-00314d7895cd",
   "metadata": {},
   "outputs": [],
   "source": [
    "# recusive inorder traversal\n",
    "def pre_order(root):\n",
    "    '''\n",
    "        pre_order traversal: \n",
    "            1. visit parent node node\n",
    "            1. go to left subtree\n",
    "            3. go to right subtree\n",
    "    '''\n",
    "    if root:    # if tree not empty\n",
    "        print(str(root.val), end=' ')         # visit parent node\n",
    "        pre_order(root.left)       # go to left subtree\n",
    "        pre_order(root.right)       # go to right subtree"
   ]
  },
  {
   "cell_type": "code",
   "execution_count": 4,
   "id": "1f2c03d9-6c39-4ec7-aeb4-43f308af2c49",
   "metadata": {},
   "outputs": [
    {
     "name": "stdout",
     "output_type": "stream",
     "text": [
      "\n",
      "Preorder traversal \n",
      "1 2 4 8 9 5 10 11 3 6 12 13 7 14 15 "
     ]
    }
   ],
   "source": [
    "print(\"\\nPreorder traversal \")\n",
    "pre_order(root)"
   ]
  },
  {
   "cell_type": "markdown",
   "id": "99af919a-c95a-40aa-963c-e873f0c1054c",
   "metadata": {},
   "source": [
    "<h3><i>InOrder Traversal</i></h3>"
   ]
  },
  {
   "cell_type": "code",
   "execution_count": 7,
   "id": "c205d632-b585-429e-8fdd-1fcee50a614f",
   "metadata": {},
   "outputs": [],
   "source": [
    "# recusive inorder traversal\n",
    "def in_order(root):\n",
    "    '''\n",
    "        in_order traversal: \n",
    "            1. go to left subtree\n",
    "            2. visit parent node node\n",
    "            3. go to right subtree\n",
    "    '''\n",
    "    if root:    # if tree not empty\n",
    "        in_order(root.left)       # go to left subtree\n",
    "        print(str(root.val), end=' ')         # visit parent node \n",
    "        in_order(root.right)       # go to right subtree"
   ]
  },
  {
   "cell_type": "code",
   "execution_count": 8,
   "id": "68c9550c-65a8-4069-832a-bd1af8ae0826",
   "metadata": {},
   "outputs": [
    {
     "name": "stdout",
     "output_type": "stream",
     "text": [
      "Inorder traversal \n",
      "8 4 9 2 10 5 11 1 12 6 13 3 14 7 15 "
     ]
    }
   ],
   "source": [
    "print(\"Inorder traversal \")\n",
    "in_order(root)"
   ]
  },
  {
   "cell_type": "markdown",
   "id": "90ebeb78-a9ed-42ed-8137-31ab355b5fd1",
   "metadata": {},
   "source": [
    "<h3><i>PostOrder Traversal</i></h3>"
   ]
  },
  {
   "cell_type": "code",
   "execution_count": 9,
   "id": "6beb49a5-a0dc-413f-95f9-04ddd9a1d1ed",
   "metadata": {},
   "outputs": [],
   "source": [
    "# recusive inorder traversal\n",
    "def post_order(root):\n",
    "    '''\n",
    "        post_order traversal: \n",
    "            1. go to left subtree\n",
    "            2. go to right subtree\n",
    "            3. visit parent node node\n",
    "    '''\n",
    "    if root:    # if tree not empty\n",
    "        post_order(root.left)       # go to left subtree\n",
    "        post_order(root.right)       # go to right subtree\n",
    "        print(str(root.val), end=' ')         # visit parent node"
   ]
  },
  {
   "cell_type": "code",
   "execution_count": 10,
   "id": "5c3ff811-b532-4bc9-96fa-6fd656784b5f",
   "metadata": {},
   "outputs": [
    {
     "name": "stdout",
     "output_type": "stream",
     "text": [
      "\n",
      "Postorder traversal \n",
      "8 9 4 10 11 5 2 12 13 6 14 15 7 3 1 "
     ]
    }
   ],
   "source": [
    "print(\"\\nPostorder traversal \")\n",
    "post_order(root)"
   ]
  }
 ],
 "metadata": {
  "kernelspec": {
   "display_name": "Python 3 (ipykernel)",
   "language": "python",
   "name": "python3"
  },
  "language_info": {
   "codemirror_mode": {
    "name": "ipython",
    "version": 3
   },
   "file_extension": ".py",
   "mimetype": "text/x-python",
   "name": "python",
   "nbconvert_exporter": "python",
   "pygments_lexer": "ipython3",
   "version": "3.10.12"
  }
 },
 "nbformat": 4,
 "nbformat_minor": 5
}
