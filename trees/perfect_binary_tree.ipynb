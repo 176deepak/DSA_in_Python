{
 "cells": [
  {
   "cell_type": "markdown",
   "id": "5dd97970-9fcc-4858-b88d-4ecb0de3e82c",
   "metadata": {},
   "source": [
    "<h1 style=\"\n",
    "    text-align:center; \n",
    "    font-size:40px; \n",
    "    font-weight: bold;\n",
    "    font-family: 'Lucida Console', 'Courier New', 'monospace'; \n",
    "    color:blue\n",
    "\">\n",
    "    Perfect Binary Tree\n",
    "</h1>"
   ]
  },
  {
   "cell_type": "markdown",
   "id": "ec62380c-42b7-4f48-9dd6-12ad3b9c035e",
   "metadata": {},
   "source": [
    "## Theory\n",
    "<hr>\n",
    "\n",
    "A perfect binary tree is a specific type of binary tree in which all levels are completely filled with nodes, and every leaf node is at the same level. In other words, a perfect binary tree is a full binary tree with the additional constraint that all leaf nodes are at the maximum depth of the tree. \n",
    "\n",
    "Here are the key characteristics of a perfect binary tree:\n",
    "1. **Full Binary Tree**: A perfect binary tree is a full binary tree, which means that every non-leaf node has exactly two children. This results in a balanced and well-structured tree.\n",
    "2. **All Levels Filled**: All levels of the tree, except for the last level, are completely filled with nodes. The last level is filled from left to right, and it contains all the leaf nodes.\n",
    "3. **Uniform Depth**: Since all levels are filled, every leaf node in a perfect binary tree is at the same depth or level, and there is no variation in the depths of nodes.\n",
    "\n",
    "Applications and advantages of perfect binary trees:\n",
    "1. **Memory Efficiency**: Perfect binary trees can be efficiently represented using arrays, similar to full binary trees. The indexing of nodes in the array corresponds to their positions in the tree, making it memory-efficient.\n",
    "2. **Binary Search Trees (BSTs)**: Some specialized binary search trees, known as perfect binary search trees, are also perfect binary trees. These trees provide efficient search, insertion, and deletion operations due to their balanced structure.\n",
    "3. **Efficient Sorting**: Perfect binary trees are used in sorting algorithms like heap sort, which rely on a complete binary tree structure for efficient sorting.\n",
    "4. **Binary Heaps**: Binary heaps used in priority queues are often implemented as perfect binary trees. They offer efficient operations for both inserting elements and retrieving the highest-priority element.\n",
    "\n",
    "In summary, a perfect binary tree is a full binary tree with the added property that all levels are completely filled, and all leaf nodes are at the same depth. This structure has practical applications in data storage, search structures, sorting algorithms, and priority queues due to its balanced and efficient properties."
   ]
  },
  {
   "cell_type": "code",
   "execution_count": 1,
   "id": "036d3912-12c4-48cc-94fc-ae25a4182ba7",
   "metadata": {},
   "outputs": [],
   "source": [
    "# tree structure\n",
    "class Tree:\n",
    "    '''\n",
    "        perfect binary tree\n",
    "    '''\n",
    "    def __init__(self, key):\n",
    "        self.val = key          # node value\n",
    "        self.left_child = None          # left subtree\n",
    "        self.right_child = None         # right subtree "
   ]
  },
  {
   "cell_type": "code",
   "execution_count": 2,
   "id": "e459e6cb-231c-4e47-97d2-af1206d6e895",
   "metadata": {},
   "outputs": [],
   "source": [
    "# adding nodes in tree\n",
    "\n",
    "# level ---> 0\n",
    "root_node = Tree(1)\n",
    "\n",
    "# level ---> 1\n",
    "root_node.left_child = Tree(2)\n",
    "root_node.right_child = Tree(3)\n",
    "\n",
    "# level ---> 2\n",
    "root_node.left_child.left_child = Tree(4)\n",
    "root_node.left_child.right_child = Tree(5)"
   ]
  },
  {
   "cell_type": "code",
   "execution_count": 3,
   "id": "9dc3a431-5c96-4a9c-aaeb-fb4d12bc9e7f",
   "metadata": {},
   "outputs": [],
   "source": [
    "# depth of tree\n",
    "def tree_depth(tree):\n",
    "    depth = 0       # depth in starting\n",
    "    while (tree is not None):    # iterating till leaf node \n",
    "        depth += 1        # increasing depth by 1\n",
    "        tree = tree.left_child      # go to next left subtree\n",
    "    return depth"
   ]
  },
  {
   "cell_type": "code",
   "execution_count": 4,
   "id": "58de14d2-f2f1-4db3-9b6d-dc63812512a1",
   "metadata": {},
   "outputs": [],
   "source": [
    "# check binary tree\n",
    "def is_perfect_tree(tree, depth, level = 0):\n",
    "    # status of tree, whether a tree is perfect tree or not\n",
    "    flag = False\n",
    "\n",
    "    # if tree not have any node\n",
    "    if tree is None:\n",
    "        flag = True\n",
    "        return flag\n",
    "\n",
    "    # checks leafs node are at same level or not\n",
    "    if ((tree.left_child is None) and (tree.right_child)):\n",
    "        if depth == level + 1:\n",
    "            flag = True\n",
    "        return flag\n",
    "\n",
    "    # if any one subtree not have child nodes at same lavel\n",
    "    if ((tree.left_child is None) or (tree.right_child is None)):\n",
    "        return flag\n",
    "\n",
    "    return (is_perfect_tree(tree.left_child, depth, level+1) and is_perfect_tree(tree.right_child, depth, level+1))"
   ]
  },
  {
   "cell_type": "code",
   "execution_count": 5,
   "id": "7891ff98-ba46-40c7-95ce-58fd78d923eb",
   "metadata": {},
   "outputs": [
    {
     "name": "stdout",
     "output_type": "stream",
     "text": [
      "The tree is not a perfect binary tree\n"
     ]
    }
   ],
   "source": [
    "if (is_perfect_tree(root_node, tree_depth(root_node))):\n",
    "    print(\"The tree is a perfect binary tree\")\n",
    "else:\n",
    "    print(\"The tree is not a perfect binary tree\")"
   ]
  },
  {
   "cell_type": "markdown",
   "id": "c489ea5b-fe87-44a4-b51a-c42832b3d77b",
   "metadata": {},
   "source": [
    "<h1 style=\"\n",
    "    text-align:center; \n",
    "    font-size:80px; \n",
    "    font-family: 'Brush Script MT', cursive; \n",
    "    color:blue\n",
    "\">\n",
    "    Thankyou\n",
    "</h1>"
   ]
  }
 ],
 "metadata": {
  "kernelspec": {
   "display_name": "Python 3 (ipykernel)",
   "language": "python",
   "name": "python3"
  },
  "language_info": {
   "codemirror_mode": {
    "name": "ipython",
    "version": 3
   },
   "file_extension": ".py",
   "mimetype": "text/x-python",
   "name": "python",
   "nbconvert_exporter": "python",
   "pygments_lexer": "ipython3",
   "version": "3.10.12"
  }
 },
 "nbformat": 4,
 "nbformat_minor": 5
}
