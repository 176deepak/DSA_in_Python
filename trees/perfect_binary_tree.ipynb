{
 "cells": [
  {
   "cell_type": "markdown",
   "id": "5dd97970-9fcc-4858-b88d-4ecb0de3e82c",
   "metadata": {},
   "source": [
    "<h1 style=\"text-align:center; color:crimson; font-family: cursive\">Perfect Binary Tree</h1>"
   ]
  },
  {
   "cell_type": "code",
   "execution_count": 1,
   "id": "036d3912-12c4-48cc-94fc-ae25a4182ba7",
   "metadata": {},
   "outputs": [],
   "source": [
    "# tree structure\n",
    "class Tree:\n",
    "    '''\n",
    "        perfect binary tree\n",
    "    '''\n",
    "    def __init__(self, key):\n",
    "        self.val = key          # node value\n",
    "        self.left_child = None          # left subtree\n",
    "        self.right_child = None         # right subtree "
   ]
  },
  {
   "cell_type": "code",
   "execution_count": 2,
   "id": "e459e6cb-231c-4e47-97d2-af1206d6e895",
   "metadata": {},
   "outputs": [],
   "source": [
    "# adding nodes in tree\n",
    "\n",
    "# level ---> 0\n",
    "root_node = Tree(1)\n",
    "\n",
    "# level ---> 1\n",
    "root_node.left_child = Tree(2)\n",
    "root_node.right_child = Tree(3)\n",
    "\n",
    "# level ---> 2\n",
    "root_node.left_child.left_child = Tree(4)\n",
    "root_node.left_child.right_child = Tree(5)"
   ]
  },
  {
   "cell_type": "code",
   "execution_count": 3,
   "id": "9dc3a431-5c96-4a9c-aaeb-fb4d12bc9e7f",
   "metadata": {},
   "outputs": [],
   "source": [
    "# depth of tree\n",
    "def tree_depth(tree):\n",
    "    depth = 0       # depth in starting\n",
    "    while (tree is not None):    # iterating till leaf node \n",
    "        depth += 1        # increasing depth by 1\n",
    "        tree = tree.left_child      # go to next left subtree\n",
    "    return depth"
   ]
  },
  {
   "cell_type": "code",
   "execution_count": 4,
   "id": "58de14d2-f2f1-4db3-9b6d-dc63812512a1",
   "metadata": {},
   "outputs": [],
   "source": [
    "# check binary tree\n",
    "def is_perfect_tree(tree, depth, level = 0):\n",
    "    # status of tree, whether a tree is perfect tree or not\n",
    "    flag = False\n",
    "\n",
    "    # if tree not have any node\n",
    "    if tree is None:\n",
    "        flag = True\n",
    "        return flag\n",
    "\n",
    "    # checks leafs node are at same level or not\n",
    "    if ((tree.left_child is None) and (tree.right_child)):\n",
    "        if depth == level + 1:\n",
    "            flag = True\n",
    "        return flag\n",
    "\n",
    "    # if any one subtree not have child nodes at same lavel\n",
    "    if ((tree.left_child is None) or (tree.right_child is None)):\n",
    "        return flag\n",
    "\n",
    "    return (is_perfect_tree(tree.left_child, depth, level+1) and is_perfect_tree(tree.right_child, depth, level+1))"
   ]
  },
  {
   "cell_type": "code",
   "execution_count": 5,
   "id": "7891ff98-ba46-40c7-95ce-58fd78d923eb",
   "metadata": {},
   "outputs": [
    {
     "name": "stdout",
     "output_type": "stream",
     "text": [
      "The tree is not a perfect binary tree\n"
     ]
    }
   ],
   "source": [
    "if (is_perfect_tree(root_node, tree_depth(root_node))):\n",
    "    print(\"The tree is a perfect binary tree\")\n",
    "else:\n",
    "    print(\"The tree is not a perfect binary tree\")"
   ]
  }
 ],
 "metadata": {
  "kernelspec": {
   "display_name": "Python 3 (ipykernel)",
   "language": "python",
   "name": "python3"
  },
  "language_info": {
   "codemirror_mode": {
    "name": "ipython",
    "version": 3
   },
   "file_extension": ".py",
   "mimetype": "text/x-python",
   "name": "python",
   "nbconvert_exporter": "python",
   "pygments_lexer": "ipython3",
   "version": "3.10.12"
  }
 },
 "nbformat": 4,
 "nbformat_minor": 5
}
