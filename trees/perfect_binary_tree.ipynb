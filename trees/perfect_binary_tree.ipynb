{
 "cells": [
  {
   "cell_type": "markdown",
   "id": "5dd97970-9fcc-4858-b88d-4ecb0de3e82c",
   "metadata": {},
   "source": [
    "<h1 style=\"text-align:center; color:blue; font-family: cursive\">Perfect Binary Tree</h1>"
   ]
  },
  {
   "cell_type": "code",
   "execution_count": null,
   "id": "036d3912-12c4-48cc-94fc-ae25a4182ba7",
   "metadata": {},
   "outputs": [],
   "source": []
  }
 ],
 "metadata": {
  "kernelspec": {
   "display_name": "Python 3 (ipykernel)",
   "language": "python",
   "name": "python3"
  },
  "language_info": {
   "codemirror_mode": {
    "name": "ipython",
    "version": 3
   },
   "file_extension": ".py",
   "mimetype": "text/x-python",
   "name": "python",
   "nbconvert_exporter": "python",
   "pygments_lexer": "ipython3",
   "version": "3.10.12"
  }
 },
 "nbformat": 4,
 "nbformat_minor": 5
}
