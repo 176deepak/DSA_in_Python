{
 "cells": [
  {
   "cell_type": "markdown",
   "id": "f1723051-078c-4e04-ad81-dcbf8029203b",
   "metadata": {},
   "source": [
    "# Balanced Binary Tree"
   ]
  },
  {
   "cell_type": "code",
   "execution_count": 1,
   "id": "8eca33e2-fc1b-45c3-aff3-3df95e060c72",
   "metadata": {},
   "outputs": [],
   "source": [
    "# tree structure\n",
    "class Node:\n",
    "    def __init__(self, key):\n",
    "        self.val = key\n",
    "        self.left_child = None\n",
    "        self.right_child = None"
   ]
  },
  {
   "cell_type": "code",
   "execution_count": 2,
   "id": "063b1b3e-74ac-4138-b31d-37f25f34d126",
   "metadata": {},
   "outputs": [],
   "source": [
    "# inserting nodes\n",
    "root = Node(1)\n",
    "root.left_child = Node(2)\n",
    "root.right_child = Node(3)\n",
    "root.left_child.left_child = Node(4)\n",
    "root.left_child.right_child = Node(5)"
   ]
  },
  {
   "cell_type": "code",
   "execution_count": 3,
   "id": "3a6a804b-51cf-48b1-be44-10e450fa338d",
   "metadata": {},
   "outputs": [],
   "source": [
    "# hight of tree\n",
    "class Height:\n",
    "    def __init__(self):\n",
    "        self.height = 0\n",
    "\n",
    "# check difference\n",
    "def isHeightBalanced(root, height):\n",
    "    # object for left tree hight\n",
    "    left_height = Height()\n",
    "    # object for right tree heigt\n",
    "    right_height = Height()\n",
    "\n",
    "    if root is None:\n",
    "        return True\n",
    "\n",
    "    l = isHeightBalanced(root.left_child, left_height)\n",
    "    r = isHeightBalanced(root.right_child, right_height)\n",
    "\n",
    "    height.height = max(left_height.height, right_height.height) + 1\n",
    "\n",
    "    if abs(left_height.height - right_height.height) <= 1:\n",
    "        return l and r\n",
    "\n",
    "    return False"
   ]
  },
  {
   "cell_type": "code",
   "execution_count": 4,
   "id": "1388e22b-1820-4fe9-a441-af7e9df6dd44",
   "metadata": {},
   "outputs": [
    {
     "name": "stdout",
     "output_type": "stream",
     "text": [
      "The tree is balanced\n"
     ]
    }
   ],
   "source": [
    "height = Height()\n",
    "\n",
    "if isHeightBalanced(root,  height):\n",
    "    print('The tree is balanced')\n",
    "else:\n",
    "    print('The tree is not balanced')"
   ]
  }
 ],
 "metadata": {
  "kernelspec": {
   "display_name": "Python 3 (ipykernel)",
   "language": "python",
   "name": "python3"
  },
  "language_info": {
   "codemirror_mode": {
    "name": "ipython",
    "version": 3
   },
   "file_extension": ".py",
   "mimetype": "text/x-python",
   "name": "python",
   "nbconvert_exporter": "python",
   "pygments_lexer": "ipython3",
   "version": "3.10.12"
  }
 },
 "nbformat": 4,
 "nbformat_minor": 5
}
