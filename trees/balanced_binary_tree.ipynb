{
 "cells": [
  {
   "cell_type": "markdown",
   "id": "f1723051-078c-4e04-ad81-dcbf8029203b",
   "metadata": {},
   "source": [
    "<h1 style=\"\n",
    "    text-align:center; \n",
    "    font-size:40px; \n",
    "    font-weight: bold;\n",
    "    font-family: 'Lucida Console', 'Courier New', 'monospace'; \n",
    "    color:blue\n",
    "\">\n",
    "    Balanced Binary Tree\n",
    "</h1>"
   ]
  },
  {
   "cell_type": "markdown",
   "id": "2fee2184-17fa-4514-9886-597f88ab4ebc",
   "metadata": {},
   "source": [
    "## Theory\n",
    "<hr>\n",
    "\n",
    "A balanced binary tree is a specific type of binary tree in which the height of the left and right subtrees of any node differ by at most one. In other words, the tree is structured in a way that ensures it remains relatively balanced, preventing it from degenerating into a skewed or unbalanced tree. The balance factor of a node is defined as the height of its left subtree minus the height of its right subtree. In a balanced binary tree, the balance factor of every node is between -1, 0, or 1. Balanced binary trees are designed to maintain efficient operations for searching, insertion, and deletion. \n",
    "\n",
    "Some common types of balanced binary trees include:\n",
    "1. **AVL Trees**:\n",
    "   - An AVL (Adelson-Velsky and Landis) tree is a self-balancing binary search tree. It enforces the height balance property, ensuring that the difference in the heights of the left and right subtrees of any node is at most one.\n",
    "   - AVL trees use rotations to maintain balance after insertions and deletions.\n",
    "2. **Red-Black Trees**:\n",
    "   - A red-black tree is another type of self-balancing binary search tree.\n",
    "   - It enforces balance through a set of rules that involve coloring nodes red and black and performing rotations.\n",
    "   - Red-black trees are used in many standard libraries and implementations due to their relatively simpler balance maintenance compared to AVL trees.\n",
    "3. **Splay Trees**:\n",
    "   - Splay trees are self-adjusting binary search trees that reorganize themselves based on the access patterns of elements.\n",
    "   - Splaying operations bring frequently accessed nodes closer to the root, which can help maintain some level of balance.\n",
    "\n",
    "The main advantage of balanced binary trees is that they provide guaranteed logarithmic time complexity for common operations like insertion, deletion, and search, ensuring that these operations are efficient even when the tree is large. Balanced binary trees are commonly used in various applications where you need to maintain sorted data efficiently. For example, they are often employed in database indexing, as well as in the implementation of various data structures such as sets, maps, and associative arrays. Their self-balancing properties make them a valuable tool for maintaining order and optimizing search operations."
   ]
  },
  {
   "cell_type": "code",
   "execution_count": 1,
   "id": "8eca33e2-fc1b-45c3-aff3-3df95e060c72",
   "metadata": {},
   "outputs": [],
   "source": [
    "# tree structure\n",
    "class Node:\n",
    "    def __init__(self, key):\n",
    "        # node's value\n",
    "        self.val = key\n",
    "        # node's left child\n",
    "        self.left_child = None\n",
    "        # node's right child\n",
    "        self.right_child = None"
   ]
  },
  {
   "cell_type": "code",
   "execution_count": 2,
   "id": "063b1b3e-74ac-4138-b31d-37f25f34d126",
   "metadata": {},
   "outputs": [],
   "source": [
    "# inserting nodes\n",
    "root = Node(1)\n",
    "root.left_child = Node(2)\n",
    "root.right_child = Node(3)\n",
    "root.left_child.left_child = Node(4)\n",
    "root.left_child.right_child = Node(5)"
   ]
  },
  {
   "cell_type": "code",
   "execution_count": 3,
   "id": "3a6a804b-51cf-48b1-be44-10e450fa338d",
   "metadata": {},
   "outputs": [],
   "source": [
    "# Define a class to hold the height of a tree\n",
    "class Height:\n",
    "    def __init__(self):\n",
    "        self.height = 0\n",
    "\n",
    "# Function to check if a binary tree is height-balanced\n",
    "def isHeightBalanced(root, height):\n",
    "    # Create an object to store the height of the left subtree\n",
    "    left_height = Height()\n",
    "    # Create an object to store the height of the right subtree\n",
    "    right_height = Height()\n",
    "\n",
    "    # Base case: If the root is None (an empty tree), it is balanced\n",
    "    if root is None:\n",
    "        return True\n",
    "\n",
    "    # Recursively check if the left subtree is balanced and get its height\n",
    "    l = isHeightBalanced(root.left_child, left_height)\n",
    "    # Recursively check if the right subtree is balanced and get its height\n",
    "    r = isHeightBalanced(root.right_child, right_height)\n",
    "\n",
    "    # Update the height of the current node to be the maximum of the left and right subtree heights, plus 1\n",
    "    height.height = max(left_height.height, right_height.height) + 1\n",
    "\n",
    "    # Check if the absolute difference in heights between the left and right subtrees is less than or equal to 1\n",
    "    if abs(left_height.height - right_height.height) <= 1:\n",
    "        # If the height difference is within the allowed limit, return True (the tree is balanced)\n",
    "        return l and r\n",
    "\n",
    "    # If the height difference is greater than 1, the tree is not balanced, so return False\n",
    "    return False"
   ]
  },
  {
   "cell_type": "code",
   "execution_count": 4,
   "id": "1388e22b-1820-4fe9-a441-af7e9df6dd44",
   "metadata": {},
   "outputs": [
    {
     "name": "stdout",
     "output_type": "stream",
     "text": [
      "The tree is balanced\n"
     ]
    }
   ],
   "source": [
    "height = Height()\n",
    "\n",
    "if isHeightBalanced(root,  height):\n",
    "    print('The tree is balanced')\n",
    "else:\n",
    "    print('The tree is not balanced')"
   ]
  },
  {
   "cell_type": "markdown",
   "id": "e7e224cc-d6c8-42d1-b43c-09c464e8e133",
   "metadata": {},
   "source": [
    "<h1 style=\"\n",
    "    text-align:center; \n",
    "    font-size:80px; \n",
    "    font-family: 'Brush Script MT', cursive; \n",
    "    color:blue\n",
    "\">\n",
    "    Thankyou\n",
    "</h1>"
   ]
  }
 ],
 "metadata": {
  "kernelspec": {
   "display_name": "Python 3 (ipykernel)",
   "language": "python",
   "name": "python3"
  },
  "language_info": {
   "codemirror_mode": {
    "name": "ipython",
    "version": 3
   },
   "file_extension": ".py",
   "mimetype": "text/x-python",
   "name": "python",
   "nbconvert_exporter": "python",
   "pygments_lexer": "ipython3",
   "version": "3.10.12"
  }
 },
 "nbformat": 4,
 "nbformat_minor": 5
}
