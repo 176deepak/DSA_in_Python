{
 "cells": [
  {
   "cell_type": "markdown",
   "id": "96a307f2-55e2-43b1-a77f-08185a7401d9",
   "metadata": {},
   "source": [
    "# Doubly Linked List"
   ]
  },
  {
   "cell_type": "code",
   "execution_count": 7,
   "id": "e05e2476-4868-49d6-ade1-a16f0a62e3aa",
   "metadata": {},
   "outputs": [],
   "source": [
    "# node for doubly linked list\n",
    "\n",
    "class Node:\n",
    "    def __init__(self, data):\n",
    "        self.left = None\n",
    "        self.data = data\n",
    "        self.right = None"
   ]
  },
  {
   "cell_type": "code",
   "execution_count": 9,
   "id": "ea45c395-aa28-4666-9a74-db0a44087045",
   "metadata": {},
   "outputs": [
    {
     "name": "stdout",
     "output_type": "stream",
     "text": [
      "Operations on LinkedList: \n",
      "1.insert at begining.\n",
      "9.show elements\n",
      "10.exit\n"
     ]
    },
    {
     "name": "stdin",
     "output_type": "stream",
     "text": [
      "Enter your choice:  1\n",
      "Enter data:  10\n"
     ]
    },
    {
     "name": "stdout",
     "output_type": "stream",
     "text": [
      "10 added successfully at begining.\n"
     ]
    },
    {
     "name": "stdin",
     "output_type": "stream",
     "text": [
      "Enter your choice:  1\n",
      "Enter data:  20\n"
     ]
    },
    {
     "name": "stdout",
     "output_type": "stream",
     "text": [
      "20 added successfully at begining.\n"
     ]
    },
    {
     "name": "stdin",
     "output_type": "stream",
     "text": [
      "Enter your choice:  1\n",
      "Enter data:  30\n"
     ]
    },
    {
     "name": "stdout",
     "output_type": "stream",
     "text": [
      "30 added successfully at begining.\n"
     ]
    },
    {
     "name": "stdin",
     "output_type": "stream",
     "text": [
      "Enter your choice:  1\n",
      "Enter data:  40\n"
     ]
    },
    {
     "name": "stdout",
     "output_type": "stream",
     "text": [
      "40 added successfully at begining.\n"
     ]
    },
    {
     "name": "stdin",
     "output_type": "stream",
     "text": [
      "Enter your choice:  1\n",
      "Enter data:  50\n"
     ]
    },
    {
     "name": "stdout",
     "output_type": "stream",
     "text": [
      "50 added successfully at begining.\n"
     ]
    },
    {
     "name": "stdin",
     "output_type": "stream",
     "text": [
      "Enter your choice:  9\n"
     ]
    },
    {
     "name": "stdout",
     "output_type": "stream",
     "text": [
      "LinkedList: "
     ]
    },
    {
     "name": "stdin",
     "output_type": "stream",
     "text": [
      "Enter your choice:  10\n"
     ]
    }
   ],
   "source": [
    "class DoublyLL:\n",
    "    def __init__(self):\n",
    "        self.left_add = None\n",
    "        self.start = None\n",
    "        self.right_add = None\n",
    "\n",
    "    '''\n",
    "    Insertion operation:-\n",
    "    1. at the begining of the list\n",
    "    2. at the end of the list\n",
    "    3. after a given element\n",
    "    4. insert before a given element\n",
    "    '''\n",
    "\n",
    "    def insert_at_beg(self, data):\n",
    "        if self.start == None:\n",
    "            self.start = Node(data = data)\n",
    "        print(f\"{data} added successfully at begining.\")\n",
    "\n",
    "    def show(self):\n",
    "        if self.start == None:\n",
    "            print(\"Linked list is empty.\")\n",
    "        else:\n",
    "            print(\"LinkedList: \", end = \"\")\n",
    "            iter = self.start\n",
    "\n",
    "            while iter.right != None:\n",
    "                print(iter.data, end=\" \")\n",
    "                iter = iter.right\n",
    "\n",
    "\n",
    "LL = DoublyLL()\n",
    "\n",
    "print(\"Operations on LinkedList: \\n1.insert at begining.\\n9.show elements\\n10.exit\")\n",
    "\n",
    "while True:\n",
    "    choice = int(input(\"Enter your choice: \"))\n",
    "\n",
    "    if choice == 1:\n",
    "        data = int(input(\"Enter data: \"))\n",
    "        LL.insert_at_beg(data)\n",
    "    elif choice == 9:\n",
    "        LL.show()\n",
    "    elif choice == 10:\n",
    "        break"
   ]
  },
  {
   "cell_type": "code",
   "execution_count": null,
   "id": "02c0538a-c8a9-4b9a-b660-d7ad748460b8",
   "metadata": {},
   "outputs": [],
   "source": []
  }
 ],
 "metadata": {
  "kernelspec": {
   "display_name": "Python 3 (ipykernel)",
   "language": "python",
   "name": "python3"
  },
  "language_info": {
   "codemirror_mode": {
    "name": "ipython",
    "version": 3
   },
   "file_extension": ".py",
   "mimetype": "text/x-python",
   "name": "python",
   "nbconvert_exporter": "python",
   "pygments_lexer": "ipython3",
   "version": "3.10.12"
  }
 },
 "nbformat": 4,
 "nbformat_minor": 5
}
