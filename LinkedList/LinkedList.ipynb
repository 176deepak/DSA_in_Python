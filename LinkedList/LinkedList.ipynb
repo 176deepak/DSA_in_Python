{
 "cells": [
  {
   "cell_type": "markdown",
   "id": "37c5afef-969d-4eca-abaf-aab718a4e584",
   "metadata": {},
   "source": [
    "# Linked List"
   ]
  },
  {
   "cell_type": "markdown",
   "id": "f6b3dfa7-abaa-419b-8c3d-3fe224baa55c",
   "metadata": {},
   "source": [
    "## Program of Singly/Linear LinkedList"
   ]
  },
  {
   "cell_type": "code",
   "execution_count": 11,
   "id": "3ab3e0d3-8d03-4293-b46d-7b3b6fb17665",
   "metadata": {},
   "outputs": [
    {
     "name": "stdout",
     "output_type": "stream",
     "text": [
      "LinkedList operarions:-\n",
      "1.Inserting an element at beginning\n",
      "2.Inserting an element at last\n",
      "3.Inserting an element at specified location\n",
      "4.Deletion at beginning\n",
      "5.Deletion at last\n",
      "6.Deletion at specified location\n",
      "7.Searching an element\n",
      "8.Deleting the entire list\n",
      "9.Delete entire list\n",
      "10.Exit\n"
     ]
    },
    {
     "name": "stdin",
     "output_type": "stream",
     "text": [
      "Enter your choice:  1\n",
      "Enter element's value:  10\n"
     ]
    },
    {
     "name": "stdout",
     "output_type": "stream",
     "text": [
      "Element 10 added successfully(beginning)\n"
     ]
    },
    {
     "name": "stdin",
     "output_type": "stream",
     "text": [
      "Enter your choice:  1\n",
      "Enter element's value:  20\n"
     ]
    },
    {
     "name": "stdout",
     "output_type": "stream",
     "text": [
      "Element 20 added successfully(beginning)\n"
     ]
    },
    {
     "name": "stdin",
     "output_type": "stream",
     "text": [
      "Enter your choice:  1\n",
      "Enter element's value:  30\n"
     ]
    },
    {
     "name": "stdout",
     "output_type": "stream",
     "text": [
      "Element 30 added successfully(beginning)\n"
     ]
    },
    {
     "name": "stdin",
     "output_type": "stream",
     "text": [
      "Enter your choice:  1\n",
      "Enter element's value:  40\n"
     ]
    },
    {
     "name": "stdout",
     "output_type": "stream",
     "text": [
      "Element 40 added successfully(beginning)\n"
     ]
    },
    {
     "name": "stdin",
     "output_type": "stream",
     "text": [
      "Enter your choice:  1\n",
      "Enter element's value:  50\n"
     ]
    },
    {
     "name": "stdout",
     "output_type": "stream",
     "text": [
      "Element 50 added successfully(beginning)\n"
     ]
    },
    {
     "name": "stdin",
     "output_type": "stream",
     "text": [
      "Enter your choice:  4\n"
     ]
    },
    {
     "name": "stdout",
     "output_type": "stream",
     "text": [
      "Deleted element(at beginning) 50\n"
     ]
    },
    {
     "name": "stdin",
     "output_type": "stream",
     "text": [
      "Enter your choice:  9\n"
     ]
    },
    {
     "name": "stdout",
     "output_type": "stream",
     "text": [
      "Elements in LinkedList: 40 30 20 10 \n",
      "\n"
     ]
    },
    {
     "name": "stdin",
     "output_type": "stream",
     "text": [
      "Enter your choice:  5\n",
      "Enter element's Location:  2\n"
     ]
    },
    {
     "name": "stdout",
     "output_type": "stream",
     "text": [
      "Deleted element(at index) 20\n"
     ]
    },
    {
     "name": "stdin",
     "output_type": "stream",
     "text": [
      "Enter your choice:  9\n"
     ]
    },
    {
     "name": "stdout",
     "output_type": "stream",
     "text": [
      "Elements in LinkedList: 40 30 10 \n",
      "\n"
     ]
    },
    {
     "name": "stdin",
     "output_type": "stream",
     "text": [
      "Enter your choice:  6\n"
     ]
    },
    {
     "name": "stdout",
     "output_type": "stream",
     "text": [
      "Deleted element(at last) 10\n"
     ]
    },
    {
     "name": "stdin",
     "output_type": "stream",
     "text": [
      "Enter your choice:  9\n"
     ]
    },
    {
     "name": "stdout",
     "output_type": "stream",
     "text": [
      "Elements in LinkedList: 40 30 \n",
      "\n"
     ]
    },
    {
     "name": "stdin",
     "output_type": "stream",
     "text": [
      "Enter your choice:  1\n",
      "Enter element's value:  10\n"
     ]
    },
    {
     "name": "stdout",
     "output_type": "stream",
     "text": [
      "Element 10 added successfully(beginning)\n"
     ]
    },
    {
     "name": "stdin",
     "output_type": "stream",
     "text": [
      "Enter your choice:  1\n",
      "Enter element's value:  20\n"
     ]
    },
    {
     "name": "stdout",
     "output_type": "stream",
     "text": [
      "Element 20 added successfully(beginning)\n"
     ]
    },
    {
     "name": "stdin",
     "output_type": "stream",
     "text": [
      "Enter your choice:  1\n",
      "Enter element's value:  9\n"
     ]
    },
    {
     "name": "stdout",
     "output_type": "stream",
     "text": [
      "Element 9 added successfully(beginning)\n"
     ]
    },
    {
     "name": "stdin",
     "output_type": "stream",
     "text": [
      "Enter your choice:  9\n"
     ]
    },
    {
     "name": "stdout",
     "output_type": "stream",
     "text": [
      "Elements in LinkedList: 9 20 10 40 30 \n",
      "\n"
     ]
    },
    {
     "name": "stdin",
     "output_type": "stream",
     "text": [
      "Enter your choice:  7\n",
      "Enter element's value:  10\n"
     ]
    },
    {
     "name": "stdout",
     "output_type": "stream",
     "text": [
      "Element found at 2 index\n"
     ]
    },
    {
     "name": "stdin",
     "output_type": "stream",
     "text": [
      "Enter your choice:  8\n"
     ]
    },
    {
     "name": "stdout",
     "output_type": "stream",
     "text": [
      "Deleted list:  9 20 10 40 30 "
     ]
    },
    {
     "name": "stdin",
     "output_type": "stream",
     "text": [
      "Enter your choice:  9\n"
     ]
    },
    {
     "name": "stdout",
     "output_type": "stream",
     "text": [
      "LinkedList is empty.\n"
     ]
    },
    {
     "name": "stdin",
     "output_type": "stream",
     "text": [
      "Enter your choice:  10\n"
     ]
    }
   ],
   "source": [
    "class Node:\n",
    "    def __init__(self, data):\n",
    "        self.data = data\n",
    "        self.next = None\n",
    "\n",
    "class SinglyLL:\n",
    "    def __init__(self):\n",
    "        self.start = None\n",
    "        self.next = None\n",
    "\n",
    "    def insert_at_beg(self, data):\n",
    "        if self.start == None:\n",
    "            self.start = Node(data)\n",
    "            self.next = self.start\n",
    "        else:\n",
    "            tmp_node = Node(data)\n",
    "            tmp_node.next = self.start\n",
    "            self.start = tmp_node\n",
    "        print(f\"Element {data} added successfully(beginning)\") \n",
    "\n",
    "    def insert_at_loc(self, value, loc):\n",
    "        if self.start == None:\n",
    "            print(\"Underflow! LinkedList is empty.\")\n",
    "        else:\n",
    "            ptr = self.start\n",
    "            c = 1\n",
    "            \n",
    "            while (c != loc) and (ptr.next != None):\n",
    "                c = c+1\n",
    "                ptr = ptr.next\n",
    "                \n",
    "            if (ptr.next == None):\n",
    "                print(\"Specified node is not found.\")\n",
    "            else:\n",
    "                newNode = Node(value)\n",
    "                newNode.next = ptr.next\n",
    "                ptr.next = newNode\n",
    "        print(\"Element added successfully(\",loc,\"index).\")\n",
    "    \n",
    "    def insert_at_last(self, value):\n",
    "        if self.start == None:\n",
    "            self.start = Node(value)\n",
    "            self.next = self.start\n",
    "        else:\n",
    "            newNode = Node(value)\n",
    "            self.next.next = newNode\n",
    "            self.next = newNode\n",
    "        print(\"Element added successfully(last).\")\n",
    "        \n",
    "    def del_f_start(self):\n",
    "        if self.start == None:\n",
    "            print(\"Underflow! LinkedList is empty.\")\n",
    "        else:\n",
    "            print(\"Deleted element(at beginning)\", self.start.data)\n",
    "            self.start = self.start.next\n",
    "    \n",
    "    def del_f_loc(self, loc):\n",
    "        if self.start == None:\n",
    "            print(\"Underflow! LinkedList is empty.\")\n",
    "        else:\n",
    "            ptr1 = self.start\n",
    "            c = 1\n",
    "            \n",
    "            \n",
    "            while (c != loc) and (ptr1.next != None):\n",
    "                c = c+1\n",
    "                ptr1 = ptr1.next\n",
    "                \n",
    "            if (ptr1.next == None):\n",
    "                print(\"Specified node is not found.\")\n",
    "            else:\n",
    "                ptr2 = ptr1.next\n",
    "                print(\"Deleted element(at index)\", ptr2.data)\n",
    "                ptr1.next = ptr2.next\n",
    "                \n",
    "    def del_f_last(self):\n",
    "        if self.start == None:\n",
    "            print(\"Underflow! LinkedList is empty.\")\n",
    "        else:\n",
    "            ptr = self.start\n",
    "            while ptr.next != None:\n",
    "                l = ptr\n",
    "                ptr = ptr.next\n",
    "\n",
    "            print(\"Deleted element(at last)\", ptr.data)\n",
    "            self.next = l\n",
    "            self.next.next = None\n",
    "    \n",
    "    def search(self, value):\n",
    "        if self.start == None:\n",
    "            print(\"Underflow! List is empty.\")\n",
    "        else:\n",
    "            c = 0\n",
    "            ptr = self.start\n",
    "            while ptr.next != None:\n",
    "                if ptr.data == value:\n",
    "                    print(\"Element found at\",c,\"index\")\n",
    "                    break\n",
    "                else:\n",
    "                    ptr = ptr.next\n",
    "                    c = c+1\n",
    "                \n",
    "    def delete(self):\n",
    "        print(\"Deleted list: \", end=\" \")        \n",
    "        while(self.start != None):\n",
    "            print(self.start.data, end = \" \")\n",
    "            self.start = self.start.next\n",
    "    \n",
    "    def show(self):\n",
    "        if self.start != None:\n",
    "            print(\"Elements in LinkedList: \",end=\"\")\n",
    "            iter = self.start\n",
    "            while True:\n",
    "                print(iter.data, end=\" \")\n",
    "                if iter.next == None:\n",
    "                    break\n",
    "                else:\n",
    "                    iter = iter.next\n",
    "            print(\"\\n\")\n",
    "        else:\n",
    "            print(\"LinkedList is empty.\")\n",
    "\n",
    "\n",
    "ll = SinglyLL()\n",
    "\n",
    "print(\"LinkedList operarions:-\\n1.Inserting an element at beginning\\n2.Inserting an element at last\\n3.Inserting an element at specified location\\n4.Deletion at beginning\\n5.Deletion at last\\n6.Deletion at specified location\\n7.Searching an element\\n8.Deleting the entire list\\n9.Delete entire list\\n10.Exit\")\n",
    "\n",
    "while True:\n",
    "    choice = int(input(\"Enter your choice: \"))\n",
    "    if choice == 1:\n",
    "        element = int(input(\"Enter element's value: \"))\n",
    "        ll.insert_at_beg(element)\n",
    "    elif choice == 2:\n",
    "        element = int(input(\"Enter element's value: \"))\n",
    "        Location = int(input(\"Enter element's Location: \"))\n",
    "        ll.insert_at_loc(element,Location)\n",
    "    elif choice == 3:\n",
    "        element = int(input(\"Enter element's value: \"))\n",
    "        ll.insert_at_last(element)\n",
    "    elif choice == 4:\n",
    "        ll.del_f_start()\n",
    "    elif choice == 5:\n",
    "        Location = int(input(\"Enter element's Location: \"))\n",
    "        ll.del_f_loc(Location)\n",
    "    elif choice == 6:\n",
    "        ll.del_f_last()\n",
    "    elif choice == 7:\n",
    "        element = int(input(\"Enter element's value: \"))\n",
    "        ll.search(element)\n",
    "    elif choice == 8:\n",
    "        ll.delete()\n",
    "    elif choice == 9:\n",
    "        ll.show()\n",
    "    elif choice == 10:\n",
    "        break"
   ]
  },
  {
   "cell_type": "code",
   "execution_count": null,
   "id": "28a6433e-ee4b-4a2c-a7c1-28323a38d9aa",
   "metadata": {},
   "outputs": [],
   "source": []
  }
 ],
 "metadata": {
  "kernelspec": {
   "display_name": "Python 3 (ipykernel)",
   "language": "python",
   "name": "python3"
  },
  "language_info": {
   "codemirror_mode": {
    "name": "ipython",
    "version": 3
   },
   "file_extension": ".py",
   "mimetype": "text/x-python",
   "name": "python",
   "nbconvert_exporter": "python",
   "pygments_lexer": "ipython3",
   "version": "3.10.12"
  }
 },
 "nbformat": 4,
 "nbformat_minor": 5
}
