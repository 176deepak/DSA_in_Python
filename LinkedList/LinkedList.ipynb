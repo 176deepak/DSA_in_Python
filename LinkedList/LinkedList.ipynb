{
 "cells": [
  {
   "cell_type": "markdown",
   "id": "37c5afef-969d-4eca-abaf-aab718a4e584",
   "metadata": {},
   "source": [
    "<h1 style=\"text-align:center; font-size:40px; font-family: 'Lucida Console', 'Courier New', 'monospace'; color:blue \">Linked List</h1>"
   ]
  },
  {
   "cell_type": "markdown",
   "id": "8ea2efed-77aa-491b-b600-3e5d11c3a3ad",
   "metadata": {},
   "source": [
    "# Introduction\n",
    "<hr>\n",
    "A linked list is a data structure used to organize and store a collection of elements, such as data, in a linear sequence. Unlike arrays, which use contiguous memory locations to store elements, a linked list is made up of nodes, each containing data and a reference (or pointer) to the next node in the sequence. \n",
    "\n",
    "Key components of a linked list include:\n",
    "1. Node: Each element in a linked list is represented by a node. A node contains two parts:\n",
    "   - Data: This is the actual information or value associated with the element.\n",
    "   - Next : A reference or pointer to the next node in the sequence. In a singly linked list, nodes only point to the next node.\n",
    "2. Head: The head is a reference to the first node in the linked list. It serves as the starting point for traversing the list.\n",
    "3. Tail (optional): In a singly linked list, the tail is the last node, and it has a reference to `null` or the end of the list.\n",
    "\n",
    "There are several types of linked lists, including:\n",
    "1. Singly Linked List: In a singly linked list, each node has a reference to the next node, forming a unidirectional sequence. It's efficient for forward traversal but less efficient for backward traversal.\n",
    "2. Doubly Linked List: In a doubly linked list, each node has references to both the next and the previous nodes, allowing for efficient traversal in both directions. This added feature comes at the cost of increased memory usage for the extra reference.\n",
    "3. Circular Linked List: A circular linked list is a variation of singly or doubly linked lists in which the last node points back to the first node, creating a loop. This can be useful for certain applications, like representing a closed loop of items.\n",
    "\n",
    "Linked lists have several advantages and use cases:\n",
    "- Dynamic Size: Linked lists can easily grow or shrink, as nodes can be added or removed without the need to allocate or reallocate contiguous memory.\n",
    "- Insertions and Deletions: Insertions and deletions within a linked list can be performed in constant time (O(1)) if you have direct access to the node, making them efficient operations.\n",
    "- Dynamic Memory Allocation: Linked lists can be dynamically allocated in memory, making them suitable for situations where the size of the data structure is unknown or subject to change.\n",
    "However, linked lists also have some drawbacks:\n",
    "- Inefficient Random Access: Unlike arrays, linked lists do not provide constant-time access to elements at arbitrary positions. To access an element, you must traverse the list from the head, which takes O(n) time on average for a list of n elements.\n",
    "- Extra Memory Overhead: Each node in a linked list requires extra memory for the reference to the next node, which can lead to higher memory usage compared to arrays.\n",
    "\n",
    "In summary, a linked list is a fundamental data structure that provides dynamic sizing, efficient insertions and deletions, and flexibility for certain applications. The choice between a linked list and other data structures depends on the specific requirements of your program or algorithm."
   ]
  },
  {
   "cell_type": "markdown",
   "id": "5c9292a8-3805-4f14-b24e-59d11e4a1b83",
   "metadata": {},
   "source": [
    "## Implementation\n",
    "<hr>"
   ]
  },
  {
   "cell_type": "code",
   "execution_count": 11,
   "id": "3ab3e0d3-8d03-4293-b46d-7b3b6fb17665",
   "metadata": {},
   "outputs": [
    {
     "name": "stdout",
     "output_type": "stream",
     "text": [
      "LinkedList operarions:-\n",
      "1.Inserting an element at beginning\n",
      "2.Inserting an element at last\n",
      "3.Inserting an element at specified location\n",
      "4.Deletion at beginning\n",
      "5.Deletion at last\n",
      "6.Deletion at specified location\n",
      "7.Searching an element\n",
      "8.Deleting the entire list\n",
      "9.Delete entire list\n",
      "10.Exit\n"
     ]
    },
    {
     "name": "stdin",
     "output_type": "stream",
     "text": [
      "Enter your choice:  1\n",
      "Enter element's value:  10\n"
     ]
    },
    {
     "name": "stdout",
     "output_type": "stream",
     "text": [
      "Element 10 added successfully(beginning)\n"
     ]
    },
    {
     "name": "stdin",
     "output_type": "stream",
     "text": [
      "Enter your choice:  1\n",
      "Enter element's value:  20\n"
     ]
    },
    {
     "name": "stdout",
     "output_type": "stream",
     "text": [
      "Element 20 added successfully(beginning)\n"
     ]
    },
    {
     "name": "stdin",
     "output_type": "stream",
     "text": [
      "Enter your choice:  1\n",
      "Enter element's value:  30\n"
     ]
    },
    {
     "name": "stdout",
     "output_type": "stream",
     "text": [
      "Element 30 added successfully(beginning)\n"
     ]
    },
    {
     "name": "stdin",
     "output_type": "stream",
     "text": [
      "Enter your choice:  1\n",
      "Enter element's value:  40\n"
     ]
    },
    {
     "name": "stdout",
     "output_type": "stream",
     "text": [
      "Element 40 added successfully(beginning)\n"
     ]
    },
    {
     "name": "stdin",
     "output_type": "stream",
     "text": [
      "Enter your choice:  1\n",
      "Enter element's value:  50\n"
     ]
    },
    {
     "name": "stdout",
     "output_type": "stream",
     "text": [
      "Element 50 added successfully(beginning)\n"
     ]
    },
    {
     "name": "stdin",
     "output_type": "stream",
     "text": [
      "Enter your choice:  4\n"
     ]
    },
    {
     "name": "stdout",
     "output_type": "stream",
     "text": [
      "Deleted element(at beginning) 50\n"
     ]
    },
    {
     "name": "stdin",
     "output_type": "stream",
     "text": [
      "Enter your choice:  9\n"
     ]
    },
    {
     "name": "stdout",
     "output_type": "stream",
     "text": [
      "Elements in LinkedList: 40 30 20 10 \n",
      "\n"
     ]
    },
    {
     "name": "stdin",
     "output_type": "stream",
     "text": [
      "Enter your choice:  5\n",
      "Enter element's Location:  2\n"
     ]
    },
    {
     "name": "stdout",
     "output_type": "stream",
     "text": [
      "Deleted element(at index) 20\n"
     ]
    },
    {
     "name": "stdin",
     "output_type": "stream",
     "text": [
      "Enter your choice:  9\n"
     ]
    },
    {
     "name": "stdout",
     "output_type": "stream",
     "text": [
      "Elements in LinkedList: 40 30 10 \n",
      "\n"
     ]
    },
    {
     "name": "stdin",
     "output_type": "stream",
     "text": [
      "Enter your choice:  6\n"
     ]
    },
    {
     "name": "stdout",
     "output_type": "stream",
     "text": [
      "Deleted element(at last) 10\n"
     ]
    },
    {
     "name": "stdin",
     "output_type": "stream",
     "text": [
      "Enter your choice:  9\n"
     ]
    },
    {
     "name": "stdout",
     "output_type": "stream",
     "text": [
      "Elements in LinkedList: 40 30 \n",
      "\n"
     ]
    },
    {
     "name": "stdin",
     "output_type": "stream",
     "text": [
      "Enter your choice:  1\n",
      "Enter element's value:  10\n"
     ]
    },
    {
     "name": "stdout",
     "output_type": "stream",
     "text": [
      "Element 10 added successfully(beginning)\n"
     ]
    },
    {
     "name": "stdin",
     "output_type": "stream",
     "text": [
      "Enter your choice:  1\n",
      "Enter element's value:  20\n"
     ]
    },
    {
     "name": "stdout",
     "output_type": "stream",
     "text": [
      "Element 20 added successfully(beginning)\n"
     ]
    },
    {
     "name": "stdin",
     "output_type": "stream",
     "text": [
      "Enter your choice:  1\n",
      "Enter element's value:  9\n"
     ]
    },
    {
     "name": "stdout",
     "output_type": "stream",
     "text": [
      "Element 9 added successfully(beginning)\n"
     ]
    },
    {
     "name": "stdin",
     "output_type": "stream",
     "text": [
      "Enter your choice:  9\n"
     ]
    },
    {
     "name": "stdout",
     "output_type": "stream",
     "text": [
      "Elements in LinkedList: 9 20 10 40 30 \n",
      "\n"
     ]
    },
    {
     "name": "stdin",
     "output_type": "stream",
     "text": [
      "Enter your choice:  7\n",
      "Enter element's value:  10\n"
     ]
    },
    {
     "name": "stdout",
     "output_type": "stream",
     "text": [
      "Element found at 2 index\n"
     ]
    },
    {
     "name": "stdin",
     "output_type": "stream",
     "text": [
      "Enter your choice:  8\n"
     ]
    },
    {
     "name": "stdout",
     "output_type": "stream",
     "text": [
      "Deleted list:  9 20 10 40 30 "
     ]
    },
    {
     "name": "stdin",
     "output_type": "stream",
     "text": [
      "Enter your choice:  9\n"
     ]
    },
    {
     "name": "stdout",
     "output_type": "stream",
     "text": [
      "LinkedList is empty.\n"
     ]
    },
    {
     "name": "stdin",
     "output_type": "stream",
     "text": [
      "Enter your choice:  10\n"
     ]
    }
   ],
   "source": [
    "# class for creating new node\n",
    "class Node:\n",
    "    def __init__(self, data):\n",
    "        self.data = data      \n",
    "        self.next = None\n",
    "\n",
    "# class for implementing LinkedList\n",
    "class SinglyLL:\n",
    "    # initially linkedlist -----> empty\n",
    "    def __init__(self):\n",
    "        self.start = None\n",
    "        self.next = None\n",
    "\n",
    "    # insertion operation -----> at begining, at location, at end\n",
    "    # at begining\n",
    "    def insert_at_beg(self, data):\n",
    "        # checking whether the linkedlist is empty\n",
    "        if self.start == None:\n",
    "            self.start = Node(data)\n",
    "            self.next = self.start\n",
    "        else:\n",
    "            tmp_node = Node(data)\n",
    "            tmp_node.next = self.start\n",
    "            self.start = tmp_node\n",
    "        print(f\"Element {data} added successfully(beginning)\") \n",
    "\n",
    "    # at location\n",
    "    def insert_at_loc(self, value, loc):\n",
    "        if self.start == None:\n",
    "            print(\"Underflow! LinkedList is empty.\")\n",
    "        else:\n",
    "            # initializing a pointer for getting the correct location where we add new node \n",
    "            ptr = self.start\n",
    "            c = 1  # counter \n",
    "            # iterating over linked list untill ptr pointer gets the location\n",
    "            while (c != loc) and (ptr.next != None):\n",
    "                c = c+1\n",
    "                ptr = ptr.next\n",
    "            if (ptr.next == None):\n",
    "                print(\"Specified node is not found.\")\n",
    "            else:\n",
    "                newNode = Node(value)\n",
    "                newNode.next = ptr.next\n",
    "                ptr.next = newNode\n",
    "        print(\"Element added successfully(\",loc,\"index).\")\n",
    "    \n",
    "    def insert_at_last(self, value):\n",
    "        if self.start == None:\n",
    "            self.start = Node(value)\n",
    "            self.next = self.start\n",
    "        else:\n",
    "            newNode = Node(value)\n",
    "            self.next.next = newNode\n",
    "            self.next = newNode\n",
    "        print(\"Element added successfully(last).\")\n",
    "        \n",
    "    def del_f_start(self):\n",
    "        # checking underflow\n",
    "        if self.start == None:\n",
    "            print(\"Underflow! LinkedList is empty.\")\n",
    "        else:\n",
    "            print(\"Deleted element(at beginning)\", self.start.data)\n",
    "            self.start = self.start.next\n",
    "    \n",
    "    def del_f_loc(self, loc):\n",
    "        if self.start == None:\n",
    "            print(\"Underflow! LinkedList is empty.\")\n",
    "        else:\n",
    "            ptr1 = self.start\n",
    "            c = 1\n",
    "            while (c != loc) and (ptr1.next != None):\n",
    "                c = c+1\n",
    "                ptr1 = ptr1.next\n",
    "                \n",
    "            if (ptr1.next == None):\n",
    "                print(\"Specified node is not found.\")\n",
    "            else:\n",
    "                ptr2 = ptr1.next\n",
    "                print(\"Deleted element(at index)\", ptr2.data)\n",
    "                ptr1.next = ptr2.next\n",
    "                \n",
    "    def del_f_last(self):\n",
    "        if self.start == None:\n",
    "            print(\"Underflow! LinkedList is empty.\")\n",
    "        else:\n",
    "            ptr = self.start\n",
    "            while ptr.next != None:\n",
    "                l = ptr\n",
    "                ptr = ptr.next\n",
    "\n",
    "            print(\"Deleted element(at last)\", ptr.data)\n",
    "            self.next = l\n",
    "            self.next.next = None\n",
    "    \n",
    "    def search(self, value):\n",
    "        if self.start == None:\n",
    "            print(\"Underflow! List is empty.\")\n",
    "        else:\n",
    "            c = 0\n",
    "            ptr = self.start\n",
    "            while ptr.next != None:\n",
    "                if ptr.data == value:\n",
    "                    print(\"Element found at\",c,\"index\")\n",
    "                    break\n",
    "                else:\n",
    "                    ptr = ptr.next\n",
    "                    c = c+1\n",
    "                \n",
    "    def delete(self):\n",
    "        print(\"Deleted list: \", end=\" \")        \n",
    "        while(self.start != None):\n",
    "            print(self.start.data, end = \" \")\n",
    "            self.start = self.start.next\n",
    "    \n",
    "    def show(self):\n",
    "        if self.start != None:\n",
    "            print(\"Elements in LinkedList: \",end=\"\")\n",
    "            iter = self.start\n",
    "            while True:\n",
    "                print(iter.data, end=\" \")\n",
    "                if iter.next == None:\n",
    "                    break\n",
    "                else:\n",
    "                    iter = iter.next\n",
    "            print(\"\\n\")\n",
    "        else:\n",
    "            print(\"LinkedList is empty.\")\n",
    "\n",
    "\n",
    "# object initialization\n",
    "ll = SinglyLL()\n",
    "print(\"LinkedList operarions:-\\n1.Inserting an element at beginning\\n2.Inserting an element at last\\n3.Inserting an element at specified location\\n4.Deletion at beginning\\n5.Deletion at last\\n6.Deletion at specified location\\n7.Searching an element\\n8.Deleting the entire list\\n9.Delete entire list\\n10.Exit\")\n",
    "\n",
    "while True:\n",
    "    choice = int(input(\"Enter your choice: \"))\n",
    "    if choice == 1:\n",
    "        element = int(input(\"Enter element's value: \"))\n",
    "        ll.insert_at_beg(element)\n",
    "    elif choice == 2:\n",
    "        element = int(input(\"Enter element's value: \"))\n",
    "        Location = int(input(\"Enter element's Location: \"))\n",
    "        ll.insert_at_loc(element,Location)\n",
    "    elif choice == 3:\n",
    "        element = int(input(\"Enter element's value: \"))\n",
    "        ll.insert_at_last(element)\n",
    "    elif choice == 4:\n",
    "        ll.del_f_start()\n",
    "    elif choice == 5:\n",
    "        Location = int(input(\"Enter element's Location: \"))\n",
    "        ll.del_f_loc(Location)\n",
    "    elif choice == 6:\n",
    "        ll.del_f_last()\n",
    "    elif choice == 7:\n",
    "        element = int(input(\"Enter element's value: \"))\n",
    "        ll.search(element)\n",
    "    elif choice == 8:\n",
    "        ll.delete()\n",
    "    elif choice == 9:\n",
    "        ll.show()\n",
    "    elif choice == 10:\n",
    "        break"
   ]
  },
  {
   "cell_type": "markdown",
   "id": "47fc4611-4520-48d2-bc0e-b4af27ae69c4",
   "metadata": {},
   "source": [
    "<h1 style=\"text-align:center; font-size:80px; font-family: 'Brush Script MT', cursive; color:blue\">Thankyou</h1>"
   ]
  }
 ],
 "metadata": {
  "kernelspec": {
   "display_name": "Python 3 (ipykernel)",
   "language": "python",
   "name": "python3"
  },
  "language_info": {
   "codemirror_mode": {
    "name": "ipython",
    "version": 3
   },
   "file_extension": ".py",
   "mimetype": "text/x-python",
   "name": "python",
   "nbconvert_exporter": "python",
   "pygments_lexer": "ipython3",
   "version": "3.10.12"
  }
 },
 "nbformat": 4,
 "nbformat_minor": 5
}
