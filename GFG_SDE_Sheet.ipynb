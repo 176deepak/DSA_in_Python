{
 "cells": [
  {
   "cell_type": "markdown",
   "id": "30eff8af-5c7e-4527-a936-789df199d84d",
   "metadata": {},
   "source": [
    "<h1 style=\"\n",
    "    text-align:center; \n",
    "    font-size:50px; \n",
    "    font-weight: bold;\n",
    "    font-family: 'Lucida Console', 'Courier New', 'monospace'; \n",
    "    color:blue \n",
    "\">\n",
    "    GFG SDE Sheet\n",
    "</h1>"
   ]
  },
  {
   "cell_type": "markdown",
   "id": "c13412de-58da-4528-80f2-64fa1cf8a3c9",
   "metadata": {},
   "source": [
    "### 1. Subarray with given sum \n",
    "Given an unsorted array A of size N that contains only positive integers, find a continuous sub-array that adds to a given number S and return the left and right index(1-based indexing) of that subarray.\n",
    "In case of multiple subarrays, return the subarray indexes which come first on moving from left to right.\n",
    "\n",
    "`Note`:- You have to return an ArrayList consisting of two elements left and right. In case no such subarray exists return an array consisting of element -1.\n",
    "`Easy`"
   ]
  },
  {
   "cell_type": "code",
   "execution_count": null,
   "id": "4fa751d9-8fbe-4232-8ef2-79b527634c03",
   "metadata": {},
   "outputs": [],
   "source": [
    "def subArraySum(arr, n, s):\n",
    "    if s == 0:  # Check if the target sum is zero.\n",
    "        return [-1]  # If it is, return a list with -1, as there are no subarrays with a sum of zero.\n",
    "\n",
    "    left = 0  # Initialize the left pointer to the beginning of the array.\n",
    "    right = 0  # Initialize the right pointer to the beginning of the array.\n",
    "    current_sum = 0  # Initialize the current sum to zero.\n",
    "\n",
    "    while right < n:  # Iterate through the array until the right pointer reaches the end of the array.\n",
    "        current_sum += arr[right]  # Add the element at the right pointer to the current sum.\n",
    "\n",
    "        while current_sum > s:  # If the current sum exceeds the target sum s, we need to reduce the subarray's size.\n",
    "            current_sum -= arr[left]  # Subtract the element at the left pointer from the current sum.\n",
    "            left += 1  # Move the left pointer one step to the right to reduce the subarray size.\n",
    "\n",
    "        if current_sum == s:  # If the current sum equals the target sum s, we found a subarray with the desired sum.\n",
    "            return [left + 1, right + 1]  # Return the indices of the subarray with a sum of s.\n",
    "\n",
    "        right += 1  # Move the right pointer to the right to expand the subarray and continue searching.\n",
    "\n",
    "    return [-1]  # If no subarray with the desired sum is found, return [-1]."
   ]
  },
  {
   "cell_type": "code",
   "execution_count": null,
   "id": "30164482-e25c-4947-afa1-2a43136a076e",
   "metadata": {},
   "outputs": [],
   "source": [
    "N = 5 \n",
    "S = 12\n",
    "A = [1,2,3,7,5]\n",
    "\n",
    "indexes = subArraySum(A, N, S)\n",
    "\n",
    "if indexes != [-1]:\n",
    "    print(f\"Left index: {indexes[0]}\")\n",
    "    print(f\"Right index: {indexes[1]}\")\n",
    "else:\n",
    "    print(\"Subarray not found\")"
   ]
  },
  {
   "cell_type": "markdown",
   "id": "55a66a99-bdbb-478a-859d-00ce4b772424",
   "metadata": {},
   "source": [
    "### 2. Minimize the sum of product\n",
    "You are given two arrays, A and B, of equal size N. The task is to find the minimum value of A[0] * B[0] + A[1] * B[1] + .... + A[N-1] * B[N-1], where shuffling of elements of arrays A and B is allowed.\r\n",
    "`Easy`\n"
   ]
  },
  {
   "cell_type": "code",
   "execution_count": null,
   "id": "729a516a-f0dd-4f7d-baf2-3a25634b61ea",
   "metadata": {},
   "outputs": [],
   "source": [
    "def minValue(a, b, n):\n",
    "    # Sort list 'a' in descending order to maximize multiplication with the smallest values in list 'b.'\n",
    "    a.sort(reverse=True)\n",
    "    # Sort list 'b' in ascending order to maximize multiplication with the largest values in list 'a.'\n",
    "    b.sort()\n",
    "    min_val = 0  # Initialize a variable to store the minimum value.\n",
    "    \n",
    "    # Iterate through the lists with 'n' elements.\n",
    "    for i in range(n):\n",
    "        # Multiply the corresponding elements from both lists and add the result to 'min_val.'\n",
    "        min_val = min_val + a[i] * b[i]\n",
    "\n",
    "    return min_val  # Return the minimum value obtained by multiplying elements from both lists."
   ]
  },
  {
   "cell_type": "code",
   "execution_count": null,
   "id": "066edf2d-db16-4ae6-af10-9d8b24f0baec",
   "metadata": {},
   "outputs": [],
   "source": [
    "N = 3 \n",
    "A = [3, 1, 1]\n",
    "B = [6, 5, 4]\n",
    "\n",
    "min_val = minValue(A, B, N)\n",
    "print(f\"Minimum value: {min_val}\")"
   ]
  },
  {
   "cell_type": "markdown",
   "id": "e13d6327-a558-42ab-a9fc-6ae4b1a1f409",
   "metadata": {},
   "source": [
    "### 3. Convert array into Zig-Zag fashion\n",
    "Given an array arr of distinct elements of size N, the task is to rearrange the elements of the array in a zig-zag fashion so that the converted array should be in the below form: \n",
    "    arr[0] < arr[1]  > arr[2] < arr[3] > arr[4] < . . . . arr[n-2] < arr[n-1] > arr[n]. \n",
    "\n",
    "`NOTE`: If your transformation is correct, the output will be 1 else the output will be 0. `Easy`"
   ]
  },
  {
   "cell_type": "code",
   "execution_count": null,
   "id": "873d32b9-d642-4cdf-9587-2a0c511a47c9",
   "metadata": {},
   "outputs": [],
   "source": [
    "def zigZag(arr, n):\n",
    "    flag = True  # Flag to indicate whether the current element should be greater or smaller\n",
    "\n",
    "    for i in range(n - 1):\n",
    "        if flag:\n",
    "            # If the current element should be smaller, but it's not, swap it with the next element\n",
    "            if arr[i] > arr[i + 1]:\n",
    "                arr[i], arr[i + 1] = arr[i + 1], arr[i]  # Swap the elements to make the current element smaller.\n",
    "        else:\n",
    "            # If the current element should be greater, but it's not, swap it with the next element\n",
    "            if arr[i] < arr[i + 1]:\n",
    "                arr[i], arr[i + 1] = arr[i + 1], arr[i]  # Swap the elements to make the current element greater.\n",
    "\n",
    "        flag = not flag  # Toggle the flag for the next element, so the next element has the opposite requirement.\n",
    "\n",
    "    return arr  # Return the modified array that has been \"zigzagged\" with alternating smaller and greater elements."
   ]
  },
  {
   "cell_type": "code",
   "execution_count": null,
   "id": "15d45c31-f211-4c36-8179-6c5c969747c5",
   "metadata": {},
   "outputs": [],
   "source": [
    "N = 7\n",
    "arr = [4, 3, 7, 8, 6, 2, 1]\n",
    "\n",
    "zigzag_arr = zigZag(arr, N)\n",
    "print(f\"ZigZag array: {zigzag_arr}\")"
   ]
  },
  {
   "cell_type": "markdown",
   "id": "16825b37-9880-42a1-b5a7-da8b2113ae2d",
   "metadata": {},
   "source": [
    "### 4. Find all pairs with a given sum\n",
    "Given two unsorted arrays A of size N and B of size M of distinct elements, the task is to find all pairs from both arrays whose sum is equal to X.\n",
    "\n",
    "`Note`: All pairs should be printed in increasing order of u. For eg. for two pairs (u1,v1) and (u2,v2), if u1 < u2 then\n",
    "(u1,v1) should be printed first else second. `Easy`"
   ]
  },
  {
   "cell_type": "code",
   "execution_count": null,
   "id": "b767e67e-05a2-488a-a4f8-07a436fdd6df",
   "metadata": {},
   "outputs": [],
   "source": [
    "def allPairs(A, B, N, M, X):\n",
    "    # Initialize an empty list to store the pairs that sum up to the target value 'X.'\n",
    "    pairs = []\n",
    "    \n",
    "    # Sort list 'A' to optimize pair searching.\n",
    "    A.sort()\n",
    "    \n",
    "    # Iterate through the elements in list 'A.'\n",
    "    for i in A:\n",
    "        # Iterate through the elements in list 'B.'\n",
    "        for j in B:\n",
    "            # Check if the sum of elements 'i' from 'A' and 'j' from 'B' equals the target value 'X.'\n",
    "            if i + j == X:\n",
    "                # Create a new pair by combining elements 'i' and 'j.'\n",
    "                new_pair = (i, j)\n",
    "                # Add the new pair to the 'pairs' list.\n",
    "                pairs.append(new_pair)\n",
    "    \n",
    "    # Return the list of pairs that sum up to the target value 'X.'\n",
    "    return pairs"
   ]
  },
  {
   "cell_type": "code",
   "execution_count": null,
   "id": "1b7e18ee-2975-411f-82c9-bd0c89495838",
   "metadata": {},
   "outputs": [],
   "source": [
    "A = [1, 2, 4, 5, 7]\n",
    "B = [5, 6, 3, 4, 8] \n",
    "X = 9 \n",
    "\n",
    "pairs = allPairs(A, B, 5, 5, X)\n",
    "print(f\"Pairs: {pairs}\")"
   ]
  },
  {
   "cell_type": "markdown",
   "id": "bbdb38fb-b22c-422f-a3d9-eba0edbf4296",
   "metadata": {},
   "source": [
    "### 5. Missing number in array\n",
    "Given an array of size N-1 such that it only contains distinct integers in the range of 1 to N. Find the missing element.\r",
    "`Easy`\r\n"
   ]
  },
  {
   "cell_type": "code",
   "execution_count": null,
   "id": "12cc3425-3a9b-404c-9bbc-3d2ae6d96018",
   "metadata": {},
   "outputs": [],
   "source": [
    "def missingNumber(array, n):\n",
    "    # Calculate the expected sum of integers from 1 to N.\n",
    "    expected_sum = (n * (n + 1)) // 2\n",
    "    # Calculate the sum of elements in the given array.\n",
    "    actual_sum = sum(array)\n",
    "    # The missing element is the difference between the expected sum and the actual sum.\n",
    "    missing_element = expected_sum - actual_sum\n",
    "\n",
    "    return missing_element"
   ]
  },
  {
   "cell_type": "code",
   "execution_count": null,
   "id": "e2bfa052-4c49-4204-a91e-2b29916c816f",
   "metadata": {},
   "outputs": [],
   "source": [
    "N = 5\n",
    "A = [1,2,3,5]\n",
    "\n",
    "missing_element = missingNumber(A, N)\n",
    "print(f\"missing element: {missing_element}\")"
   ]
  },
  {
   "cell_type": "markdown",
   "id": "85f17217-9be6-4fc4-9252-f2f664b77408",
   "metadata": {},
   "source": [
    "### 6. Leaders in an array\n",
    "Given an array A of positive integers. Your task is to find the leaders in the array. An element of array is leader if it is greater than or equal to all the elements to its right side. The rightmost element is always a leader. `Easy`"
   ]
  },
  {
   "cell_type": "code",
   "execution_count": null,
   "id": "16da533c-20c6-4a0e-8baa-8b8fda562dd5",
   "metadata": {},
   "outputs": [],
   "source": [
    "def leaders(A, N):\n",
    "    # Initialize an empty list to store the leaders\n",
    "    leaders = []\n",
    "    \n",
    "    # Iterate through the array in reverse order\n",
    "    for i in range(N-1, -1, -1):\n",
    "        if i == N-1:\n",
    "            # If it's the last element, add it to the leaders list since it's always a leader\n",
    "            leaders.append(A[i])\n",
    "        else:\n",
    "            # Check if the current element is greater than or equal to the next element (to its right)\n",
    "            # and if it's greater than or equal to the current leader (the first element in the leaders list)\n",
    "            if ((A[i] >= A[i+1]) and (A[i] >= leaders[0])):\n",
    "                # If both conditions are met, insert the current element at the beginning of the leaders list\n",
    "                leaders.insert(0, A[i])\n",
    "    \n",
    "    return leaders"
   ]
  },
  {
   "cell_type": "code",
   "execution_count": null,
   "id": "6b3cdc51-0f2c-447e-90b8-238471229fc1",
   "metadata": {},
   "outputs": [],
   "source": [
    "n = 6\n",
    "A = [16,17,4,3,5,2]\n",
    "\n",
    "leaders = leaders(A, n)\n",
    "print(f\"Leaders: {leaders}\")"
   ]
  },
  {
   "cell_type": "markdown",
   "id": "2441f583-57e2-45c7-96a1-e0fd0d3172a3",
   "metadata": {},
   "source": [
    "### 7. Equilibrium Point\n",
    "Given an array A of n positive numbers. The task is to find the first equilibrium point in an array. Equilibrium point in an array is an index (or position) such that the sum of all elements before that index is same as sum of elements after it.\n",
    "\n",
    "`Note`: Return equilibrium point in 1-based indexing. Return -1 if no such point exists. `Easy`"
   ]
  },
  {
   "cell_type": "code",
   "execution_count": null,
   "id": "eaa51e1d-78d0-47e0-84f7-5042f50bde0e",
   "metadata": {},
   "outputs": [],
   "source": [
    "def equilibriumPoint(A, N):\n",
    "    # Check if the array has only one element\n",
    "    if N == 1:\n",
    "        return 1  # There's only one element, and it's the equilibrium point\n",
    "\n",
    "    # Initialize variables to keep track of the total sum and left sum\n",
    "    total_sum = 0\n",
    "    left_sum = 0\n",
    "\n",
    "    # Calculate the total sum of all elements in the array\n",
    "    for element in A:\n",
    "        total_sum += element\n",
    "\n",
    "    # Iterate through the array to find the equilibrium point\n",
    "    for i in range(N):\n",
    "        # Check if the sum of elements to the left of 'i' is equal to the sum of elements to the right of 'i'\n",
    "        if (total_sum - A[i] == left_sum):\n",
    "            return i + 1  # 'i' is the equilibrium point (add 1 to convert from 0-based index to 1-based index)\n",
    "        else:\n",
    "            left_sum += A[i]  # Add the current element to the left sum\n",
    "            total_sum -= A[i]  # Subtract the current element from the total sum\n",
    "\n",
    "    return -1  # If there is no equilibrium point, return -1"
   ]
  },
  {
   "cell_type": "code",
   "execution_count": null,
   "id": "b0ddf332-307f-4948-8735-c07283fd3ce0",
   "metadata": {},
   "outputs": [],
   "source": [
    "n = 5 \n",
    "A = [1,3,5,2,2]\n",
    "\n",
    "point = equilibriumPoint(A, n)\n",
    "print(f\"Point is: {point}\")"
   ]
  },
  {
   "cell_type": "markdown",
   "id": "e5fe4291-4fb3-4896-82ac-db0fb7fa9429",
   "metadata": {},
   "source": [
    "### 8. Largest subarray with 0 sum\n",
    "Given an array having both positive and negative integers. The task is to compute the length of the largest subarray with sum 0. `Easy`"
   ]
  },
  {
   "cell_type": "code",
   "execution_count": null,
   "id": "7763c15e-6d6f-48d9-8d97-9864d4e3148a",
   "metadata": {},
   "outputs": [],
   "source": [
    "def maxLen(arr, n):\n",
    "    # Check for a special case when n is 1 and the only element is 0\n",
    "    if n == 1 and arr[0] == 0:\n",
    "        return 1  # Return 1 because the only element is a valid subarray\n",
    "    \n",
    "    # Initialize an array 'dp' to store the cumulative sum of elements\n",
    "    dp = [-1] * n\n",
    "    dp[0] = arr[0]\n",
    "    \n",
    "    # Initialize a dictionary 'm' to store the first occurrence index of each cumulative sum\n",
    "    m = {}\n",
    "    m[dp[0]] = 0\n",
    "    \n",
    "    # Calculate the cumulative sum for each element and store its first occurrence index in 'm'\n",
    "    for i in range(1, n):\n",
    "        dp[i] = dp[i-1] + arr[i]\n",
    "        if dp[i] not in m:\n",
    "            m[dp[i]] = i\n",
    "    \n",
    "    # Initialize 'ans' to store the maximum length of subarray with a cumulative sum of 0\n",
    "    ans = 0\n",
    "    \n",
    "    # Iterate in reverse through the array to find the maximum length\n",
    "    for i in range(n-1, 0, -1):\n",
    "        if dp[i] == 0:\n",
    "            # If the cumulative sum is 0, update 'ans' if the length is greater than the current 'ans'\n",
    "            if i + 1 > ans:\n",
    "                ans = i + 1\n",
    "        else:\n",
    "            # If the cumulative sum is not 0, check if the length is greater than the current 'ans'\n",
    "            if i - m[dp[i]] > ans:\n",
    "                ans = i - m[dp[i]]\n",
    "    \n",
    "    return ans  # Return the maximum length of a subarray with a cumulative sum of 0"
   ]
  },
  {
   "cell_type": "code",
   "execution_count": null,
   "id": "8a842895-b45b-4d26-aa99-510809433783",
   "metadata": {},
   "outputs": [],
   "source": [
    "N = 8\n",
    "A = [15,-2,2,-8,1,7,10,23]\n",
    "\n",
    "len = maxLen(A, N)\n",
    "print(f\"Subarray length: {len}\")"
   ]
  },
  {
   "cell_type": "markdown",
   "id": "6cbecbd8-3dca-4959-80a6-d9fcf86e2ff3",
   "metadata": {},
   "source": [
    "### 9. Array Subset of another array\n",
    "Given two arrays: a1[0..n-1] of size n and a2[0..m-1] of size m. Task is to check whether a2[] is a subset of a1[] or not. Both the arrays can be sorted or unsorted. There can be duplicate elements. `Easy`"
   ]
  },
  {
   "cell_type": "code",
   "execution_count": null,
   "id": "d0b35783-76de-4c46-96c5-cfcc279f8e31",
   "metadata": {},
   "outputs": [],
   "source": [
    "def isSubset(a1, a2, n, m):\n",
    "    # Create a dictionary to store the frequency of elements in a1\n",
    "    hash = {}\n",
    "    \n",
    "    # Populate the dictionary with counts of elements in a1\n",
    "    for i in a1:\n",
    "        if i in hash:\n",
    "            hash[i] += 1\n",
    "        else:\n",
    "            hash[i] = 1\n",
    "\n",
    "    # Check if a2 is a subset of a1\n",
    "    for i in a2:\n",
    "        if i not in hash or hash[i] == 0:\n",
    "            return \"No\"\n",
    "        else:\n",
    "            hash[i] -= 1\n",
    "\n",
    "    return \"Yes\""
   ]
  },
  {
   "cell_type": "code",
   "execution_count": null,
   "id": "c2d9df21-1a62-4c7a-ba1a-a187e107c740",
   "metadata": {},
   "outputs": [],
   "source": [
    "n = 8\n",
    "a1 = [11, 7, 1, 13, 21, 3, 7, 3]\n",
    "m = 5\n",
    "a2 = [11, 3, 7, 1, 7]\n",
    "\n",
    "result = isSubset(a1, a2, n, m)\n",
    "print(f\"a2 is subset? {result}\")"
   ]
  },
  {
   "cell_type": "markdown",
   "id": "790bc80e-4e81-43df-a256-5e568cf2e1c5",
   "metadata": {},
   "source": [
    "### 10. Longest Common Prefix in an Array\n",
    "Given an array of N strings, find the longest common prefix among all strings present in the array. `Easy`\r\n"
   ]
  },
  {
   "cell_type": "code",
   "execution_count": 1,
   "id": "8f84748a-7294-4478-adc2-4e5c08eeeb23",
   "metadata": {},
   "outputs": [],
   "source": [
    "def longestCommonPrefix(arr, n):\n",
    "    # Initialize an empty string to store the longest common prefix\n",
    "    prefix = \"\"\n",
    "    # Find the length of the shortest string in the array\n",
    "    min_len = min([len(string) for string in arr])\n",
    "    \n",
    "    # Iterate through the characters of the shortest string\n",
    "    for i in range(min_len):\n",
    "        # Get the character at the current position in the first string\n",
    "        char = arr[0][i]\n",
    "        # Check if the character is the same in all strings\n",
    "        if all(string[i] == char for string in arr):\n",
    "            # If the character is common to all strings, add it to the prefix\n",
    "            prefix += char\n",
    "        else:\n",
    "            # If the character is not common, break the loop\n",
    "            break\n",
    "    \n",
    "    # Check if a common prefix was found\n",
    "    if prefix != \"\":\n",
    "        return prefix  # Return the longest common prefix\n",
    "    else:\n",
    "        return -1  # If there is no common prefix, return -1"
   ]
  },
  {
   "cell_type": "code",
   "execution_count": 2,
   "id": "21dd75dc-205c-4c9c-a8f9-73a796c70602",
   "metadata": {},
   "outputs": [
    {
     "name": "stdout",
     "output_type": "stream",
     "text": [
      "Prefix is: gee\n"
     ]
    }
   ],
   "source": [
    "N = 4\n",
    "arr = ['geeksforgeeks', 'geeks', 'geek', 'geezer']\n",
    "\n",
    "prefix = longestCommonPrefix(arr, N)\n",
    "print(f\"Prefix is: {prefix}\")"
   ]
  },
  {
   "cell_type": "markdown",
   "id": "28b949c9-0fdd-42dc-ac9c-2f280340adbe",
   "metadata": {},
   "source": [
    "### 11. Kadane's Algorithm\n",
    "Given an array Arr[] of N integers. Find the contiguous sub-array(containing at least one number) which has the maximum sum and return its sum. `Medium`"
   ]
  },
  {
   "cell_type": "code",
   "execution_count": 2,
   "id": "23591d72-8bae-4cb7-8e3f-f3de1de6973b",
   "metadata": {},
   "outputs": [],
   "source": [
    "#Function to find the sum of contiguous subarray with maximum sum.\n",
    "def maxSubArraySum(arr,N):\n",
    "    # maxium sum of subarray, initially very low number \n",
    "    max_so_far = float('-inf')\n",
    "    # tracker for max sum\n",
    "    max_ending_here = 0\n",
    "    \n",
    "    # iterating arr upto last element \n",
    "    for number in arr:\n",
    "        # keeping all elements one by one\n",
    "        max_ending_here += number\n",
    "\n",
    "        # checking, is max_sum less than current tracked elements sum if yes update it with max_ending_here\n",
    "        if max_so_far < max_ending_here:\n",
    "            max_so_far = max_ending_here\n",
    "\n",
    "        # if current sum turn into negative, update max_ending_here with 0 and start tracking again from forward elements\n",
    "        if max_ending_here < 0:\n",
    "            max_ending_here = 0\n",
    "    \n",
    "    return max_so_far"
   ]
  },
  {
   "cell_type": "code",
   "execution_count": 3,
   "id": "d77b2afe-b584-4f2b-8448-a3fa12946a5b",
   "metadata": {},
   "outputs": [
    {
     "name": "stdout",
     "output_type": "stream",
     "text": [
      "Maximum sum subarray: 9\n"
     ]
    }
   ],
   "source": [
    "N = 5\n",
    "Arr = [1,2,3,-2,5]\n",
    "\n",
    "max_sum = maxSubArraySum(Arr, N)\n",
    "print(f\"Maximum sum subarray: {max_sum}\")"
   ]
  },
  {
   "cell_type": "markdown",
   "id": "69809e58-acf5-4b03-b923-c3801b54b85f",
   "metadata": {},
   "source": [
    "### 12. Minimum number of jumps\n",
    "Given an array of N integers arr[] where each element represents the maximum length of the jump that can be made forward from that element. This means if arr[i] = x, then we can jump any distance y such that y ≤ x.\n",
    "Find the minimum number of jumps to reach the end of the array (starting from the first element). If an element is 0, then you cannot move through that element.\n",
    "\n",
    "`Note`: Return -1 if you can't reach the end of the array.  `Medium`"
   ]
  },
  {
   "cell_type": "code",
   "execution_count": 16,
   "id": "b48d942f-cc7c-415c-80e4-4ab62f9921c6",
   "metadata": {},
   "outputs": [],
   "source": [
    "def minJumps(arr, n):\n",
    "    if n <= 1:\n",
    "        return 0  # No jumps needed for an empty or single-element array\n",
    "    if arr[0] == 0:\n",
    "        return -1  # Can't make the first jump\n",
    "    max_reach = arr[0]  # Initialize the maximum reachable index\n",
    "    steps = 1  # Initialize the number of jumps\n",
    "    max_steps = arr[0]  # Initialize the maximum steps available in the current range\n",
    "    \n",
    "    for i in range(1, n):\n",
    "        if i == n - 1:\n",
    "            return steps  # Reached the end of the array\n",
    "        max_reach = max(max_reach, i + arr[i])  # Update the maximum reachable index\n",
    "        max_steps -= 1  # Reduce available steps in the current range\n",
    "        if max_steps == 0:\n",
    "            if i >= max_reach:\n",
    "                return -1  # Can't move further\n",
    "            max_steps = max_reach - i\n",
    "            steps += 1\n",
    "            \n",
    "    return -1  # If the loop ends without reaching the end, it's not possible"
   ]
  },
  {
   "cell_type": "code",
   "execution_count": 17,
   "id": "72f24b7a-803e-4d71-b14d-fde35e586f1a",
   "metadata": {},
   "outputs": [
    {
     "name": "stdout",
     "output_type": "stream",
     "text": [
      "Minimum number of jumps required: 3\n"
     ]
    }
   ],
   "source": [
    "N = 11 \n",
    "arr = [1, 3, 5, 8, 9, 2, 6, 7, 6, 8, 9] \n",
    "\n",
    "jumps = minJumps(arr, N)\n",
    "print(f\"Minimum number of jumps required: {jumps}\")"
   ]
  },
  {
   "cell_type": "markdown",
   "id": "c3a4087a-7df6-4b58-b1f8-90a6745a55b8",
   "metadata": {},
   "source": [
    "### 13. Count Inversions\n",
    "Given an array of integers. Find the Inversion Count in the array. \n",
    "Inversion Count: For an array, inversion count indicates how far (or close) the array is from being sorted. If the array is already sorted then the inversion count is 0.\n",
    "If an array is sorted in the reverse order then the inversion count is the maximum. \n",
    "Formally, two elements a[i] and a[j] form an inversion if a[i] > a[j] and i < j. `Medium`"
   ]
  },
  {
   "cell_type": "code",
   "execution_count": 19,
   "id": "ec7a542f-3673-4e28-9067-6ced8baca02c",
   "metadata": {},
   "outputs": [],
   "source": [
    "def inversionCount(arr, n):\n",
    "        def merge(arr, temp, left, mid, right):\n",
    "            i = left\n",
    "            j = mid + 1\n",
    "            k = left\n",
    "            inversion_count = 0  # Initialize the inversion count for this merge\n",
    "\n",
    "            while i <= mid and j <= right:\n",
    "                if arr[i] <= arr[j]:\n",
    "                    temp[k] = arr[i]\n",
    "                    i += 1\n",
    "                else:\n",
    "                    temp[k] = arr[j]\n",
    "                    j += 1\n",
    "                    inversion_count += (mid - i + 1)  # Count inversions during the merge\n",
    "                k += 1\n",
    "\n",
    "            while i <= mid:\n",
    "                temp[k] = arr[i]\n",
    "                i += 1\n",
    "                k += 1\n",
    "\n",
    "            while j <= right:\n",
    "                temp[k] = arr[j]\n",
    "                j += 1\n",
    "                k += 1\n",
    "\n",
    "            for i in range(left, right + 1):\n",
    "                arr[i] = temp[i]  # Copy the merged elements back to the original array\n",
    "\n",
    "            return inversion_count  # Return the inversion count for this merge\n",
    "\n",
    "        def mergeSort(arr, temp, left, right):\n",
    "            inversion_count = 0\n",
    "            if left < right:\n",
    "                mid = (left + right) // 2  # Calculate the midpoint\n",
    "                inversion_count += mergeSort(arr, temp, left, mid)  # Recursively sort and merge the left half\n",
    "                inversion_count += mergeSort(arr, temp, mid + 1, right)  # Recursively sort and merge the right half\n",
    "                inversion_count += merge(arr, temp, left, mid, right)  # Merge the two halves and count inversions\n",
    "            return inversion_count  # Return the total inversion count for the array\n",
    "\n",
    "        temp = [0] * n  # Initialize a temporary array for merging\n",
    "        return mergeSort(arr, temp, 0, n - 1)  # Call the mergeSort function to count inversions"
   ]
  },
  {
   "cell_type": "code",
   "execution_count": 20,
   "id": "8c59bf3d-f3c9-490e-8341-d14e7a59ed75",
   "metadata": {},
   "outputs": [
    {
     "name": "stdout",
     "output_type": "stream",
     "text": [
      "Inversion count: 3\n"
     ]
    }
   ],
   "source": [
    "N = 5\n",
    "arr = [2, 4, 1, 3, 5]\n",
    "\n",
    "inversion_count = inversionCount(arr, N)\n",
    "print(f\"Inversion count: {inversion_count}\")"
   ]
  },
  {
   "cell_type": "markdown",
   "id": "72701db5-a3b9-42b3-8da4-c6b03f377be6",
   "metadata": {},
   "source": [
    "### 14. Trapping Rain Water\r",
    "Given an array arr[] of N non-negative integers representing the height of blocks. If width of each block is 1, compute how much water can be trapped between the blocks during the rainy season. `Medium`\n"
   ]
  },
  {
   "cell_type": "code",
   "execution_count": 21,
   "id": "9711eaae-d8e8-427e-bb9d-e380194fc4f3",
   "metadata": {},
   "outputs": [],
   "source": [
    "def trappingWater(arr, n):\n",
    "        # Initialize two pointers to track the left and right boundaries\n",
    "        left, right = 0, len(arr) - 1\n",
    "        # Initialize variables to store the maximum heights from the left and right sides\n",
    "        left_max, right_max = 0, 0\n",
    "        # Initialize a variable to keep track of the total trapped water\n",
    "        water_trapped = 0\n",
    "    \n",
    "        # Continue until the left pointer crosses the right pointer\n",
    "        while left < right:\n",
    "            # If the height at the left pointer is less than or equal to the height at the right pointer\n",
    "            if arr[left] <= arr[right]:\n",
    "                # Update the left_max if the current height is greater\n",
    "                left_max = max(left_max, arr[left])\n",
    "                # Calculate and add the trapped water on the left side\n",
    "                water_trapped += left_max - arr[left]\n",
    "                # Move the left pointer to the right\n",
    "                left += 1\n",
    "            else:\n",
    "                # Update the right_max if the current height is greater\n",
    "                right_max = max(right_max, arr[right])\n",
    "                # Calculate and add the trapped water on the right side\n",
    "                water_trapped += right_max - arr[right]\n",
    "                # Move the right pointer to the left\n",
    "                right -= 1\n",
    "    \n",
    "        return water_trapped  # Return the total trapped water"
   ]
  },
  {
   "cell_type": "code",
   "execution_count": 22,
   "id": "21db4b2e-a9d3-4759-8fe8-82991cf41b91",
   "metadata": {},
   "outputs": [
    {
     "name": "stdout",
     "output_type": "stream",
     "text": [
      "Trapped water unit: 10\n"
     ]
    }
   ],
   "source": [
    "N = 6\n",
    "arr = [3,0,0,2,0,4]\n",
    "\n",
    "traped_unit = trappingWater(arr, N)\n",
    "print(f\"Trapped water unit: {traped_unit}\")"
   ]
  },
  {
   "cell_type": "markdown",
   "id": "22a0f26f-cb74-4fd8-9795-97de3d738bb1",
   "metadata": {},
   "source": [
    "### 15. Minimum Platforms\n",
    "Given arrival and departure times of all trains that reach a railway station. Find the minimum number of platforms required for the railway station so that no train is kept waiting.\n",
    "Consider that all the trains arrive on the same day and leave on the same day. Arrival and departure time can never be the same for a train but we can have arrival time of one train equal to departure time of the other. At any given instance of time, same platform can not be used for both departure of a train and arrival of another train. In such cases, we need different platforms. `Medium`"
   ]
  },
  {
   "cell_type": "code",
   "execution_count": 24,
   "id": "06652335-7b58-4545-b6c7-fc4bfd36bad1",
   "metadata": {},
   "outputs": [],
   "source": [
    "def minimumPlatform(arr, dep, n):\n",
    "        # Sort the arrival and departure times to facilitate scheduling\n",
    "        arr.sort()\n",
    "        dep.sort()\n",
    "\n",
    "        platforms = 0  # Initialize the current number of platforms in use\n",
    "        min_platforms = 0  # Initialize the maximum number of platforms required\n",
    "        arrival, departure = 0, 0  # Initialize pointers for arrival and departure events\n",
    "\n",
    "        # Continue until both arrival and departure events have been processed\n",
    "        while arrival < n and departure < n:\n",
    "            # If the next arrival happens before or at the same time as the next departure\n",
    "            if arr[arrival] <= dep[departure]:\n",
    "                platforms += 1  # Increment the number of platforms in use\n",
    "                arrival += 1  # Move to the next arrival event\n",
    "                min_platforms = max(min_platforms, platforms)  # Update the maximum platform count\n",
    "            else:\n",
    "                platforms -= 1  # Decrement the number of platforms in use\n",
    "                departure += 1  # Move to the next departure event\n",
    "\n",
    "        return min_platforms  # Return the maximum number of platforms required"
   ]
  },
  {
   "cell_type": "code",
   "execution_count": 26,
   "id": "3b4e127d-6f18-4603-990b-66324a7aa7d8",
   "metadata": {},
   "outputs": [
    {
     "name": "stdout",
     "output_type": "stream",
     "text": [
      "Minimum Platforms required: 3\n"
     ]
    }
   ],
   "source": [
    "n = 6 \n",
    "arr = [900, 940, 950, 1100, 1500, 1800]\n",
    "dep = [910, 1200, 1120, 1130, 1900, 2000]\n",
    "\n",
    "min_platforms = minimumPlatform(arr, dep, n)\n",
    "print(f\"Minimum Platforms required: {min_platforms}\")"
   ]
  },
  {
   "cell_type": "markdown",
   "id": "e9158922-b322-4456-b1db-8ac7be555ddb",
   "metadata": {},
   "source": [
    "<h1 style=\"text-align:center; font-size:80px; font-family: 'Brush Script MT', cursive; color:blue\">Thankyou</h1>"
   ]
  }
 ],
 "metadata": {
  "kernelspec": {
   "display_name": "Python 3 (ipykernel)",
   "language": "python",
   "name": "python3"
  },
  "language_info": {
   "codemirror_mode": {
    "name": "ipython",
    "version": 3
   },
   "file_extension": ".py",
   "mimetype": "text/x-python",
   "name": "python",
   "nbconvert_exporter": "python",
   "pygments_lexer": "ipython3",
   "version": "3.10.12"
  }
 },
 "nbformat": 4,
 "nbformat_minor": 5
}
