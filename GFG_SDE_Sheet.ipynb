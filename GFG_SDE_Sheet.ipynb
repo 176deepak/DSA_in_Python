{
 "cells": [
  {
   "cell_type": "markdown",
   "id": "30eff8af-5c7e-4527-a936-789df199d84d",
   "metadata": {},
   "source": [
    "<h1 style=\"\n",
    "    text-align:center; \n",
    "    font-size:70px; \n",
    "    font-weight: bold;\n",
    "    font-family: 'Brush Script MT', cursive; \n",
    "    color:green\n",
    "\">\n",
    "    GFG SDE Sheet\n",
    "</h1>"
   ]
  },
  {
   "cell_type": "markdown",
   "id": "c13412de-58da-4528-80f2-64fa1cf8a3c9",
   "metadata": {},
   "source": [
    "### 1. Subarray with given sum \n",
    "Given an unsorted array A of size N that contains only positive integers, find a continuous sub-array that adds to a given number S and return the left and right index(1-based indexing) of that subarray.\n",
    "In case of multiple subarrays, return the subarray indexes which come first on moving from left to right.\n",
    "\n",
    "`Note`:- You have to return an ArrayList consisting of two elements left and right. In case no such subarray exists return an array consisting of element -1.\n",
    "`Easy`"
   ]
  },
  {
   "cell_type": "code",
   "execution_count": null,
   "id": "4fa751d9-8fbe-4232-8ef2-79b527634c03",
   "metadata": {},
   "outputs": [],
   "source": [
    "def subArraySum(arr, n, s):\n",
    "    if s == 0:  # Check if the target sum is zero.\n",
    "        return [-1]  # If it is, return a list with -1, as there are no subarrays with a sum of zero.\n",
    "\n",
    "    left = 0  # Initialize the left pointer to the beginning of the array.\n",
    "    right = 0  # Initialize the right pointer to the beginning of the array.\n",
    "    current_sum = 0  # Initialize the current sum to zero.\n",
    "\n",
    "    while right < n:  # Iterate through the array until the right pointer reaches the end of the array.\n",
    "        current_sum += arr[right]  # Add the element at the right pointer to the current sum.\n",
    "\n",
    "        while current_sum > s:  # If the current sum exceeds the target sum s, we need to reduce the subarray's size.\n",
    "            current_sum -= arr[left]  # Subtract the element at the left pointer from the current sum.\n",
    "            left += 1  # Move the left pointer one step to the right to reduce the subarray size.\n",
    "\n",
    "        if current_sum == s:  # If the current sum equals the target sum s, we found a subarray with the desired sum.\n",
    "            return [left + 1, right + 1]  # Return the indices of the subarray with a sum of s.\n",
    "\n",
    "        right += 1  # Move the right pointer to the right to expand the subarray and continue searching.\n",
    "\n",
    "    return [-1]  # If no subarray with the desired sum is found, return [-1]."
   ]
  },
  {
   "cell_type": "code",
   "execution_count": null,
   "id": "30164482-e25c-4947-afa1-2a43136a076e",
   "metadata": {},
   "outputs": [],
   "source": [
    "N = 5 \n",
    "S = 12\n",
    "A = [1,2,3,7,5]\n",
    "\n",
    "indexes = subArraySum(A, N, S)\n",
    "\n",
    "if indexes != [-1]:\n",
    "    print(f\"Left index: {indexes[0]}\")\n",
    "    print(f\"Right index: {indexes[1]}\")\n",
    "else:\n",
    "    print(\"Subarray not found\")"
   ]
  },
  {
   "cell_type": "markdown",
   "id": "55a66a99-bdbb-478a-859d-00ce4b772424",
   "metadata": {},
   "source": [
    "### 2. Minimize the sum of product\n",
    "You are given two arrays, A and B, of equal size N. The task is to find the minimum value of A[0] * B[0] + A[1] * B[1] + .... + A[N-1] * B[N-1], where shuffling of elements of arrays A and B is allowed.\r\n",
    "`Easy`\n"
   ]
  },
  {
   "cell_type": "code",
   "execution_count": null,
   "id": "729a516a-f0dd-4f7d-baf2-3a25634b61ea",
   "metadata": {},
   "outputs": [],
   "source": [
    "def minValue(a, b, n):\n",
    "    # Sort list 'a' in descending order to maximize multiplication with the smallest values in list 'b.'\n",
    "    a.sort(reverse=True)\n",
    "    # Sort list 'b' in ascending order to maximize multiplication with the largest values in list 'a.'\n",
    "    b.sort()\n",
    "    min_val = 0  # Initialize a variable to store the minimum value.\n",
    "    \n",
    "    # Iterate through the lists with 'n' elements.\n",
    "    for i in range(n):\n",
    "        # Multiply the corresponding elements from both lists and add the result to 'min_val.'\n",
    "        min_val = min_val + a[i] * b[i]\n",
    "\n",
    "    return min_val  # Return the minimum value obtained by multiplying elements from both lists."
   ]
  },
  {
   "cell_type": "code",
   "execution_count": null,
   "id": "066edf2d-db16-4ae6-af10-9d8b24f0baec",
   "metadata": {},
   "outputs": [],
   "source": [
    "N = 3 \n",
    "A = [3, 1, 1]\n",
    "B = [6, 5, 4]\n",
    "\n",
    "min_val = minValue(A, B, N)\n",
    "print(f\"Minimum value: {min_val}\")"
   ]
  },
  {
   "cell_type": "markdown",
   "id": "e13d6327-a558-42ab-a9fc-6ae4b1a1f409",
   "metadata": {},
   "source": [
    "### 3. Convert array into Zig-Zag fashion\n",
    "Given an array arr of distinct elements of size N, the task is to rearrange the elements of the array in a zig-zag fashion so that the converted array should be in the below form: \n",
    "    arr[0] < arr[1]  > arr[2] < arr[3] > arr[4] < . . . . arr[n-2] < arr[n-1] > arr[n]. \n",
    "\n",
    "`NOTE`: If your transformation is correct, the output will be 1 else the output will be 0. `Easy`"
   ]
  },
  {
   "cell_type": "code",
   "execution_count": null,
   "id": "873d32b9-d642-4cdf-9587-2a0c511a47c9",
   "metadata": {},
   "outputs": [],
   "source": [
    "def zigZag(arr, n):\n",
    "    flag = True  # Flag to indicate whether the current element should be greater or smaller\n",
    "\n",
    "    for i in range(n - 1):\n",
    "        if flag:\n",
    "            # If the current element should be smaller, but it's not, swap it with the next element\n",
    "            if arr[i] > arr[i + 1]:\n",
    "                arr[i], arr[i + 1] = arr[i + 1], arr[i]  # Swap the elements to make the current element smaller.\n",
    "        else:\n",
    "            # If the current element should be greater, but it's not, swap it with the next element\n",
    "            if arr[i] < arr[i + 1]:\n",
    "                arr[i], arr[i + 1] = arr[i + 1], arr[i]  # Swap the elements to make the current element greater.\n",
    "\n",
    "        flag = not flag  # Toggle the flag for the next element, so the next element has the opposite requirement.\n",
    "\n",
    "    return arr  # Return the modified array that has been \"zigzagged\" with alternating smaller and greater elements."
   ]
  },
  {
   "cell_type": "code",
   "execution_count": null,
   "id": "15d45c31-f211-4c36-8179-6c5c969747c5",
   "metadata": {},
   "outputs": [],
   "source": [
    "N = 7\n",
    "arr = [4, 3, 7, 8, 6, 2, 1]\n",
    "\n",
    "zigzag_arr = zigZag(arr, N)\n",
    "print(f\"ZigZag array: {zigzag_arr}\")"
   ]
  },
  {
   "cell_type": "markdown",
   "id": "16825b37-9880-42a1-b5a7-da8b2113ae2d",
   "metadata": {},
   "source": [
    "### 4. Find all pairs with a given sum\n",
    "Given two unsorted arrays A of size N and B of size M of distinct elements, the task is to find all pairs from both arrays whose sum is equal to X.\n",
    "\n",
    "`Note`: All pairs should be printed in increasing order of u. For eg. for two pairs (u1,v1) and (u2,v2), if u1 < u2 then\n",
    "(u1,v1) should be printed first else second. `Easy`"
   ]
  },
  {
   "cell_type": "code",
   "execution_count": null,
   "id": "b767e67e-05a2-488a-a4f8-07a436fdd6df",
   "metadata": {},
   "outputs": [],
   "source": [
    "def allPairs(A, B, N, M, X):\n",
    "    # Initialize an empty list to store the pairs that sum up to the target value 'X.'\n",
    "    pairs = []\n",
    "    \n",
    "    # Sort list 'A' to optimize pair searching.\n",
    "    A.sort()\n",
    "    \n",
    "    # Iterate through the elements in list 'A.'\n",
    "    for i in A:\n",
    "        # Iterate through the elements in list 'B.'\n",
    "        for j in B:\n",
    "            # Check if the sum of elements 'i' from 'A' and 'j' from 'B' equals the target value 'X.'\n",
    "            if i + j == X:\n",
    "                # Create a new pair by combining elements 'i' and 'j.'\n",
    "                new_pair = (i, j)\n",
    "                # Add the new pair to the 'pairs' list.\n",
    "                pairs.append(new_pair)\n",
    "    \n",
    "    # Return the list of pairs that sum up to the target value 'X.'\n",
    "    return pairs"
   ]
  },
  {
   "cell_type": "code",
   "execution_count": null,
   "id": "1b7e18ee-2975-411f-82c9-bd0c89495838",
   "metadata": {},
   "outputs": [],
   "source": [
    "A = [1, 2, 4, 5, 7]\n",
    "B = [5, 6, 3, 4, 8] \n",
    "X = 9 \n",
    "\n",
    "pairs = allPairs(A, B, 5, 5, X)\n",
    "print(f\"Pairs: {pairs}\")"
   ]
  },
  {
   "cell_type": "markdown",
   "id": "bbdb38fb-b22c-422f-a3d9-eba0edbf4296",
   "metadata": {},
   "source": [
    "### 5. Missing number in array\n",
    "Given an array of size N-1 such that it only contains distinct integers in the range of 1 to N. Find the missing element.\r",
    "`Easy`\r\n"
   ]
  },
  {
   "cell_type": "code",
   "execution_count": null,
   "id": "12cc3425-3a9b-404c-9bbc-3d2ae6d96018",
   "metadata": {},
   "outputs": [],
   "source": [
    "def missingNumber(array, n):\n",
    "    # Calculate the expected sum of integers from 1 to N.\n",
    "    expected_sum = (n * (n + 1)) // 2\n",
    "    # Calculate the sum of elements in the given array.\n",
    "    actual_sum = sum(array)\n",
    "    # The missing element is the difference between the expected sum and the actual sum.\n",
    "    missing_element = expected_sum - actual_sum\n",
    "\n",
    "    return missing_element"
   ]
  },
  {
   "cell_type": "code",
   "execution_count": null,
   "id": "e2bfa052-4c49-4204-a91e-2b29916c816f",
   "metadata": {},
   "outputs": [],
   "source": [
    "N = 5\n",
    "A = [1,2,3,5]\n",
    "\n",
    "missing_element = missingNumber(A, N)\n",
    "print(f\"missing element: {missing_element}\")"
   ]
  },
  {
   "cell_type": "markdown",
   "id": "85f17217-9be6-4fc4-9252-f2f664b77408",
   "metadata": {},
   "source": [
    "### 6. Leaders in an array\n",
    "Given an array A of positive integers. Your task is to find the leaders in the array. An element of array is leader if it is greater than or equal to all the elements to its right side. The rightmost element is always a leader. `Easy`"
   ]
  },
  {
   "cell_type": "code",
   "execution_count": null,
   "id": "16da533c-20c6-4a0e-8baa-8b8fda562dd5",
   "metadata": {},
   "outputs": [],
   "source": [
    "def leaders(A, N):\n",
    "    # Initialize an empty list to store the leaders\n",
    "    leaders = []\n",
    "    \n",
    "    # Iterate through the array in reverse order\n",
    "    for i in range(N-1, -1, -1):\n",
    "        if i == N-1:\n",
    "            # If it's the last element, add it to the leaders list since it's always a leader\n",
    "            leaders.append(A[i])\n",
    "        else:\n",
    "            # Check if the current element is greater than or equal to the next element (to its right)\n",
    "            # and if it's greater than or equal to the current leader (the first element in the leaders list)\n",
    "            if ((A[i] >= A[i+1]) and (A[i] >= leaders[0])):\n",
    "                # If both conditions are met, insert the current element at the beginning of the leaders list\n",
    "                leaders.insert(0, A[i])\n",
    "    \n",
    "    return leaders"
   ]
  },
  {
   "cell_type": "code",
   "execution_count": null,
   "id": "6b3cdc51-0f2c-447e-90b8-238471229fc1",
   "metadata": {},
   "outputs": [],
   "source": [
    "n = 6\n",
    "A = [16,17,4,3,5,2]\n",
    "\n",
    "leaders = leaders(A, n)\n",
    "print(f\"Leaders: {leaders}\")"
   ]
  },
  {
   "cell_type": "markdown",
   "id": "2441f583-57e2-45c7-96a1-e0fd0d3172a3",
   "metadata": {},
   "source": [
    "### 7. Equilibrium Point\n",
    "Given an array A of n positive numbers. The task is to find the first equilibrium point in an array. Equilibrium point in an array is an index (or position) such that the sum of all elements before that index is same as sum of elements after it.\n",
    "\n",
    "`Note`: Return equilibrium point in 1-based indexing. Return -1 if no such point exists. `Easy`"
   ]
  },
  {
   "cell_type": "code",
   "execution_count": null,
   "id": "eaa51e1d-78d0-47e0-84f7-5042f50bde0e",
   "metadata": {},
   "outputs": [],
   "source": [
    "def equilibriumPoint(A, N):\n",
    "    # Check if the array has only one element\n",
    "    if N == 1:\n",
    "        return 1  # There's only one element, and it's the equilibrium point\n",
    "\n",
    "    # Initialize variables to keep track of the total sum and left sum\n",
    "    total_sum = 0\n",
    "    left_sum = 0\n",
    "\n",
    "    # Calculate the total sum of all elements in the array\n",
    "    for element in A:\n",
    "        total_sum += element\n",
    "\n",
    "    # Iterate through the array to find the equilibrium point\n",
    "    for i in range(N):\n",
    "        # Check if the sum of elements to the left of 'i' is equal to the sum of elements to the right of 'i'\n",
    "        if (total_sum - A[i] == left_sum):\n",
    "            return i + 1  # 'i' is the equilibrium point (add 1 to convert from 0-based index to 1-based index)\n",
    "        else:\n",
    "            left_sum += A[i]  # Add the current element to the left sum\n",
    "            total_sum -= A[i]  # Subtract the current element from the total sum\n",
    "\n",
    "    return -1  # If there is no equilibrium point, return -1"
   ]
  },
  {
   "cell_type": "code",
   "execution_count": null,
   "id": "b0ddf332-307f-4948-8735-c07283fd3ce0",
   "metadata": {},
   "outputs": [],
   "source": [
    "n = 5 \n",
    "A = [1,3,5,2,2]\n",
    "\n",
    "point = equilibriumPoint(A, n)\n",
    "print(f\"Point is: {point}\")"
   ]
  },
  {
   "cell_type": "markdown",
   "id": "e5fe4291-4fb3-4896-82ac-db0fb7fa9429",
   "metadata": {},
   "source": [
    "### 8. Largest subarray with 0 sum\n",
    "Given an array having both positive and negative integers. The task is to compute the length of the largest subarray with sum 0. `Easy`"
   ]
  },
  {
   "cell_type": "code",
   "execution_count": null,
   "id": "7763c15e-6d6f-48d9-8d97-9864d4e3148a",
   "metadata": {},
   "outputs": [],
   "source": [
    "def maxLen(arr, n):\n",
    "    # Check for a special case when n is 1 and the only element is 0\n",
    "    if n == 1 and arr[0] == 0:\n",
    "        return 1  # Return 1 because the only element is a valid subarray\n",
    "    \n",
    "    # Initialize an array 'dp' to store the cumulative sum of elements\n",
    "    dp = [-1] * n\n",
    "    dp[0] = arr[0]\n",
    "    \n",
    "    # Initialize a dictionary 'm' to store the first occurrence index of each cumulative sum\n",
    "    m = {}\n",
    "    m[dp[0]] = 0\n",
    "    \n",
    "    # Calculate the cumulative sum for each element and store its first occurrence index in 'm'\n",
    "    for i in range(1, n):\n",
    "        dp[i] = dp[i-1] + arr[i]\n",
    "        if dp[i] not in m:\n",
    "            m[dp[i]] = i\n",
    "    \n",
    "    # Initialize 'ans' to store the maximum length of subarray with a cumulative sum of 0\n",
    "    ans = 0\n",
    "    \n",
    "    # Iterate in reverse through the array to find the maximum length\n",
    "    for i in range(n-1, 0, -1):\n",
    "        if dp[i] == 0:\n",
    "            # If the cumulative sum is 0, update 'ans' if the length is greater than the current 'ans'\n",
    "            if i + 1 > ans:\n",
    "                ans = i + 1\n",
    "        else:\n",
    "            # If the cumulative sum is not 0, check if the length is greater than the current 'ans'\n",
    "            if i - m[dp[i]] > ans:\n",
    "                ans = i - m[dp[i]]\n",
    "    \n",
    "    return ans  # Return the maximum length of a subarray with a cumulative sum of 0"
   ]
  },
  {
   "cell_type": "code",
   "execution_count": null,
   "id": "8a842895-b45b-4d26-aa99-510809433783",
   "metadata": {},
   "outputs": [],
   "source": [
    "N = 8\n",
    "A = [15,-2,2,-8,1,7,10,23]\n",
    "\n",
    "len = maxLen(A, N)\n",
    "print(f\"Subarray length: {len}\")"
   ]
  },
  {
   "cell_type": "markdown",
   "id": "6cbecbd8-3dca-4959-80a6-d9fcf86e2ff3",
   "metadata": {},
   "source": [
    "### 9. Array Subset of another array\n",
    "Given two arrays: a1[0..n-1] of size n and a2[0..m-1] of size m. Task is to check whether a2[] is a subset of a1[] or not. Both the arrays can be sorted or unsorted. There can be duplicate elements. `Easy`"
   ]
  },
  {
   "cell_type": "code",
   "execution_count": null,
   "id": "d0b35783-76de-4c46-96c5-cfcc279f8e31",
   "metadata": {},
   "outputs": [],
   "source": [
    "def isSubset(a1, a2, n, m):\n",
    "    # Create a dictionary to store the frequency of elements in a1\n",
    "    hash = {}\n",
    "    \n",
    "    # Populate the dictionary with counts of elements in a1\n",
    "    for i in a1:\n",
    "        if i in hash:\n",
    "            hash[i] += 1\n",
    "        else:\n",
    "            hash[i] = 1\n",
    "\n",
    "    # Check if a2 is a subset of a1\n",
    "    for i in a2:\n",
    "        if i not in hash or hash[i] == 0:\n",
    "            return \"No\"\n",
    "        else:\n",
    "            hash[i] -= 1\n",
    "\n",
    "    return \"Yes\""
   ]
  },
  {
   "cell_type": "code",
   "execution_count": null,
   "id": "c2d9df21-1a62-4c7a-ba1a-a187e107c740",
   "metadata": {},
   "outputs": [],
   "source": [
    "n = 8\n",
    "a1 = [11, 7, 1, 13, 21, 3, 7, 3]\n",
    "m = 5\n",
    "a2 = [11, 3, 7, 1, 7]\n",
    "\n",
    "result = isSubset(a1, a2, n, m)\n",
    "print(f\"a2 is subset? {result}\")"
   ]
  },
  {
   "cell_type": "markdown",
   "id": "790bc80e-4e81-43df-a256-5e568cf2e1c5",
   "metadata": {},
   "source": [
    "### 10. Longest Common Prefix in an Array\n",
    "Given an array of N strings, find the longest common prefix among all strings present in the array. `Easy`\r\n"
   ]
  },
  {
   "cell_type": "code",
   "execution_count": null,
   "id": "8f84748a-7294-4478-adc2-4e5c08eeeb23",
   "metadata": {},
   "outputs": [],
   "source": [
    "def longestCommonPrefix(arr, n):\n",
    "    # Initialize an empty string to store the longest common prefix\n",
    "    prefix = \"\"\n",
    "    # Find the length of the shortest string in the array\n",
    "    min_len = min([len(string) for string in arr])\n",
    "    \n",
    "    # Iterate through the characters of the shortest string\n",
    "    for i in range(min_len):\n",
    "        # Get the character at the current position in the first string\n",
    "        char = arr[0][i]\n",
    "        # Check if the character is the same in all strings\n",
    "        if all(string[i] == char for string in arr):\n",
    "            # If the character is common to all strings, add it to the prefix\n",
    "            prefix += char\n",
    "        else:\n",
    "            # If the character is not common, break the loop\n",
    "            break\n",
    "    \n",
    "    # Check if a common prefix was found\n",
    "    if prefix != \"\":\n",
    "        return prefix  # Return the longest common prefix\n",
    "    else:\n",
    "        return -1  # If there is no common prefix, return -1"
   ]
  },
  {
   "cell_type": "code",
   "execution_count": null,
   "id": "21dd75dc-205c-4c9c-a8f9-73a796c70602",
   "metadata": {},
   "outputs": [],
   "source": [
    "N = 4\n",
    "arr = ['geeksforgeeks', 'geeks', 'geek', 'geezer']\n",
    "\n",
    "prefix = longestCommonPrefix(arr, N)\n",
    "print(f\"Prefix is: {prefix}\")"
   ]
  },
  {
   "cell_type": "markdown",
   "id": "28b949c9-0fdd-42dc-ac9c-2f280340adbe",
   "metadata": {},
   "source": [
    "### 11. Kadane's Algorithm\n",
    "Given an array Arr[] of N integers. Find the contiguous sub-array(containing at least one number) which has the maximum sum and return its sum. `Medium`"
   ]
  },
  {
   "cell_type": "code",
   "execution_count": null,
   "id": "23591d72-8bae-4cb7-8e3f-f3de1de6973b",
   "metadata": {},
   "outputs": [],
   "source": [
    "#Function to find the sum of contiguous subarray with maximum sum.\n",
    "def maxSubArraySum(arr,N):\n",
    "    # maxium sum of subarray, initially very low number \n",
    "    max_so_far = float('-inf')\n",
    "    # tracker for max sum\n",
    "    max_ending_here = 0\n",
    "    \n",
    "    # iterating arr upto last element \n",
    "    for number in arr:\n",
    "        # keeping all elements one by one\n",
    "        max_ending_here += number\n",
    "\n",
    "        # checking, is max_sum less than current tracked elements sum if yes update it with max_ending_here\n",
    "        if max_so_far < max_ending_here:\n",
    "            max_so_far = max_ending_here\n",
    "\n",
    "        # if current sum turn into negative, update max_ending_here with 0 and start tracking again from forward elements\n",
    "        if max_ending_here < 0:\n",
    "            max_ending_here = 0\n",
    "    \n",
    "    return max_so_far"
   ]
  },
  {
   "cell_type": "code",
   "execution_count": null,
   "id": "d77b2afe-b584-4f2b-8448-a3fa12946a5b",
   "metadata": {},
   "outputs": [],
   "source": [
    "N = 5\n",
    "Arr = [1,2,3,-2,5]\n",
    "\n",
    "max_sum = maxSubArraySum(Arr, N)\n",
    "print(f\"Maximum sum subarray: {max_sum}\")"
   ]
  },
  {
   "cell_type": "markdown",
   "id": "69809e58-acf5-4b03-b923-c3801b54b85f",
   "metadata": {},
   "source": [
    "### 12. Minimum number of jumps\n",
    "Given an array of N integers arr[] where each element represents the maximum length of the jump that can be made forward from that element. This means if arr[i] = x, then we can jump any distance y such that y ≤ x.\n",
    "Find the minimum number of jumps to reach the end of the array (starting from the first element). If an element is 0, then you cannot move through that element.\n",
    "\n",
    "`Note`: Return -1 if you can't reach the end of the array.  `Medium`"
   ]
  },
  {
   "cell_type": "code",
   "execution_count": null,
   "id": "b48d942f-cc7c-415c-80e4-4ab62f9921c6",
   "metadata": {},
   "outputs": [],
   "source": [
    "def minJumps(arr, n):\n",
    "    if n <= 1:\n",
    "        return 0  # No jumps needed for an empty or single-element array\n",
    "    if arr[0] == 0:\n",
    "        return -1  # Can't make the first jump\n",
    "    max_reach = arr[0]  # Initialize the maximum reachable index\n",
    "    steps = 1  # Initialize the number of jumps\n",
    "    max_steps = arr[0]  # Initialize the maximum steps available in the current range\n",
    "    \n",
    "    for i in range(1, n):\n",
    "        if i == n - 1:\n",
    "            return steps  # Reached the end of the array\n",
    "        max_reach = max(max_reach, i + arr[i])  # Update the maximum reachable index\n",
    "        max_steps -= 1  # Reduce available steps in the current range\n",
    "        if max_steps == 0:\n",
    "            if i >= max_reach:\n",
    "                return -1  # Can't move further\n",
    "            max_steps = max_reach - i\n",
    "            steps += 1\n",
    "            \n",
    "    return -1  # If the loop ends without reaching the end, it's not possible"
   ]
  },
  {
   "cell_type": "code",
   "execution_count": null,
   "id": "72f24b7a-803e-4d71-b14d-fde35e586f1a",
   "metadata": {},
   "outputs": [],
   "source": [
    "N = 11 \n",
    "arr = [1, 3, 5, 8, 9, 2, 6, 7, 6, 8, 9] \n",
    "\n",
    "jumps = minJumps(arr, N)\n",
    "print(f\"Minimum number of jumps required: {jumps}\")"
   ]
  },
  {
   "cell_type": "markdown",
   "id": "c3a4087a-7df6-4b58-b1f8-90a6745a55b8",
   "metadata": {},
   "source": [
    "### 13. Count Inversions\n",
    "Given an array of integers. Find the Inversion Count in the array. \n",
    "Inversion Count: For an array, inversion count indicates how far (or close) the array is from being sorted. If the array is already sorted then the inversion count is 0.\n",
    "If an array is sorted in the reverse order then the inversion count is the maximum. \n",
    "Formally, two elements a[i] and a[j] form an inversion if a[i] > a[j] and i < j. `Medium`"
   ]
  },
  {
   "cell_type": "code",
   "execution_count": null,
   "id": "ec7a542f-3673-4e28-9067-6ced8baca02c",
   "metadata": {},
   "outputs": [],
   "source": [
    "def inversionCount(arr, n):\n",
    "        def merge(arr, temp, left, mid, right):\n",
    "            i = left\n",
    "            j = mid + 1\n",
    "            k = left\n",
    "            inversion_count = 0  # Initialize the inversion count for this merge\n",
    "\n",
    "            while i <= mid and j <= right:\n",
    "                if arr[i] <= arr[j]:\n",
    "                    temp[k] = arr[i]\n",
    "                    i += 1\n",
    "                else:\n",
    "                    temp[k] = arr[j]\n",
    "                    j += 1\n",
    "                    inversion_count += (mid - i + 1)  # Count inversions during the merge\n",
    "                k += 1\n",
    "\n",
    "            while i <= mid:\n",
    "                temp[k] = arr[i]\n",
    "                i += 1\n",
    "                k += 1\n",
    "\n",
    "            while j <= right:\n",
    "                temp[k] = arr[j]\n",
    "                j += 1\n",
    "                k += 1\n",
    "\n",
    "            for i in range(left, right + 1):\n",
    "                arr[i] = temp[i]  # Copy the merged elements back to the original array\n",
    "\n",
    "            return inversion_count  # Return the inversion count for this merge\n",
    "\n",
    "        def mergeSort(arr, temp, left, right):\n",
    "            inversion_count = 0\n",
    "            if left < right:\n",
    "                mid = (left + right) // 2  # Calculate the midpoint\n",
    "                inversion_count += mergeSort(arr, temp, left, mid)  # Recursively sort and merge the left half\n",
    "                inversion_count += mergeSort(arr, temp, mid + 1, right)  # Recursively sort and merge the right half\n",
    "                inversion_count += merge(arr, temp, left, mid, right)  # Merge the two halves and count inversions\n",
    "            return inversion_count  # Return the total inversion count for the array\n",
    "\n",
    "        temp = [0] * n  # Initialize a temporary array for merging\n",
    "        return mergeSort(arr, temp, 0, n - 1)  # Call the mergeSort function to count inversions"
   ]
  },
  {
   "cell_type": "code",
   "execution_count": null,
   "id": "8c59bf3d-f3c9-490e-8341-d14e7a59ed75",
   "metadata": {},
   "outputs": [],
   "source": [
    "N = 5\n",
    "arr = [2, 4, 1, 3, 5]\n",
    "\n",
    "inversion_count = inversionCount(arr, N)\n",
    "print(f\"Inversion count: {inversion_count}\")"
   ]
  },
  {
   "cell_type": "markdown",
   "id": "72701db5-a3b9-42b3-8da4-c6b03f377be6",
   "metadata": {},
   "source": [
    "### 14. Trapping Rain Water\r",
    "Given an array arr[] of N non-negative integers representing the height of blocks. If width of each block is 1, compute how much water can be trapped between the blocks during the rainy season. `Medium`\n"
   ]
  },
  {
   "cell_type": "code",
   "execution_count": null,
   "id": "9711eaae-d8e8-427e-bb9d-e380194fc4f3",
   "metadata": {},
   "outputs": [],
   "source": [
    "def trappingWater(arr, n):\n",
    "        # Initialize two pointers to track the left and right boundaries\n",
    "        left, right = 0, len(arr) - 1\n",
    "        # Initialize variables to store the maximum heights from the left and right sides\n",
    "        left_max, right_max = 0, 0\n",
    "        # Initialize a variable to keep track of the total trapped water\n",
    "        water_trapped = 0\n",
    "    \n",
    "        # Continue until the left pointer crosses the right pointer\n",
    "        while left < right:\n",
    "            # If the height at the left pointer is less than or equal to the height at the right pointer\n",
    "            if arr[left] <= arr[right]:\n",
    "                # Update the left_max if the current height is greater\n",
    "                left_max = max(left_max, arr[left])\n",
    "                # Calculate and add the trapped water on the left side\n",
    "                water_trapped += left_max - arr[left]\n",
    "                # Move the left pointer to the right\n",
    "                left += 1\n",
    "            else:\n",
    "                # Update the right_max if the current height is greater\n",
    "                right_max = max(right_max, arr[right])\n",
    "                # Calculate and add the trapped water on the right side\n",
    "                water_trapped += right_max - arr[right]\n",
    "                # Move the right pointer to the left\n",
    "                right -= 1\n",
    "    \n",
    "        return water_trapped  # Return the total trapped water"
   ]
  },
  {
   "cell_type": "code",
   "execution_count": null,
   "id": "21db4b2e-a9d3-4759-8fe8-82991cf41b91",
   "metadata": {},
   "outputs": [],
   "source": [
    "N = 6\n",
    "arr = [3,0,0,2,0,4]\n",
    "\n",
    "traped_unit = trappingWater(arr, N)\n",
    "print(f\"Trapped water unit: {traped_unit}\")"
   ]
  },
  {
   "cell_type": "markdown",
   "id": "22a0f26f-cb74-4fd8-9795-97de3d738bb1",
   "metadata": {},
   "source": [
    "### 15. Minimum Platforms\n",
    "Given arrival and departure times of all trains that reach a railway station. Find the minimum number of platforms required for the railway station so that no train is kept waiting.\n",
    "Consider that all the trains arrive on the same day and leave on the same day. Arrival and departure time can never be the same for a train but we can have arrival time of one train equal to departure time of the other. At any given instance of time, same platform can not be used for both departure of a train and arrival of another train. In such cases, we need different platforms. `Medium`"
   ]
  },
  {
   "cell_type": "code",
   "execution_count": null,
   "id": "06652335-7b58-4545-b6c7-fc4bfd36bad1",
   "metadata": {},
   "outputs": [],
   "source": [
    "def minimumPlatform(arr, dep, n):\n",
    "        # Sort the arrival and departure times to facilitate scheduling\n",
    "        arr.sort()\n",
    "        dep.sort()\n",
    "\n",
    "        platforms = 0  # Initialize the current number of platforms in use\n",
    "        min_platforms = 0  # Initialize the maximum number of platforms required\n",
    "        arrival, departure = 0, 0  # Initialize pointers for arrival and departure events\n",
    "\n",
    "        # Continue until both arrival and departure events have been processed\n",
    "        while arrival < n and departure < n:\n",
    "            # If the next arrival happens before or at the same time as the next departure\n",
    "            if arr[arrival] <= dep[departure]:\n",
    "                platforms += 1  # Increment the number of platforms in use\n",
    "                arrival += 1  # Move to the next arrival event\n",
    "                min_platforms = max(min_platforms, platforms)  # Update the maximum platform count\n",
    "            else:\n",
    "                platforms -= 1  # Decrement the number of platforms in use\n",
    "                departure += 1  # Move to the next departure event\n",
    "\n",
    "        return min_platforms  # Return the maximum number of platforms required"
   ]
  },
  {
   "cell_type": "code",
   "execution_count": null,
   "id": "3b4e127d-6f18-4603-990b-66324a7aa7d8",
   "metadata": {},
   "outputs": [],
   "source": [
    "n = 6 \n",
    "arr = [900, 940, 950, 1100, 1500, 1800]\n",
    "dep = [910, 1200, 1120, 1130, 1900, 2000]\n",
    "\n",
    "min_platforms = minimumPlatform(arr, dep, n)\n",
    "print(f\"Minimum Platforms required: {min_platforms}\")"
   ]
  },
  {
   "cell_type": "markdown",
   "id": "006fec6a-633c-450d-9262-0ba7a4ebe459",
   "metadata": {},
   "source": [
    "### 16. Maximum of all subarrays of size k\r",
    "Given an array arr[] of size N and an integer K. Find the maximum for each and every contiguous subarray of size K. `Medium` \n"
   ]
  },
  {
   "cell_type": "code",
   "execution_count": null,
   "id": "a92b4221-a9d9-4c14-a6c8-6f31cdf08d3d",
   "metadata": {},
   "outputs": [],
   "source": [
    "def max_of_subarrays(arr, n, k):\n",
    "    elements = []\n",
    "    max_element = max(arr[:k])  # Find the maximum in the first window\n",
    "    elements.append(max_element)\n",
    "    \n",
    "    for i in range(k, n):\n",
    "        if arr[i - k] == max_element:\n",
    "            # If the maximum of the previous window is going out of the current window\n",
    "            max_element = max(arr[i - k + 1:i + 1])\n",
    "        else:\n",
    "            # Compare the last element of the current window with the current maximum\n",
    "            max_element = max(max_element, arr[i])\n",
    "        elements.append(max_element)\n",
    "    \n",
    "    return elements"
   ]
  },
  {
   "cell_type": "code",
   "execution_count": null,
   "id": "a835bd04-a244-4a7c-9bdb-7fb520232874",
   "metadata": {},
   "outputs": [],
   "source": [
    "N = 9\n",
    "K = 3\n",
    "arr = [1, 2, 3, 1, 4, 5, 2, 3, 6]\n",
    "\n",
    "max_elements = max_of_subarrays(arr, N, K)\n",
    "print(f\"Maximum elements of subarrays: {max_elements}\")"
   ]
  },
  {
   "cell_type": "markdown",
   "id": "dcee3179-2c6c-4681-9413-c1f8a1a200a6",
   "metadata": {},
   "source": [
    "### 17. Stock buy and sell\n",
    "The cost of stock on each day is given in an array A[] of size N. Find all the segments of days on which you buy and sell the stock so that in between those days for which profit can be generated.\n",
    "`Note`: Since there can be multiple solutions, the driver code will print 1 if your answer is correct, otherwise, it will return 0. In case there's no profit the driver code will print the string \"No Profit\" for a correct solution. `Medium`"
   ]
  },
  {
   "cell_type": "code",
   "execution_count": null,
   "id": "224b108e-ae44-4206-a8f8-14addb041b9e",
   "metadata": {},
   "outputs": [],
   "source": [
    "def stockBuySell(A, n):\n",
    "    i = 0\n",
    "    buy_sell_pairs = []\n",
    "\n",
    "    while i < n-1:\n",
    "        # finding buying day\n",
    "        while ((i < n-1) and (A[i] >= A[i+1])):\n",
    "            i += 1\n",
    "        # if i reached at the end of the array, then we break the loop because there is no selling day available\n",
    "        if i == n-1:\n",
    "            break\n",
    "        buy_day = i\n",
    "        # finding selling day\n",
    "        while ((i < n-1) and (A[i] <= A[i+1])):\n",
    "            i += 1\n",
    "        sell_day = i\n",
    "\n",
    "        buy_sell_pairs.append((buy_day, sell_day))\n",
    "\n",
    "    return buy_sell_pairs"
   ]
  },
  {
   "cell_type": "code",
   "execution_count": null,
   "id": "445b91b4-3aa5-4722-ad33-952cddc2c77f",
   "metadata": {},
   "outputs": [],
   "source": [
    "N = 7\n",
    "A = [100,180,260,310,40,535,695]\n",
    "\n",
    "buy_sell = stockBuySell(A, N)\n",
    "print(f\"Buying and Selling days: {buy_sell}\")"
   ]
  },
  {
   "cell_type": "markdown",
   "id": "ac4531a2-3496-4988-9861-6786cd781d7f",
   "metadata": {},
   "source": [
    "### 18. Spirally traversing a matrix\r",
    "Given a matrix of size r*c. Traverse the matrix in spiral form. `Medium` \n"
   ]
  },
  {
   "cell_type": "code",
   "execution_count": null,
   "id": "ea5e67e4-abb4-4a85-a883-5a1f4af0b722",
   "metadata": {},
   "outputs": [],
   "source": [
    "def spirallyTraverse(matrix, r, c):\n",
    "    # Initialize boundary pointers\n",
    "    top = 0\n",
    "    bottom = r - 1\n",
    "    left = 0\n",
    "    right = c - 1\n",
    "    \n",
    "    # Initialize a list to store the spiral traversal\n",
    "    spiral_traversing = []\n",
    "\n",
    "    # Continue traversal while there are rows and columns to traverse\n",
    "    while top <= bottom and left <= right:\n",
    "        # Traverse the top row from left to right\n",
    "        for i in range(left, right + 1):\n",
    "            spiral_traversing.append(matrix[top][i])\n",
    "        top += 1\n",
    "\n",
    "        # Traverse the rightmost column from top to bottom\n",
    "        for i in range(top, bottom + 1):\n",
    "            spiral_traversing.append(matrix[i][right])\n",
    "        right -= 1\n",
    "\n",
    "        # Traverse the bottom row from right to left if rows are left\n",
    "        if top <= bottom:\n",
    "            for i in range(right, left - 1, -1):\n",
    "                spiral_traversing.append(matrix[bottom][i])\n",
    "            bottom -= 1\n",
    "\n",
    "        # Traverse the leftmost column from bottom to top if columns are left\n",
    "        if left <= right:\n",
    "            for i in range(bottom, top - 1, -1):\n",
    "                spiral_traversing.append(matrix[i][left])\n",
    "            left += 1\n",
    "\n",
    "    return spiral_traversing"
   ]
  },
  {
   "cell_type": "code",
   "execution_count": null,
   "id": "5cd7c2f5-d79c-482e-83e2-638075481c05",
   "metadata": {},
   "outputs": [],
   "source": [
    "r = 4\n",
    "c = 4\n",
    "matrix = [[1, 2, 3, 4],\n",
    "           [5, 6, 7, 8],\n",
    "           [9, 10, 11, 12],\n",
    "           [13, 14, 15,16]]\n",
    "\n",
    "traversed_matrix = spirallyTraverse(matrix, r, c)\n",
    "print(f\"Traversed elements: {traversed_matrix}\")"
   ]
  },
  {
   "cell_type": "markdown",
   "id": "c016c54e-32d9-43f8-9541-d460395f1071",
   "metadata": {},
   "source": [
    "### 19. Rearrange Array Alternately\n",
    "Given a sorted array of positive integers. Your task is to rearrange the array elements alternatively i.e first element should be max value, second should be min value, third should be second max, fourth should be second min and so on.\n",
    "`Note`: Modify the original array itself. Do it without using any extra space. You do not have to return anything. `Medium`"
   ]
  },
  {
   "cell_type": "code",
   "execution_count": null,
   "id": "94b61b3f-23e0-48f2-9c48-54b366f3dc0a",
   "metadata": {},
   "outputs": [],
   "source": [
    "def rearrange(arr, n):\n",
    "    # Initialize the max and min indices to rearrange the elements.\n",
    "    max_index = n - 1  # Start from the last element.\n",
    "    min_index = 0     # Start from the first element.\n",
    "\n",
    "    # Find a value greater than the maximum element in the array.\n",
    "    max_element = arr[-1] + 1\n",
    "\n",
    "    for i in range(n):\n",
    "        # If the current index is even (0-based), it corresponds to a maximum value.\n",
    "        if i % 2 == 0:\n",
    "            # Combine the current element with the maximum value using modulo and multiplication.\n",
    "            arr[i] += (arr[max_index] % max_element) * max_element\n",
    "            max_index -= 1  # Move to the next maximum element.\n",
    "\n",
    "        # If the current index is odd, it corresponds to a minimum value.\n",
    "        else:\n",
    "            # Combine the current element with the minimum value using modulo and multiplication.\n",
    "            arr[i] += (arr[min_index] % max_element) * max_element\n",
    "            min_index += 1  # Move to the next minimum element.\n",
    "\n",
    "    for i in range(n):\n",
    "        # Extract the rearranged elements by dividing each element by max_element.\n",
    "        arr[i] = arr[i] // max_element"
   ]
  },
  {
   "cell_type": "code",
   "execution_count": null,
   "id": "1ef01e60-2af7-4ae3-a8ce-d7b51a2b31f2",
   "metadata": {},
   "outputs": [],
   "source": [
    "n = 6\n",
    "arr = [1,2,3,4,5,6]\n",
    "\n",
    "rearrange(arr, n)\n",
    "print(f\"Rearranged array: {arr}\")"
   ]
  },
  {
   "cell_type": "markdown",
   "id": "eecbf36f-51ce-491c-8f6b-d881dfcfab6a",
   "metadata": {},
   "source": [
    "### 20. K-th element of two Arrays\r",
    "Given two arrays arr1 and arr2 of size N and M respectively and an element K. The task is to find the element that would be at the kth position of the final sorted array. `Medium`\n",
    "\n"
   ]
  },
  {
   "cell_type": "code",
   "execution_count": null,
   "id": "5e9aea96-de40-4c15-9a5c-4dd383fc93cd",
   "metadata": {},
   "outputs": [],
   "source": [
    "def kthElement(arr1, arr2, k):\n",
    "    # merge into single array\n",
    "    arr = arr1 + arr2\n",
    "    # sort the merged array\n",
    "    arr.sort()\n",
    "    # return the positioned element\n",
    "    return arr[k-1]"
   ]
  },
  {
   "cell_type": "code",
   "execution_count": null,
   "id": "16322905-b5e4-425b-8012-a54320c06e7b",
   "metadata": {},
   "outputs": [],
   "source": [
    "arr1 = [2, 3, 6, 7, 9]\n",
    "arr2 = [1, 4, 8, 10]\n",
    "k = 5\n",
    "\n",
    "element = kthElement(arr1, arr2, k)\n",
    "print(f\"kth Element: {element}\")"
   ]
  },
  {
   "cell_type": "markdown",
   "id": "8f265008-5549-4c2e-a360-18bc92645ee4",
   "metadata": {},
   "source": [
    "### 21. Stock span problem\n",
    "The stock span problem is a financial problem where we have a series of n daily price quotes for a stock and we need to calculate the span of stocks price for all n days. \n",
    "The span Si of the stocks price on a given day i is defined as the maximum number of consecutive days just before the given day, for which the price of the stock on the current day is less than or equal to its price on the given day. `Medium`"
   ]
  },
  {
   "cell_type": "code",
   "execution_count": null,
   "id": "c579a7ae-a0d6-4e6c-9c4b-ad3c698fe56b",
   "metadata": {},
   "outputs": [],
   "source": [
    "#Function to calculate the span of stockâ€™s price for all n days.\n",
    "def calculateSpan(a,n):\n",
    "    #code here\n",
    "    stack = []  # Create an empty stack to keep track of indices\n",
    "    span = [0] * n  # Initialize an array to store the span values\n",
    "    # The span of the first day is always 1\n",
    "    span[0] = 1\n",
    "    stack.append(0)  # Push the index of the first day onto the stack\n",
    "    \n",
    "    for i in range(1, n):\n",
    "        # Pop elements from the stack while the stock price at the top\n",
    "        # of the stack is less than or equal to the current day's price\n",
    "        while stack and a[i] >= a[stack[-1]]:\n",
    "            stack.pop()\n",
    "        # If the stack is empty, it means there are no previous days with\n",
    "        # prices greater than the current day's price, so the span is i + 1\n",
    "        # Otherwise, calculate the span as the difference between the current day's\n",
    "        # index and the index at the top of the stack\n",
    "        span[i] = i + 1 if not stack else i - stack[-1]\n",
    "        # Push the current day's index onto the stack\n",
    "        stack.append(i)\n",
    "    \n",
    "    return span"
   ]
  },
  {
   "cell_type": "code",
   "execution_count": null,
   "id": "7242b033-e718-4e9a-bad5-1ab0edf5651e",
   "metadata": {},
   "outputs": [],
   "source": [
    "N = 7\n",
    "price = [100, 80, 60, 70, 60, 75, 85]\n",
    "\n",
    "spans = calculateSpan(price, N)\n",
    "print(f\"Spans are: {spans}\")"
   ]
  },
  {
   "cell_type": "markdown",
   "id": "b14de5b2-2e66-43cc-94f0-1612b65b326a",
   "metadata": {},
   "source": [
    "### 22. Zero Sum Subarrays\r",
    "You are given an array arr[] of size n. Find the total count of sub-arrays having their sum equal to 0. `Medium` \n"
   ]
  },
  {
   "cell_type": "code",
   "execution_count": null,
   "id": "a56ca46d-2ab5-4edd-9e88-bdcb450534d3",
   "metadata": {},
   "outputs": [],
   "source": [
    "def findSubArrays(arr,n): \n",
    "    #return: count of sub-arrays having their sum equal to 0\n",
    "    sum_freq = {}\n",
    "    running_sum = 0\n",
    "    count = 0\n",
    "    \n",
    "    for num in arr:\n",
    "        running_sum += num\n",
    "        # Check if the current running sum exists in the dictionary\n",
    "        if running_sum in sum_freq:\n",
    "            count += sum_freq[running_sum]\n",
    "        # If the running sum is zero, increment the count by one\n",
    "        if running_sum == 0:\n",
    "            count += 1\n",
    "        # Update the dictionary with the current running sum value\n",
    "        if running_sum in sum_freq:\n",
    "            sum_freq[running_sum] += 1\n",
    "        else:\n",
    "            sum_freq[running_sum] = 1\n",
    "    \n",
    "    return count"
   ]
  },
  {
   "cell_type": "code",
   "execution_count": null,
   "id": "6ae26b66-e73e-4669-8de1-3107209ceb44",
   "metadata": {},
   "outputs": [],
   "source": [
    "n = 6\n",
    "arr = [0,0,5,5,0,0]\n",
    "\n",
    "subarr_count = findSubArrays(arr, n)\n",
    "print(f\"Total subarrays: {subarr_count}\")"
   ]
  },
  {
   "cell_type": "markdown",
   "id": "7a66dbae-c599-4eda-85f1-ae784d03aefb",
   "metadata": {},
   "source": [
    "### 23. Find the element that appears once in sorted array\r",
    "Given a sorted array arr[] of size N. Find the element that appears only once in the array. All other elements appear exactly twice. `Medium`\n"
   ]
  },
  {
   "cell_type": "code",
   "execution_count": null,
   "id": "f9e6dd4b-fe11-42f3-95a1-7cbb0ab235e0",
   "metadata": {},
   "outputs": [],
   "source": [
    "def findOnce(arr : list, n : int):\n",
    "    # If the array contains only one element, that element is the one that appears only once.\n",
    "    if n == 1:\n",
    "        return arr[0]\n",
    "    left = 0\n",
    "    right = n - 1\n",
    "    \n",
    "    while left < right:\n",
    "        mid = left + (right - left) // 2\n",
    "        # Check if the middle element is the one that appears only once\n",
    "        if mid % 2 == 0:\n",
    "            if arr[mid] == arr[mid + 1]:\n",
    "                left = mid + 2\n",
    "            else:\n",
    "                right = mid\n",
    "        else:\n",
    "            if arr[mid] == arr[mid - 1]:\n",
    "                left = mid + 1\n",
    "            else:\n",
    "                right = mid - 1\n",
    "    return arr[left]"
   ]
  },
  {
   "cell_type": "code",
   "execution_count": null,
   "id": "81da8368-683a-45b5-97ed-79d2b3ba6792",
   "metadata": {},
   "outputs": [],
   "source": [
    "N = 11\n",
    "arr = [1, 1, 2, 2, 3, 3, 4, 50, 50, 65, 65]\n",
    "\n",
    "element = findOnce(arr, n)\n",
    "print(f\"Element is: {element}\")"
   ]
  },
  {
   "cell_type": "markdown",
   "id": "a68cd283-1888-4592-bee7-a30482d8b348",
   "metadata": {},
   "source": [
    "### 24. Minimum Swaps to Sort\n",
    "Given an array of n distinct elements. Find the minimum number of swaps required to sort the array in strictly increasing order. `Medium`\n"
   ]
  },
  {
   "cell_type": "code",
   "execution_count": null,
   "id": "cb1aaf1b-b1be-42d4-acb9-518d2c1a61a2",
   "metadata": {},
   "outputs": [],
   "source": [
    "def minSwaps(nums):\n",
    "    min_swap = 0  # Initialize the variable to keep track of the minimum number of swaps needed.\n",
    "    n = len(nums)  # Get the length of the 'nums' list.\n",
    "    dup_nums = nums.copy()  # Create a copy of the 'nums' list to work with.\n",
    "    dup_nums.sort()  # Sort the copy of the 'nums' list in ascending order.\n",
    "    nums_dic = {}  # Create an empty dictionary to store the index of each element in 'nums'.\n",
    "\n",
    "    # Fill the 'nums_dic' dictionary with elements as keys and their corresponding indices as values.\n",
    "    for i in range(n):\n",
    "        nums_dic[nums[i]] = i\n",
    "\n",
    "    # Iterate through the 'nums' list to find and fix out-of-place elements using swaps.\n",
    "    for i in range(n):\n",
    "        if nums[i] != dup_nums[i]:\n",
    "            min_swap += 1  # Increment the swap count.\n",
    "            a, b = nums[i], dup_nums[i]  # Store the elements to be swapped in variables 'a' and 'b'.\n",
    "\n",
    "            # Perform the swap by updating elements in the 'nums' list and their indices in 'nums_dic'.\n",
    "            nums[i], nums[nums_dic[b]] = nums[nums_dic[b]], nums[i]\n",
    "            nums_dic[a], nums_dic[b] = nums_dic[b], nums_dic[a]\n",
    "\n",
    "    return min_swap  # Return the minimum number of swaps required to sort the 'nums' list."
   ]
  },
  {
   "cell_type": "code",
   "execution_count": null,
   "id": "a6e8970f-d260-495a-94c1-0b9d864d0381",
   "metadata": {},
   "outputs": [],
   "source": [
    "nums = [2, 8, 5, 4]\n",
    "\n",
    "swaps = minSwaps(nums)\n",
    "print(f\"Required swaps: {swaps}\")"
   ]
  },
  {
   "cell_type": "markdown",
   "id": "51bcad52-0ca5-4c0e-b10b-36351e1bc753",
   "metadata": {},
   "source": [
    "### 25. Sum of Middle Elements of two sorted arrays\r",
    "Given 2 sorted arrays Ar1 and Ar2 of size N each. Merge the given arrays and find the sum of the two middle elements of the merged array. `Medium`\n"
   ]
  },
  {
   "cell_type": "code",
   "execution_count": null,
   "id": "5099cdc3-e38e-46fa-93e2-4a580b54d3ab",
   "metadata": {},
   "outputs": [],
   "source": [
    "def findMidSum(ar1, ar2, n): \t\n",
    "    merged = ar1 + ar2\n",
    "    merged.sort()\n",
    "    n = len(merged)\n",
    "    if n % 2 == 0:\n",
    "        # If the total number of elements is even, there are two middle elements.\n",
    "        middle1 = merged[n // 2 - 1]\n",
    "        middle2 = merged[n // 2]\n",
    "        middle_sum = middle1 + middle2\n",
    "    else:\n",
    "        # If the total number of elements is odd, there is a single middle element.\n",
    "        middle_sum = merged[n // 2]\n",
    "    return middle_sum"
   ]
  },
  {
   "cell_type": "code",
   "execution_count": null,
   "id": "58691c0f-b4fc-4c01-92a6-1680d4cecae0",
   "metadata": {},
   "outputs": [],
   "source": [
    "N = 5\n",
    "Ar1 = [1, 2, 4, 6, 10]\n",
    "Ar2 = [4, 5, 6, 9, 12]\n",
    "\n",
    "sum = findMidSum(Ar1, Ar2, N)\n",
    "print(f\"Sum is: {sum}\")"
   ]
  },
  {
   "cell_type": "markdown",
   "id": "2570ccdb-a929-4409-8f99-572159a2ac92",
   "metadata": {},
   "source": [
    "### 26. Maximum no of 1's row\r",
    "Given a boolean 2D array, where each row is sorted. Find the row with the maximum number of 1s. `Easy`\n"
   ]
  },
  {
   "cell_type": "code",
   "execution_count": null,
   "id": "77677b47-f85f-4c90-ba80-57e685e10dd8",
   "metadata": {},
   "outputs": [],
   "source": [
    "def maxOnes (Mat, N, M):\n",
    "    # container for storing 1's count in each row\n",
    "    one_count = []\n",
    "\n",
    "    # iterating over all rows \n",
    "    for i in range(N):\n",
    "        # initially count of 1's for ith row is 0 \n",
    "        count = 0\n",
    "        # iterating row with all columns\n",
    "        for j in range(M):\n",
    "            # checking if current element is equals to 1 or not\n",
    "            if Mat[i][j] == 1:\n",
    "                # if yes, increase the count with 1\n",
    "                count += 1\n",
    "        # insert count into container\n",
    "        one_count.insert(i, count)\n",
    "    return one_count.index(max(one_count))"
   ]
  },
  {
   "cell_type": "code",
   "execution_count": null,
   "id": "8de0e839-5d57-4dff-ac69-065638b92fd9",
   "metadata": {},
   "outputs": [],
   "source": [
    "N = 3\n",
    "M = 4\n",
    "Mat = [[0, 1, 1, 1],\n",
    "         [0, 0, 1, 1],\n",
    "         [0, 0, 1, 1]]\n",
    "\n",
    "row = maxOnes(Mat, N, M)\n",
    "print(f\"Row {row} have maximum 1's.\")"
   ]
  },
  {
   "cell_type": "markdown",
   "id": "d3628e57-6566-416c-a5d6-597d7efe9576",
   "metadata": {},
   "source": [
    "### 27. Minimize the Heights II\n",
    "Given an array arr[] denoting heights of N towers and a positive integer K.\n",
    "For each tower, you must perform exactly one of the following operations exactly once.\n",
    "Increase the height of the tower by K\n",
    "Decrease the height of the tower by K\n",
    "\n",
    "Find out the minimum possible difference between the height of the shortest and tallest towers after you have modified each tower.<br>\n",
    "`Note`: It is compulsory to increase or decrease the height by K for each tower. After the operation, the resultant array should not contain any negative integers. `Medium`"
   ]
  },
  {
   "cell_type": "code",
   "execution_count": null,
   "id": "8a45efe2-4aa4-44f8-8e5d-fff03973b925",
   "metadata": {},
   "outputs": [],
   "source": [
    "# Define a function 'getMinDiff' that takes an array 'arr', its length 'n', and a value 'k'.\n",
    "def getMinDiff(arr, n, k):\n",
    "    # Sort the input array in ascending order.\n",
    "    arr.sort()\n",
    "    \n",
    "    # Initialize variables to keep track of the minimum and maximum heights of towers.\n",
    "    min_height = arr[0]  # Minimum height initially set to the height of the first tower.\n",
    "    max_height = arr[n-1]  # Maximum height initially set to the height of the last tower.\n",
    "    \n",
    "    # Calculate the maximum difference of heights within the entire array.\n",
    "    height_diff = arr[n-1] - arr[0]\n",
    "\n",
    "    # Iterate over the towers in the array.\n",
    "    for i in range(1, n):\n",
    "        # If the current tower's height is less than 'k', skip it.\n",
    "        if arr[i] < k:\n",
    "            continue\n",
    "        \n",
    "        # Calculate the minimum and maximum possible heights of towers\n",
    "        # based on the current tower and the distance 'k'.\n",
    "        min_height = min(arr[0] + k, arr[i] - k)  # Minimum height of the towers.\n",
    "        max_height = max(arr[i-1] + k, arr[n-1] - k)  # Maximum height of the towers.\n",
    "        \n",
    "        # Update 'height_diff' with the new minimum height difference.\n",
    "        height_diff = min(height_diff, max_height - min_height)\n",
    "\n",
    "    # Return the minimum height difference after considering the 'k' value.\n",
    "    return height_diff"
   ]
  },
  {
   "cell_type": "code",
   "execution_count": null,
   "id": "f652fdb1-c51f-4e7f-88c5-a984470823f1",
   "metadata": {},
   "outputs": [],
   "source": [
    "K = 2\n",
    "N = 4\n",
    "Arr = [1, 5, 8, 10]\n",
    "\n",
    "min_height = getMinDiff(Arr, N, K)\n",
    "print(f\"Minimum possible height: {min_height}\")"
   ]
  },
  {
   "cell_type": "markdown",
   "id": "1c2f69c3-1535-4c38-8afd-b82728338a59",
   "metadata": {},
   "source": [
    "### 28. Coin Change\n",
    "Given an integer array coins[ ] of size N representing different denominations of currency and an integer sum, find the number of ways you can make sum by using different combinations from coins[ ].  \n",
    "`Note`: Assume that you have an infinite supply of each type of coin. And you can use any coin as many times as you want. `Medium`"
   ]
  },
  {
   "cell_type": "code",
   "execution_count": null,
   "id": "e3f4a8de-b13d-41a4-b9c8-3ef0741993e8",
   "metadata": {},
   "outputs": [],
   "source": [
    "def count(coins, N, Sum): \n",
    "    # Initialize an array 'ways' to store the number of ways to make each sum from 0 to 'Sum'.\n",
    "    ways = [0]*(Sum+1)\n",
    "    \n",
    "    # There is one way to make a sum of 0, which is by not selecting any coin.\n",
    "    ways[0] = 1\n",
    "    \n",
    "    # Loop through each coin from the given set of 'coins'.\n",
    "    for i in range(N):\n",
    "        # Loop through each possible sum from 0 to 'Sum'.\n",
    "        for j in range(len(ways)):\n",
    "            # Check if the current coin can be used to make the current sum 'j'.\n",
    "            if coins[i] <= j:\n",
    "                # If yes, add the number of ways to make the sum 'j - coins[i]' to the number of ways to make the sum 'j'.\n",
    "                ways[j] += ways[(int)(j - coins[i])]\n",
    "                \n",
    "    # Return the number of ways to make the desired sum 'Sum' using the given 'coins'.\n",
    "    return ways[Sum]"
   ]
  },
  {
   "cell_type": "code",
   "execution_count": null,
   "id": "29f02bdc-281c-43d4-a9fd-48bf2b452757",
   "metadata": {},
   "outputs": [],
   "source": [
    "N = 3\n",
    "sum = 4\n",
    "coins = [1,2,3]\n",
    "\n",
    "ways = count(coins, N, sum)\n",
    "print(f\"Number of ways: {ways}\")"
   ]
  },
  {
   "cell_type": "markdown",
   "id": "fcc41f64-8732-43b2-8a0f-e107d744071e",
   "metadata": {},
   "source": [
    "### 29. Largest Number formed from an Array\n",
    "Given a list of non negative integers, arrange them in such a manner that they form the largest number possible.The result is going to be very large, hence return the result in the form of a string. `Medium`"
   ]
  },
  {
   "cell_type": "code",
   "execution_count": null,
   "id": "73a719bf-0be5-4574-98a0-0bf2057d2e2a",
   "metadata": {},
   "outputs": [],
   "source": [
    "# Import the cmp_to_key function from functools\n",
    "from functools import cmp_to_key\n",
    "\n",
    "# Define a custom comparison function named 'comp'\n",
    "def comp(a, b):\n",
    "    # Compare 'a' and 'b' by concatenating them in two different orders\n",
    "    # If 'a'+'b' is greater, return -1 (indicating 'a' should come before 'b')\n",
    "    if a + b > b + a:\n",
    "        return -1\n",
    "    # Otherwise, return 1 (indicating 'b' should come before 'a')\n",
    "    return 1\n",
    "\n",
    "\n",
    "# Define a method named 'printLargest' that takes a list 'arr' as input\n",
    "def printLargest(arr):\n",
    "    # Convert each element in 'arr' to a string\n",
    "    for i, j in enumerate(arr):\n",
    "        arr[i] = str(j)\n",
    "    # Sort the list of strings 'arr' using the custom comparison function 'comp'\n",
    "    # The 'cmp_to_key' function is used to convert 'comp' to a key function\n",
    "    arr = sorted(arr, key=cmp_to_key(comp))\n",
    "    # Join the sorted strings to form the largest possible number\n",
    "    largest_number = \"\".join(arr)\n",
    "    # Return the largest number as a string\n",
    "    return largest_number"
   ]
  },
  {
   "cell_type": "code",
   "execution_count": null,
   "id": "f14db5fc-aebb-4c16-b24b-81d69c2fbb3c",
   "metadata": {},
   "outputs": [],
   "source": [
    "Arr = [3, 30, 34, 5, 9]\n",
    "\n",
    "num = printLargest(Arr)\n",
    "print(f\"Largest number: {num}\")"
   ]
  },
  {
   "cell_type": "markdown",
   "id": "d371fdb8-d545-444a-9474-84a11fd1d5d8",
   "metadata": {},
   "source": [
    "### 30. Swapping pairs make sum equal\n",
    "Given two arrays of integers A[] and B[] of size N and M, the task is to check if a pair of values (one value from each array) exists such that swapping the elements of the pair will make the sum of two arrays equal. `Medium`"
   ]
  },
  {
   "cell_type": "code",
   "execution_count": 1,
   "id": "184cc1ea-9c65-42e7-8446-5441081c0e8a",
   "metadata": {},
   "outputs": [],
   "source": [
    "def findSwapValues(a, n, b, m):\n",
    "    # Sort the arrays a and b to make it easier to compare and calculate sums.\n",
    "    a.sort()\n",
    "    b.sort()\n",
    "    # Calculate the sum of all elements in arrays a and b.\n",
    "    sumA = sum(a)\n",
    "    sumB = sum(b)\n",
    "    # Calculate the target difference needed for equal sums between arrays a and b.\n",
    "    diff = abs(sumA - sumB)\n",
    "    # If the difference is already zero, no swaps are needed, and the arrays are already equal.\n",
    "    if diff == 0:\n",
    "        return 1\n",
    "        \n",
    "    # Initialize indices for iterating through arrays a and b.\n",
    "    i = 0\n",
    "    j = 0\n",
    "    # Use a two-pointer approach to find pairs of elements that can be swapped to equalize the sums.\n",
    "    while (i < n) and (j < m):\n",
    "        first = sumA - a[i] + b[j]\n",
    "        second = sumB - b[j] + a[i]\n",
    "        # If swapping elements a[i] and b[j] results in equal sums, return 1.\n",
    "        if first == second:\n",
    "            return 1\n",
    "        # If first is less than second, increment j to try a larger element from array b.\n",
    "        if first < second:\n",
    "            j += 1\n",
    "        else:\n",
    "            # If first is greater than second, increment i to try a larger element from array a.\n",
    "            i += 1\n",
    "\n",
    "    # If no such pair is found after iterating through both arrays, return -1.\n",
    "    return -1\n"
   ]
  },
  {
   "cell_type": "code",
   "execution_count": 2,
   "id": "cbf53c43-6ac5-4f44-bd50-fcc78e16f761",
   "metadata": {},
   "outputs": [
    {
     "name": "stdout",
     "output_type": "stream",
     "text": [
      "Is pairs available: Yes\n"
     ]
    }
   ],
   "source": [
    "N = 6\n",
    "M = 4\n",
    "A = [4, 1, 2, 1, 1, 2]\n",
    "B = [3, 6, 3, 3]\n",
    "\n",
    "is_avail = findSwapValues(A, N, B, M)\n",
    "if is_avail == 1:\n",
    "    print(f\"Is pairs available: Yes\")\n",
    "else:\n",
    "    print(f\"Is pairs available: No\")"
   ]
  },
  {
   "cell_type": "markdown",
   "id": "2f6f8f73-6e18-4da3-8c33-8bd20f40b76e",
   "metadata": {},
   "source": [
    "### 31. Overlapping Intervals\r",
    "Given a collection of Intervals, the task is to merge all of the overlapping Intervals. `Medium`\n"
   ]
  },
  {
   "cell_type": "code",
   "execution_count": 9,
   "id": "37645bc5-f973-49b4-9d4a-0b88dc659adb",
   "metadata": {},
   "outputs": [],
   "source": [
    "def overlappedInterval(Intervals):\n",
    "    n = len(Intervals)\n",
    "    # sort the array: so that we can compare elements in a sequence\n",
    "    Intervals.sort(key=lambda x: x[0])\n",
    "    # new filtered intervals\n",
    "    refined_intervals = []\n",
    "    # first interval's x and y\n",
    "    intl_start = Intervals[0][0]\n",
    "    intl_end = Intervals[0][1]\n",
    "    # iterating intervals and comparing\n",
    "    for i in range(1, n):\n",
    "        # current interval's x and y\n",
    "        cp_intl_start = Intervals[i][0]\n",
    "        cp_intl_end = Intervals[i][1]\n",
    "\n",
    "        # comparing current interval with the previous interval or with refined interval\n",
    "        # if the below condition is true: No Overlapping between intervals\n",
    "        if cp_intl_start > intl_end:\n",
    "            refined_intervals.append([intl_start, intl_end])\n",
    "            intl_start = cp_intl_start\n",
    "            intl_end = cp_intl_end\n",
    "        # if not true: Overlapping between intervals\n",
    "        # and make a new interval by taking the largest value of the y point\n",
    "        else:\n",
    "            intl_end = max(intl_end, cp_intl_end)\n",
    "    refined_intervals.append([intl_start, intl_end])\n",
    "    return refined_intervals"
   ]
  },
  {
   "cell_type": "code",
   "execution_count": 11,
   "id": "78f62454-bf0a-4986-8459-e3eeb3ef384a",
   "metadata": {},
   "outputs": [
    {
     "name": "stdout",
     "output_type": "stream",
     "text": [
      "New filtered intervals: [[1, 4], [6, 8], [9, 10]]\n"
     ]
    }
   ],
   "source": [
    "Intervals = [[1,3],[2,4],[6,8],[9,10]]\n",
    "\n",
    "refined_intervals = overlappedInterval(Intervals)\n",
    "print(f\"New filtered intervals: {refined_intervals}\")"
   ]
  },
  {
   "cell_type": "markdown",
   "id": "c1514efd-205e-4f16-9acb-dd216bfe0c98",
   "metadata": {},
   "source": [
    "### 32. Search in a Rotated Array\r",
    "Given a sorted and rotated array A of N distinct elements which is rotated at some point, and given an element key. The task is to find the index of the given element key in the array A. The whole array A is given as the range to search. `Easy`\n"
   ]
  },
  {
   "cell_type": "code",
   "execution_count": 12,
   "id": "67e96baa-b49a-4fa4-ac49-b632b596e7a5",
   "metadata": {},
   "outputs": [],
   "source": [
    "def search(A : list, l : int, h : int, key : int):\n",
    "    # l: The starting index\n",
    "    # h: The ending index, you have to search the key in this range\n",
    "    while l <= h:\n",
    "        mid = (l + h) // 2\n",
    "        if A[mid] == key:\n",
    "            return mid\n",
    "        # Check if the left half of the array is sorted\n",
    "        if A[l] <= A[mid]:\n",
    "            if A[l] <= key < A[mid]:\n",
    "                h = mid - 1\n",
    "            else:\n",
    "                l = mid + 1\n",
    "        # Otherwise, the right half of the array is sorted\n",
    "        else:\n",
    "            if A[mid] < key <= A[h]:\n",
    "                l = mid + 1\n",
    "            else:\n",
    "                h = mid - 1\n",
    "    return -1  # Key not found in the array"
   ]
  },
  {
   "cell_type": "code",
   "execution_count": 14,
   "id": "488c301b-926f-435d-bb1c-a4ec59f3dd51",
   "metadata": {},
   "outputs": [
    {
     "name": "stdout",
     "output_type": "stream",
     "text": [
      "Index is: 5\n"
     ]
    }
   ],
   "source": [
    "A = [5, 6, 7, 8, 9, 10, 1, 2, 3]\n",
    "key = 10\n",
    "l = 0\n",
    "h = 8\n",
    "\n",
    "index = search(A, l, h, key)\n",
    "print(f\"Index is: {index}\")"
   ]
  },
  {
   "cell_type": "markdown",
   "id": "1498f303-5471-434a-9155-64e99f868384",
   "metadata": {},
   "source": [
    "### 33. Find the element that appears once in sorted array\r",
    "Given a sorted array arr[] of size N. Find the element that appears only once in the array. All other elements appear exactly twice. `Easy`\n"
   ]
  },
  {
   "cell_type": "code",
   "execution_count": 15,
   "id": "aa159785-cf18-4d6d-b0eb-8cd99b69444a",
   "metadata": {},
   "outputs": [],
   "source": [
    "def findOnce(arr : list, n : int):\n",
    "    # If the array contains only one element, that element is the one that appears only once.\n",
    "    if n == 1:\n",
    "        return arr[0]\n",
    "    left = 0\n",
    "    right = n - 1\n",
    "    \n",
    "    while left < right:\n",
    "        mid = left + (right - left) // 2\n",
    "        # Check if the middle element is the one that appears only once\n",
    "        if mid % 2 == 0:\n",
    "            if arr[mid] == arr[mid + 1]:\n",
    "                left = mid + 2\n",
    "            else:\n",
    "                right = mid\n",
    "        else:\n",
    "            if arr[mid] == arr[mid - 1]:\n",
    "                left = mid + 1\n",
    "            else:\n",
    "                right = mid - 1\n",
    "    return arr[left]"
   ]
  },
  {
   "cell_type": "code",
   "execution_count": 16,
   "id": "312e9293-38b0-45c1-82f0-c7931b90f537",
   "metadata": {},
   "outputs": [
    {
     "name": "stdout",
     "output_type": "stream",
     "text": [
      "Element is: 4\n"
     ]
    }
   ],
   "source": [
    "N = 11\n",
    "arr = [1, 1, 2, 2, 3, 3, 4, 50, 50, 65, 65]\n",
    "\n",
    "element = findOnce(arr, N)\n",
    "print(f\"Element is: {element}\")"
   ]
  },
  {
   "cell_type": "markdown",
   "id": "6a39f8c0-f138-45f6-934d-c55629d7dfad",
   "metadata": {},
   "source": [
    "### 34. Search in a row-column sorted Matrix\r",
    "Given a matrix of size n x m, where every row and column is sorted in increasing order, and a number x. Find whether element x is present in the matrix or not. `Medium`\n"
   ]
  },
  {
   "cell_type": "code",
   "execution_count": 17,
   "id": "d799b4b7-56a3-4be5-a24d-01cd49f18516",
   "metadata": {},
   "outputs": [],
   "source": [
    "def search(matrix, n, m, x): \n",
    "    i = 0\n",
    "    j = m-1\n",
    "    while((i<n) and (j >= 0)):\n",
    "        if matrix[i][j] == x:\n",
    "            return 1\n",
    "        elif matrix[i][j] > x:\n",
    "            j -= 1\n",
    "        else:\n",
    "            i += 1\n",
    "    return 0"
   ]
  },
  {
   "cell_type": "code",
   "execution_count": 18,
   "id": "c80d7ddf-ba30-49e3-9906-d35b6a2f35d7",
   "metadata": {},
   "outputs": [
    {
     "name": "stdout",
     "output_type": "stream",
     "text": [
      "Element is not present\n"
     ]
    }
   ],
   "source": [
    "n = 3\n",
    "m = 3\n",
    "x = 62\n",
    "matrix = [[3, 30, 38],\n",
    "              [36, 43, 60],\n",
    "              [40, 51, 69]]\n",
    "\n",
    "is_present = search(matrix, n, m, x)\n",
    "if is_present:\n",
    "    print(f\"Element is present\")\n",
    "else:\n",
    "    print(f\"Element is not present\")"
   ]
  },
  {
   "cell_type": "markdown",
   "id": "248f6c13-01d6-4356-bce2-614533ccbf96",
   "metadata": {},
   "source": [
    "### 35. Anagram\n",
    "Given two strings a and b consisting of lowercase characters. The task is to check whether two given strings are an anagram of each other or not. An anagram of a string is another string that contains the same characters, only the order of characters can be different. For example, act and tac are an anagram of each other. `Easy`"
   ]
  },
  {
   "cell_type": "code",
   "execution_count": 20,
   "id": "ec9bf28b-0584-469a-b714-b398c0c4f050",
   "metadata": {},
   "outputs": [],
   "source": [
    "def isAnagram(a,b):\n",
    "    if len(a) != len(b):\n",
    "        return \"No\"\n",
    "    \n",
    "    sa = set(a)\n",
    "    sb = set(b)\n",
    "    \n",
    "    if len(sa) != len(sb):\n",
    "        return \"No\"\n",
    "        \n",
    "    flag = 0\n",
    "    for i in sa:\n",
    "        if a.count(i) != b.count(i):\n",
    "            flag = 1\n",
    "\n",
    "    if flag == 1:\n",
    "        return \"No\"\n",
    "        \n",
    "    return \"Yes\""
   ]
  },
  {
   "cell_type": "code",
   "execution_count": 21,
   "id": "35a5bd67-e811-4699-82e6-1de473b9fdf5",
   "metadata": {},
   "outputs": [
    {
     "name": "stdout",
     "output_type": "stream",
     "text": [
      "Is Anagram: Yes\n"
     ]
    }
   ],
   "source": [
    "a = 'geeksforgeeks'\n",
    "b = 'forgeeksgeeks'\n",
    "\n",
    "is_anagram = isAnagram(a, b)\n",
    "print(f\"Is Anagram: {is_anagram}\")"
   ]
  },
  {
   "cell_type": "markdown",
   "id": "7e428886-53b3-460a-aa24-16819edbfadc",
   "metadata": {},
   "source": [
    "### 36. Sort an array according to the other\n",
    "Given two integer arrays A1[ ] and A2[ ] of size N and M respectively. Sort the first array A1[ ] such that all the relative positions of the elements in the first array are the same as the elements in the second array A2[ ].\n",
    "`Note`: If elements are repeated in the second array, consider their first occurance only. `Medium`"
   ]
  },
  {
   "cell_type": "code",
   "execution_count": 1,
   "id": "19ec7ccb-9394-4533-8187-0ee1a16b9961",
   "metadata": {},
   "outputs": [],
   "source": [
    "def relativeSort(A1, N, A2, M):\n",
    "    # Count occurrences of elements in A1\n",
    "    element_count = {}\n",
    "    for ele in A1:\n",
    "        element_count[ele] = element_count.get(ele, 0) + 1\n",
    "\n",
    "    # Construct the result list\n",
    "    result = []\n",
    "    for ele in A2:\n",
    "        if ele in element_count:\n",
    "            result.extend([ele] * element_count[ele])\n",
    "            del element_count[ele]\n",
    "\n",
    "    # Append the remaining elements from A1\n",
    "    remaining_elements = sorted(element_count.keys())\n",
    "    for ele in remaining_elements:\n",
    "        result.extend([ele] * element_count[ele])\n",
    "\n",
    "    return result"
   ]
  },
  {
   "cell_type": "code",
   "execution_count": 2,
   "id": "01583f7d-3781-4ccf-b8df-c73baa6eba65",
   "metadata": {},
   "outputs": [
    {
     "name": "stdout",
     "output_type": "stream",
     "text": [
      "Sorted array: [2, 2, 1, 1, 8, 8, 3, 5, 6, 7, 9]\n"
     ]
    }
   ],
   "source": [
    "N = 11 \n",
    "M = 4\n",
    "A1 = [2, 1, 2, 5, 7, 1, 9, 3, 6, 8, 8]\n",
    "A2 = [2, 1, 8, 3]\n",
    "\n",
    "sorted_arr = relativeSort(A1, N, A2, M)\n",
    "print(f\"Sorted array: {sorted_arr}\")"
   ]
  },
  {
   "cell_type": "markdown",
   "id": "6e5a88e0-7d0f-4414-aaf8-518ac73286c3",
   "metadata": {},
   "source": [
    "### 37. Maximize Toys\r",
    "Given an array arr[ ] of length N consisting cost of N toys and an integer K depicting the amount with you. Your task is to find maximum number of toys you can buy with K amount. `Easy`\n"
   ]
  },
  {
   "cell_type": "code",
   "execution_count": 3,
   "id": "b251bc55-463c-4826-948b-4a8177d2debe",
   "metadata": {},
   "outputs": [],
   "source": [
    "def toyCount(N, K, arr):\n",
    "    arr.sort()\n",
    "    count = 0\n",
    "    expanse = 0\n",
    "    \n",
    "    for i in arr:\n",
    "        expanse += i\n",
    "        if expanse <= K:\n",
    "            count += 1\n",
    "        else:\n",
    "            break\n",
    "    return count"
   ]
  },
  {
   "cell_type": "code",
   "execution_count": 6,
   "id": "9c417e0e-b838-4e8e-a005-3726d5354d9c",
   "metadata": {},
   "outputs": [
    {
     "name": "stdout",
     "output_type": "stream",
     "text": [
      "Maximum toys: 4\n"
     ]
    }
   ],
   "source": [
    "N = 7 \n",
    "K = 50\n",
    "arr = [1, 12, 5, 111, 200, 1000, 10]\n",
    "\n",
    "max_toys = toyCount(N, K, arr)\n",
    "print(f\"Maximum toys: {max_toys}\")"
   ]
  },
  {
   "cell_type": "markdown",
   "id": "9c2a893d-53ab-45ae-8c09-68469f963b8a",
   "metadata": {},
   "source": [
    "### 38. Quick Sort\n",
    "Quick Sort is a Divide and Conquer algorithm. It picks an element as a pivot and partitions the given array around the picked pivot.\n",
    "Given an array arr[], its starting position is low (the index of the array) and its ending position is high(the index of the array).\n",
    "`Medium`"
   ]
  },
  {
   "cell_type": "code",
   "execution_count": 7,
   "id": "b3d573a4-e77d-484f-9e16-2555c2af93b4",
   "metadata": {},
   "outputs": [],
   "source": [
    "def quickSort(arr,low,high):\n",
    "    # code here\n",
    "    if low < high:\n",
    "        p = partition(arr, low, high)\n",
    "        quickSort(arr, low, p-1)\n",
    "        quickSort(arr, p+1, high)\n",
    "    \n",
    "def partition(arr,low,high):\n",
    "    # code here\n",
    "    pivot = arr[low]\n",
    "    i = low\n",
    "    j = high\n",
    "    \n",
    "    while i < j:\n",
    "        while((pivot >= arr[i]) and (i <= high-1)):\n",
    "            i += 1\n",
    "        \n",
    "        while(arr[j] > pivot):\n",
    "            j -= 1\n",
    "        \n",
    "        if (i < j):\n",
    "            arr[i], arr[j] = arr[j], arr[i]\n",
    "    arr[low], arr[j] = arr[j], arr[low]\n",
    "    loc = j\n",
    "    return loc"
   ]
  },
  {
   "cell_type": "code",
   "execution_count": 9,
   "id": "a285f4ad-0425-4575-a1cf-84c0d58c6444",
   "metadata": {},
   "outputs": [
    {
     "name": "stdout",
     "output_type": "stream",
     "text": [
      "Sorted array: [1, 3, 4, 7, 9]\n"
     ]
    }
   ],
   "source": [
    "N = 5 \n",
    "arr = [4, 1, 3, 9, 7]\n",
    "\n",
    "quickSort(arr, 0, 4)\n",
    "print(f\"Sorted array: {arr}\")"
   ]
  },
  {
   "cell_type": "markdown",
   "id": "d202ef14-35a2-4b62-bfc5-78dae2c7054f",
   "metadata": {},
   "source": [
    "### Heap Sort\n",
    "Given an array of size N. The task is to sort the array elements by completing functions heapify() and buildHeap() which are used to implement Heap Sort. `Medium`"
   ]
  },
  {
   "cell_type": "code",
   "execution_count": 10,
   "id": "0717a604-3cf0-4efb-98ef-d5a228a378db",
   "metadata": {},
   "outputs": [],
   "source": [
    "#Heapify function to maintain heap property.\n",
    "def heapify(arr, n, i):\n",
    "    # code here\n",
    "    # Find largest among root and children\n",
    "    largest = i\n",
    "    l = 2 * i + 1\n",
    "    r = 2 * i + 2\n",
    "    # left child check\n",
    "    if l < n and arr[i] < arr[l]:\n",
    "        largest = l\n",
    "    # right child check\n",
    "    if r < n and arr[largest] < arr[r]:\n",
    "        largest = r\n",
    "    # If root is not largest, swap with largest(left child or right child) and continue heapifying\n",
    "    if largest != i:\n",
    "        arr[i], arr[largest] = arr[largest], arr[i]\n",
    "        heapify(arr, n, largest)        # recursion\n",
    "\n",
    "#Function to build a Heap from array.\n",
    "def buildHeap(arr,n):\n",
    "    # code here\n",
    "    # Build max heap\n",
    "    for i in range(n//2, -1, -1):\n",
    "        heapify(arr, n, i)\n",
    "    for i in range(n-1, 0, -1):\n",
    "        # Swap\n",
    "        arr[i], arr[0] = arr[0], arr[i]\n",
    "        # Heapify root element\n",
    "        heapify(arr, i, 0)\n",
    "\n",
    "#Function to sort an array using Heap Sort.    \n",
    "def HeapSort(arr, n):\n",
    "    #code here\n",
    "    buildHeap(arr, n)"
   ]
  },
  {
   "cell_type": "code",
   "execution_count": 11,
   "id": "b4178362-40d0-4ab3-b830-2790de84fae0",
   "metadata": {},
   "outputs": [
    {
     "name": "stdout",
     "output_type": "stream",
     "text": [
      "Sorted array: [1, 3, 4, 7, 9]\n"
     ]
    }
   ],
   "source": [
    "N = 5\n",
    "arr = [4,1,3,9,7]\n",
    "\n",
    "HeapSort(arr, N)\n",
    "print(f\"Sorted array: {arr}\")"
   ]
  },
  {
   "cell_type": "markdown",
   "id": "b1575317-7d2b-4f8d-b355-f455acf051ef",
   "metadata": {},
   "source": [
    "### 40. Merge Sort\r",
    "Given an array arr[], its starting position l and its ending position r. Sort the array using merge sort algorithm. `Medium`\n"
   ]
  },
  {
   "cell_type": "code",
   "execution_count": 12,
   "id": "717cf4c0-32ca-48bf-9cc5-4b38aa7f6531",
   "metadata": {},
   "outputs": [],
   "source": [
    "# function for dividing the array into two halves\n",
    "def mergeSort(array, start, end):\n",
    "    if start >= end:\n",
    "        return \n",
    "    else:\n",
    "        # mid position\n",
    "        mid = (start+end)//2\n",
    "        # dividing the left half\n",
    "        mergeSort(arr, start, mid)\n",
    "        # dividing the right half\n",
    "        mergeSort(arr, mid+1, end)\n",
    "        # merging the sorted array\n",
    "        merge(arr, start, mid, end)\n",
    "        \n",
    "# function for merging the divided subarrays\n",
    "def merge(arr, start, mid, end):\n",
    "    tmp_arr = []\n",
    "    # pointers for traking elements\n",
    "    left = start\n",
    "    right = mid+1\n",
    "    # sorting the elements\n",
    "    while((left <= mid) and (right <= end)):\n",
    "        # if left element is small, insert it into tmp_arr and increase left pointer by 1\n",
    "        if (arr[left] <= arr[right]):\n",
    "            tmp_arr.append(arr[left])\n",
    "            left += 1\n",
    "        else:\n",
    "            # if right element is small, insert it into tmp_arr and increase right pointer by 1\n",
    "            tmp_arr.append(arr[right])\n",
    "            right += 1\n",
    "    while(left <= mid):\n",
    "        # insert remaining elements(left) into tmp_arr \n",
    "        tmp_arr.append(arr[left])\n",
    "        left += 1\n",
    "    while(right <= end):\n",
    "        # insert remaining elements(right) into tmp_arr\n",
    "        tmp_arr.append(arr[right])\n",
    "        right += 1\n",
    "    # updating original array with sorted tmp_arr\n",
    "    for i in range(start, end+1):\n",
    "        arr[i] = tmp_arr[i-start]"
   ]
  },
  {
   "cell_type": "code",
   "execution_count": 14,
   "id": "999b16c6-82d6-4a1d-8cba-9b0fa3ca6726",
   "metadata": {},
   "outputs": [
    {
     "name": "stdout",
     "output_type": "stream",
     "text": [
      "Sorted array: [1, 3, 4, 7, 9]\n"
     ]
    }
   ],
   "source": [
    "N = 5\n",
    "arr = [4, 1, 3,9, 7]\n",
    "\n",
    "mergeSort(arr, 0, N-1)\n",
    "print(f\"Sorted array: {arr}\")"
   ]
  },
  {
   "cell_type": "markdown",
   "id": "1ee0a5d7-d657-452f-8aa6-37358ac45106",
   "metadata": {},
   "source": [
    "### 41. Count distinct elements in every window\n",
    "Given an array of integers and a number K. Find the count of distinct elements in every window of size K in the array. `Easy`"
   ]
  },
  {
   "cell_type": "code",
   "execution_count": 5,
   "id": "37e60911-85a6-4dec-bcbe-56a076bcf43d",
   "metadata": {},
   "outputs": [],
   "source": [
    "from collections import defaultdict\n",
    "\n",
    "def countDistinct(arr, N, K):\n",
    "    mp = defaultdict(lambda: 0)\n",
    "\n",
    "    # initialize distinct element\n",
    "    # count for current window\n",
    "    dist_count = 0\n",
    "    count = []\n",
    "    # Traverse the first window and store count\n",
    "    # of every element in hash map\n",
    "    for i in range(K):\n",
    "        if mp[arr[i]] == 0:\n",
    "            dist_count += 1\n",
    "        mp[arr[i]] += 1\n",
    "    \n",
    "    count.append(dist_count)\n",
    "\n",
    "    # Traverse through the remaining array\n",
    "    for i in range(K, N):\n",
    "\n",
    "        # Remove first element of previous window\n",
    "        # If there was only one occurrence,\n",
    "        # then reduce distinct count.\n",
    "        if mp[arr[i - K]] == 1:\n",
    "            dist_count -= 1\n",
    "        mp[arr[i - K]] -= 1\n",
    "\n",
    "    # Add new element of current window\n",
    "    # If this element appears first time,\n",
    "    # increment distinct element count\n",
    "        if mp[arr[i]] == 0:\n",
    "            dist_count += 1\n",
    "        mp[arr[i]] += 1\n",
    "\n",
    "        count.append(dist_count)\n",
    "    \n",
    "    return count"
   ]
  },
  {
   "cell_type": "code",
   "execution_count": 6,
   "id": "ac4d335e-313c-4dfe-a79c-67c95cdfd9d0",
   "metadata": {},
   "outputs": [
    {
     "name": "stdout",
     "output_type": "stream",
     "text": [
      "Distinct elements count: [3, 4, 4, 3]\n"
     ]
    }
   ],
   "source": [
    "N = 7\n",
    "K = 4\n",
    "A = [1,2,1,3,4,2,3]\n",
    "\n",
    "elements_count = countDistinct(A, N, K)\n",
    "print(f\"Distinct elements count: {elements_count}\")"
   ]
  },
  {
   "cell_type": "markdown",
   "id": "abfc9114-52b5-4852-b01d-06927890f00f",
   "metadata": {},
   "source": [
    "### 42. Minimum indexed character\r",
    "Given a string str and another string patt. Find the minimum index of the character in str that is also present in patt. `Easy`\r\n",
    "\n"
   ]
  },
  {
   "cell_type": "code",
   "execution_count": 8,
   "id": "f207e007-24e5-464c-ac6d-d4fda11b58be",
   "metadata": {},
   "outputs": [],
   "source": [
    "#Function to find the minimum indexed character.\n",
    "def minIndexChar(Str, pat): \n",
    "    a = []\n",
    "    pa = set(Str).intersection(set(pat))\n",
    "    for i in pa:\n",
    "        a.append(Str.index(i))\n",
    "    return min(a) if len(a)>0 else -1"
   ]
  },
  {
   "cell_type": "code",
   "execution_count": 9,
   "id": "cff6f271-46bb-4c54-8e57-e8e8cd1e520f",
   "metadata": {},
   "outputs": [
    {
     "name": "stdout",
     "output_type": "stream",
     "text": [
      "Minimum index: 1\n"
     ]
    }
   ],
   "source": [
    "str = 'geeksforgeeks'\n",
    "patt = 'set'\n",
    "\n",
    "index = minIndexChar(str, patt)\n",
    "print(f\"Minimum index: {index}\")"
   ]
  },
  {
   "cell_type": "markdown",
   "id": "9ab23808-f866-4d6c-9a6f-afec22bf071e",
   "metadata": {},
   "source": [
    "### 43. Find first repeated character\r",
    "Given a string S. The task is to find the first repeated character in it. We need to find the character that occurs more than once and whose index of second occurrence is smallest. S contains only lowercase letters. `Easy`\n"
   ]
  },
  {
   "cell_type": "code",
   "execution_count": 10,
   "id": "7984dbcb-a760-405a-a123-efee0d576fe5",
   "metadata": {},
   "outputs": [],
   "source": [
    "def firstRepChar(s):\n",
    "    chars = list()\n",
    "    for i in s:\n",
    "        if i in chars:\n",
    "            return i\n",
    "        else:\n",
    "            chars.append(i)\n",
    "    return -1"
   ]
  },
  {
   "cell_type": "code",
   "execution_count": 11,
   "id": "94300031-e6e3-4b16-8198-659675870089",
   "metadata": {},
   "outputs": [
    {
     "name": "stdout",
     "output_type": "stream",
     "text": [
      "First Char: e\n"
     ]
    }
   ],
   "source": [
    "S=\"geeksforgeeks\"\n",
    "\n",
    "first_char = firstRepChar(S)\n",
    "print(f\"First Char: {first_char}\")"
   ]
  },
  {
   "cell_type": "markdown",
   "id": "1e2c1986-7f77-4fa5-9cb5-d04e1c9c2e43",
   "metadata": {},
   "source": [
    "### 44. Unique rows in boolean matrix\r",
    "Given a binary matrix your task is to find all unique rows of the given matrix in the order of their appearance in the matrix. `Easy`\n"
   ]
  },
  {
   "cell_type": "code",
   "execution_count": 12,
   "id": "9a9f9944-f80f-45c5-b809-49b3bb350b70",
   "metadata": {},
   "outputs": [],
   "source": [
    " def uniqueRow(row : int, col : int, M):\n",
    "    res=[]\n",
    "    for i in M:\n",
    "        if i not in res:\n",
    "            res.append(i)\n",
    "    return res"
   ]
  },
  {
   "cell_type": "code",
   "execution_count": 13,
   "id": "6db6c7e0-707c-4b1a-93c0-df438dba5f6b",
   "metadata": {},
   "outputs": [
    {
     "name": "stdout",
     "output_type": "stream",
     "text": [
      "Unique rows: [[1, 1, 0, 1], [1, 0, 0, 1]]\n"
     ]
    }
   ],
   "source": [
    "row = 3\n",
    "col = 4 \n",
    "M = [[1, 1, 0, 1],[1, 0, 0, 1],[1, 1, 0, 1]]\n",
    "\n",
    "unique_rows = uniqueRow(row, col, M)\n",
    "print(f\"Unique rows: {unique_rows}\")"
   ]
  },
  {
   "cell_type": "markdown",
   "id": "c55fd374-bea2-4ce3-b034-d84d1f5d80bd",
   "metadata": {},
   "source": [
    "### 45. Rotate matrix elements clockwise\n",
    "Given two integers M, N, and a 2D matrix Mat of dimensions MxN, clockwise rotate the elements in it. `Easy`"
   ]
  },
  {
   "cell_type": "code",
   "execution_count": 14,
   "id": "a7165ce9-36a8-42d6-aca8-600f3ab64e70",
   "metadata": {},
   "outputs": [],
   "source": [
    "def rotateMatrix(M, N, Mat):\n",
    "    l=0     #left col\n",
    "    r=N-1   #right col\n",
    "    t=0     # top row\n",
    "    b=M-1   # bottom row\n",
    "    \n",
    "    while l<r and t<b :\n",
    "        temp = Mat[t+1][l]\n",
    "        \n",
    "        # for top row :-> left to right column\n",
    "        for i in range(l,r+1):\n",
    "            cur = Mat[l][i]\n",
    "            Mat[l][i] = temp\n",
    "            temp = cur\n",
    "        \n",
    "        t+=1\n",
    "        \n",
    "        # for right col :-> top to bottom row\n",
    "        for i in range(t,b+1,1):\n",
    "            cur = Mat[i][r]\n",
    "            Mat[i][r] = temp\n",
    "            temp = cur\n",
    "        \n",
    "        r-=1\n",
    "        \n",
    "        # for bottom row :-> right to left col\n",
    "        if(t<=b and l<=r):\n",
    "            for i in range(r,l-1, -1):\n",
    "                cur = Mat[b][i]\n",
    "                Mat[b][i] = temp\n",
    "                temp = cur\n",
    "            \n",
    "        b-=1\n",
    "        \n",
    "        # for left col :-> bottom to top row\n",
    "        if l<=r and t<=b:\n",
    "            for i in range(b,t-1,-1):\n",
    "                cur = Mat[i][l]\n",
    "                Mat[i][l] = temp\n",
    "                temp = cur\n",
    "            \n",
    "        l+=1\n",
    "        \n",
    "    return Mat"
   ]
  },
  {
   "cell_type": "code",
   "execution_count": 15,
   "id": "b4ef4ace-2ba3-4981-9e15-7cb93ded9021",
   "metadata": {},
   "outputs": [
    {
     "name": "stdout",
     "output_type": "stream",
     "text": [
      "Rotated matrix: [[4, 1, 2], [7, 5, 3], [8, 9, 6]]\n"
     ]
    }
   ],
   "source": [
    "M=3\n",
    "N=3\n",
    "Mat=[[1,2,3],[4,5,6],[7,8,9]]\n",
    "\n",
    "rotated_matrix = rotateMatrix(M, N, Mat)\n",
    "print(f\"Rotated matrix: {rotated_matrix}\")"
   ]
  },
  {
   "cell_type": "markdown",
   "id": "5de78db9-8f49-423f-bb9b-c8298184e707",
   "metadata": {},
   "source": [
    "### 46. Reverse words in a given string\r",
    "Given a String S, reverse the string without reversing its individual words. Words are separated by dots. `Easy`\n"
   ]
  },
  {
   "cell_type": "code",
   "execution_count": 1,
   "id": "f4760d19-b428-4afe-926a-ff02448433e6",
   "metadata": {},
   "outputs": [],
   "source": [
    "def reverseWords(S):\n",
    "    # code here \n",
    "    words = S.split('.')\n",
    "    reversed_S = ''\n",
    "    \n",
    "    for i in range(len(words)-1, -1, -1):\n",
    "        reversed_S += words[i]\n",
    "        if i != 0:\n",
    "            reversed_S += '.'\n",
    "    \n",
    "    return reversed_S"
   ]
  },
  {
   "cell_type": "code",
   "execution_count": 2,
   "id": "c00cb674-54f7-4ea2-a181-416f33ca1dce",
   "metadata": {},
   "outputs": [
    {
     "name": "stdout",
     "output_type": "stream",
     "text": [
      "Reversed words: much.very.program.this.like.i\n"
     ]
    }
   ],
   "source": [
    "S = 'i.like.this.program.very.much'\n",
    "\n",
    "reversed_words = reverseWords(S)\n",
    "print(f\"Reversed words: {reversed_words}\")"
   ]
  },
  {
   "cell_type": "markdown",
   "id": "0e3f74cc-efa3-420f-b128-24f96400e105",
   "metadata": {},
   "source": [
    "### 47. Parenthesis Checker\n",
    "Given an expression string x. Examine whether the pairs and the orders of {,},(,),[,] are correct in exp.\n",
    "For example, the function should return 'true' for exp = [()]{}{[()()]()} and 'false' for exp = [(]).\n",
    "\n",
    "`Note`: The drive code prints \"balanced\" if function return true, otherwise it prints \"not balanced\". `Easy`"
   ]
  },
  {
   "cell_type": "code",
   "execution_count": 3,
   "id": "37c51bbe-5add-405d-ba4d-d02ba7965c26",
   "metadata": {},
   "outputs": [],
   "source": [
    "#Function to check if brackets are balanced or not.\n",
    "def ispar(x):\n",
    "    # code here\n",
    "    stack = []\n",
    "    opening_brack = ['(', '{', '[']\n",
    "    \n",
    "    for bracket in x:\n",
    "        if bracket in opening_brack:\n",
    "            stack.append(bracket)\n",
    "        else:\n",
    "            if not stack:\n",
    "                return False\n",
    "            top_bracket = stack.pop()\n",
    "            \n",
    "            if top_bracket == '(' and bracket != ')':\n",
    "                return False\n",
    "            if top_bracket == '{' and bracket != '}':\n",
    "                return False\n",
    "            if top_bracket == '[' and bracket != ']':\n",
    "                return False\n",
    "                \n",
    "    if stack:\n",
    "        return False\n",
    "    return True"
   ]
  },
  {
   "cell_type": "code",
   "execution_count": 4,
   "id": "b762296b-26c2-4139-9c4d-63212c8a33bd",
   "metadata": {},
   "outputs": [
    {
     "name": "stdout",
     "output_type": "stream",
     "text": [
      "Status: Balanaced\n"
     ]
    }
   ],
   "source": [
    "brackets = '{([])}'\n",
    "status = ispar(brackets)\n",
    "if status:\n",
    "    print(f\"Status: Balanaced\")\n",
    "else:\n",
    "    print(f\"Status: Not Balanaced\")"
   ]
  },
  {
   "cell_type": "markdown",
   "id": "32332d5a-e6c9-4067-adf0-b462f8e1b3f5",
   "metadata": {},
   "source": [
    "### 48. Convert a sentence into its equivalent mobile numeric keypad sequence\n",
    "Given a sentence in the form of a string in uppercase, convert it into its equivalent mobile numeric keypad sequence. Please note there might be spaces in between the words in a sentence and we can print spaces by pressing 0. `Easy`"
   ]
  },
  {
   "cell_type": "code",
   "execution_count": 5,
   "id": "179188db-2c0d-43a9-9eea-ea3569d3d892",
   "metadata": {},
   "outputs": [],
   "source": [
    "def printSequence(S):\n",
    "    # code here\n",
    "    mobile = [\"2\", \"22\", \"222\",\n",
    "    \"3\", \"33\", \"333\",\n",
    "    \"4\", \"44\", \"444\",\n",
    "    \"5\", \"55\", \"555\",\n",
    "    \"6\", \"66\", \"666\",\n",
    "    \"7\", \"77\", \"777\", \"7777\",\n",
    "    \"8\", \"88\", \"888\",\n",
    "    \"9\", \"99\", \"999\", \"9999\"]\n",
    "    # length of input string\n",
    "    n = len(S)\n",
    "    output = \"\"\n",
    "    \n",
    "    for i in range(n):\n",
    "        # checking for space\n",
    "        if(S[i] == ' '):\n",
    "            output = output + \"0\"\n",
    "        else:\n",
    "            # calculating index for each\n",
    "            # character\n",
    "            position = ord(S[i]) - ord('A')\n",
    "            output = output + mobile[position]\n",
    "    # output sequence\n",
    "    return output"
   ]
  },
  {
   "cell_type": "code",
   "execution_count": 6,
   "id": "4cb8a31b-c525-4c05-bd97-cb63d0f7c5b0",
   "metadata": {},
   "outputs": [
    {
     "name": "stdout",
     "output_type": "stream",
     "text": [
      "Encoded form: 43334\n"
     ]
    }
   ],
   "source": [
    "S = \"GFG\"\n",
    "encoded_S = printSequence(S)\n",
    "print(f\"Encoded form: {encoded_S}\")"
   ]
  },
  {
   "cell_type": "markdown",
   "id": "3337bc49-bf31-49cd-8532-bc5b18dfb2fd",
   "metadata": {},
   "source": [
    "### 49. Check if string is rotated by two places\r",
    "Given two strings a and b. The task is to find if the string 'b' can be obtained by rotating (in any direction) string 'a' by exactly 2 places. `Easy`\n"
   ]
  },
  {
   "cell_type": "code",
   "execution_count": 7,
   "id": "98137fdb-1e8e-45ad-b133-2f5b3ccd0ebe",
   "metadata": {},
   "outputs": [],
   "source": [
    "#Function to check if a string can be obtained by rotating\n",
    "#another string by exactly 2 places.\n",
    "def isRotated(str1,str2):\n",
    "    #code here\n",
    "    if (len(str1) != len(str2)):\n",
    "        return False\n",
    "    if(len(str1) < 2):\n",
    "        return str1 == str2\n",
    "    clock_rot = \"\"\n",
    "    anticlock_rot = \"\"\n",
    "    l = len(str2)\n",
    "    # Initialize string as anti-clockwise rotation\n",
    "    anticlock_rot = (anticlock_rot + str2[l - 2:] + str2[0: l - 2])\n",
    "    # Initialize string as clock wise rotation\n",
    "    clock_rot = clock_rot + str2[2:] + str2[0:2]\n",
    "    # check if any of them is equal to string1\n",
    "    return (str1 == clock_rot or str1 == anticlock_rot)"
   ]
  },
  {
   "cell_type": "code",
   "execution_count": 9,
   "id": "e7304b25-c36a-49f9-b10d-349519c1d8a9",
   "metadata": {},
   "outputs": [
    {
     "name": "stdout",
     "output_type": "stream",
     "text": [
      "Rotated string is same as second string.\n"
     ]
    }
   ],
   "source": [
    "a = 'amazon'\n",
    "b = 'azonam'\n",
    "\n",
    "status = isRotated(a, b)\n",
    "if status: \n",
    "    print(f\"Rotated string is same as second string.\")\n",
    "else:\n",
    "    print(f\"Rotated string is not same as second string.\")"
   ]
  },
  {
   "cell_type": "markdown",
   "id": "aa12f708-3ca0-4264-91d9-6362d58b96b7",
   "metadata": {},
   "source": [
    "### 50. Remove Duplicates\n",
    "Given a string without spaces, the task is to remove duplicates from it.\n",
    "\n",
    "`Note`: The original order of characters must be kept the same. `Easy`"
   ]
  },
  {
   "cell_type": "code",
   "execution_count": 10,
   "id": "fb8298eb-41ec-4cf4-8bed-362f283cc7d6",
   "metadata": {},
   "outputs": [],
   "source": [
    "def removeDups(S):\n",
    "\t# code here\n",
    "    chars = []\n",
    "    filtered_S = ''\n",
    "    for char in S:\n",
    "        if char not in chars:\n",
    "            chars.append(char)\n",
    "            filtered_S += char\n",
    "    return filtered_S"
   ]
  },
  {
   "cell_type": "code",
   "execution_count": 11,
   "id": "1d7d5708-bb00-417c-99f1-2c28885d4098",
   "metadata": {},
   "outputs": [
    {
     "name": "stdout",
     "output_type": "stream",
     "text": [
      "Filtered string: zvo\n"
     ]
    }
   ],
   "source": [
    "S = \"zvvo\"\n",
    "filtered_str = removeDups(S)\n",
    "print(f\"Filtered string: {filtered_str}\")"
   ]
  },
  {
   "cell_type": "markdown",
   "id": "e9158922-b322-4456-b1db-8ac7be555ddb",
   "metadata": {},
   "source": [
    "<h1 style=\"text-align:center; font-size:80px; font-family: 'Brush Script MT', cursive; color:green\">Thankyou</h1>"
   ]
  }
 ],
 "metadata": {
  "kernelspec": {
   "display_name": "Python 3 (ipykernel)",
   "language": "python",
   "name": "python3"
  },
  "language_info": {
   "codemirror_mode": {
    "name": "ipython",
    "version": 3
   },
   "file_extension": ".py",
   "mimetype": "text/x-python",
   "name": "python",
   "nbconvert_exporter": "python",
   "pygments_lexer": "ipython3",
   "version": "3.10.12"
  }
 },
 "nbformat": 4,
 "nbformat_minor": 5
}
