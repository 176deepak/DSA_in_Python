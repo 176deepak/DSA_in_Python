{
 "cells": [
  {
   "cell_type": "markdown",
   "id": "ab99f2bd",
   "metadata": {},
   "source": [
    "<h1 style=\"text-align:center; font-size:40px; font-family: 'Lucida Console', 'Courier New', 'monospace'; color:blue \">Inbuilt DataStructures in Python</h1>"
   ]
  },
  {
   "cell_type": "markdown",
   "id": "a6887010",
   "metadata": {},
   "source": [
    "### Strings\n",
    "<hr>\n",
    "String is a basic inbuilt data structure of groups of characters in python.</br>\n",
    "String is immutable data structure. </br>\n",
    "We can not modify strings after defining. </br>\n",
    "We can access strings character using indexing(indexing starts from 0)."
   ]
  },
  {
   "cell_type": "code",
   "execution_count": 2,
   "id": "395b5c9e",
   "metadata": {},
   "outputs": [
    {
     "data": {
      "text/plain": [
       "'Hello Multiverse!'"
      ]
     },
     "execution_count": 2,
     "metadata": {},
     "output_type": "execute_result"
    }
   ],
   "source": [
    "my_string = \"Hello Multiverse!\"\n",
    "my_string"
   ]
  },
  {
   "cell_type": "code",
   "execution_count": 3,
   "id": "ecc46d8e",
   "metadata": {},
   "outputs": [
    {
     "data": {
      "text/plain": [
       "str"
      ]
     },
     "execution_count": 3,
     "metadata": {},
     "output_type": "execute_result"
    }
   ],
   "source": [
    "type(my_string)"
   ]
  },
  {
   "cell_type": "code",
   "execution_count": 19,
   "id": "b73442fb",
   "metadata": {},
   "outputs": [
    {
     "name": "stdout",
     "output_type": "stream",
     "text": [
      "l\n",
      "!\n",
      "ll\n",
      "!es\n"
     ]
    }
   ],
   "source": [
    "# accessing characters of my_string\n",
    "chr3 = my_string[2]           # +ve indexing\n",
    "print(chr3)\n",
    "\n",
    "chr = my_string[-1]           # -ve indexing\n",
    "print(chr)\n",
    "\n",
    "# slicing \n",
    "chrs = my_string[2:4]          # +ve slicing\n",
    "print(chrs)\n",
    "\n",
    "chrs = my_string[-1:-4:-1]        # -ve slicing \n",
    "print(chrs)"
   ]
  },
  {
   "cell_type": "code",
   "execution_count": 20,
   "id": "e24d3774",
   "metadata": {},
   "outputs": [
    {
     "name": "stdout",
     "output_type": "stream",
     "text": [
      "17\n"
     ]
    }
   ],
   "source": [
    "# length of string\n",
    "\n",
    "print(len(my_string))"
   ]
  },
  {
   "cell_type": "code",
   "execution_count": 21,
   "id": "2042a014",
   "metadata": {},
   "outputs": [
    {
     "ename": "TypeError",
     "evalue": "'str' object does not support item assignment",
     "output_type": "error",
     "traceback": [
      "\u001b[1;31m---------------------------------------------------------------------------\u001b[0m",
      "\u001b[1;31mTypeError\u001b[0m                                 Traceback (most recent call last)",
      "Cell \u001b[1;32mIn[21], line 3\u001b[0m\n\u001b[0;32m      1\u001b[0m \u001b[38;5;66;03m# trying to modify the string\u001b[39;00m\n\u001b[1;32m----> 3\u001b[0m my_string[\u001b[38;5;241m5\u001b[39m] \u001b[38;5;241m=\u001b[39m \u001b[38;5;124m\"\u001b[39m\u001b[38;5;124mW\u001b[39m\u001b[38;5;124m\"\u001b[39m\n\u001b[0;32m      4\u001b[0m my_string\n",
      "\u001b[1;31mTypeError\u001b[0m: 'str' object does not support item assignment"
     ]
    }
   ],
   "source": [
    "# trying to modify the string\n",
    "\n",
    "my_string[5] = \"W\"\n",
    "my_string"
   ]
  },
  {
   "cell_type": "code",
   "execution_count": 23,
   "id": "7611a1ad",
   "metadata": {},
   "outputs": [
    {
     "name": "stdout",
     "output_type": "stream",
     "text": [
      "Hello Multiverse! My name is Earth.\n"
     ]
    }
   ],
   "source": [
    "# concatination of strings\n",
    "\n",
    "my_string2 = \" My name is Earth.\"\n",
    "\n",
    "string = my_string+my_string2\n",
    "\n",
    "print(string)"
   ]
  },
  {
   "cell_type": "markdown",
   "id": "c2469a61",
   "metadata": {},
   "source": [
    "### List\n",
    "<hr>\n",
    "List is mutable inbuilt data structure in python. </br>\n",
    "List can contains multiples types of data. </br>\n",
    "We can access list elements using indexing or slicing. </br>\n",
    "We can modify list's element after defining."
   ]
  },
  {
   "cell_type": "code",
   "execution_count": 36,
   "id": "38fc5851",
   "metadata": {},
   "outputs": [
    {
     "data": {
      "text/plain": [
       "[1, 2, 1.5, 'abc', True]"
      ]
     },
     "execution_count": 36,
     "metadata": {},
     "output_type": "execute_result"
    }
   ],
   "source": [
    "my_list = [1, 2, 1.5, \"abc\", True]\n",
    "my_list"
   ]
  },
  {
   "cell_type": "code",
   "execution_count": 28,
   "id": "087cfcf8",
   "metadata": {},
   "outputs": [
    {
     "data": {
      "text/plain": [
       "5"
      ]
     },
     "execution_count": 28,
     "metadata": {},
     "output_type": "execute_result"
    }
   ],
   "source": [
    "len(my_list)"
   ]
  },
  {
   "cell_type": "code",
   "execution_count": 30,
   "id": "6bf338aa",
   "metadata": {},
   "outputs": [
    {
     "name": "stdout",
     "output_type": "stream",
     "text": [
      "1.5\n",
      "abc\n",
      "[2, 1.5]\n",
      "[True, 'abc', 1.5]\n"
     ]
    }
   ],
   "source": [
    "# accessing list elements using indexing and slicing\n",
    "\n",
    "ele = my_list[2]\n",
    "print(ele)                       # +ve indexing\n",
    "\n",
    "ele = my_list[-2]\n",
    "print(ele)                      # -ve indexing\n",
    "\n",
    "ems = my_list[1:3]\n",
    "print(ems)                       # +ve slicing\n",
    "\n",
    "ems = my_list[-1:-4:-1]\n",
    "print(ems)                       # -ve slicing"
   ]
  },
  {
   "cell_type": "code",
   "execution_count": 37,
   "id": "dfefc025",
   "metadata": {},
   "outputs": [
    {
     "name": "stdout",
     "output_type": "stream",
     "text": [
      "[1, 2, 1.5, 'abc', True]\n",
      "[1, 2, 1.5, 100, True]\n",
      "[1, 2, 500, 1000, True]\n"
     ]
    }
   ],
   "source": [
    "# trying to modifying list \n",
    "\n",
    "print(my_list)\n",
    "\n",
    "my_list[3] = 100\n",
    "print(my_list)                  # modifying using indexing\n",
    "\n",
    "my_list[2:4] = [500, 1000]\n",
    "print(my_list)                  # modifying using slicing   "
   ]
  },
  {
   "cell_type": "code",
   "execution_count": 39,
   "id": "ef483214",
   "metadata": {},
   "outputs": [
    {
     "name": "stdout",
     "output_type": "stream",
     "text": [
      "List before operation:  [1, 2, 500, 1000, True]\n",
      "Insertion at position:  [1, 2, 500, 2000, 1000, True]\n",
      "append operation(end):  [1, 2, 500, 2000, 1000, True, 5000]\n",
      "deletion from end:  [1, 2, 500, 2000, 1000, True]\n",
      "deletion from index 3:  [1, 2, 500, 1000, True]\n",
      "removing element first occurence of 1:  [2, 500, 1000, True]\n"
     ]
    }
   ],
   "source": [
    "# opeartions on list\n",
    "\n",
    "print(\"List before operation: \", my_list)\n",
    "\n",
    "# 1. inserting an element\n",
    "my_list.insert(3, 2000)\n",
    "print(\"Insertion at position: \",my_list)\n",
    "my_list.append(5000)\n",
    "print(\"append operation(end): \", my_list)\n",
    "\n",
    "# 2. deletion of elements\n",
    "my_list.pop()\n",
    "print(\"deletion from end: \", my_list)\n",
    "my_list.pop(3)\n",
    "print(\"deletion from index 3: \", my_list)\n",
    "my_list.remove(1)\n",
    "print(\"removing element first occurence of 1: \", my_list)"
   ]
  },
  {
   "cell_type": "code",
   "execution_count": 40,
   "id": "15380de8",
   "metadata": {},
   "outputs": [
    {
     "name": "stdout",
     "output_type": "stream",
     "text": [
      "concatenated list:  [2, 500, 1000, True, 2, 3, 5, 6]\n"
     ]
    }
   ],
   "source": [
    "# concatenation of lists\n",
    "my_list2 = [2, 3, 5, 6]\n",
    "\n",
    "list = my_list+my_list2\n",
    "print(\"concatenated list: \", list)"
   ]
  },
  {
   "cell_type": "markdown",
   "id": "f1d8eb81",
   "metadata": {},
   "source": [
    "### Tuples\n",
    "<hr>\n",
    "Tuple is immutable data structure in python. </br>\n",
    "Tuple represented using parenthesis. </br>\n",
    "Tuple supports indexing and slicing.</br>\n",
    "We can't modify tuples after defining."
   ]
  },
  {
   "cell_type": "code",
   "execution_count": 41,
   "id": "b45c2363",
   "metadata": {},
   "outputs": [
    {
     "data": {
      "text/plain": [
       "(1, 5, 1.5, 'abc', True)"
      ]
     },
     "execution_count": 41,
     "metadata": {},
     "output_type": "execute_result"
    }
   ],
   "source": [
    "my_tuple = (1, 5, 1.5, \"abc\", True)\n",
    "my_tuple"
   ]
  },
  {
   "cell_type": "code",
   "execution_count": 42,
   "id": "6a9156a3",
   "metadata": {},
   "outputs": [
    {
     "data": {
      "text/plain": [
       "tuple"
      ]
     },
     "execution_count": 42,
     "metadata": {},
     "output_type": "execute_result"
    }
   ],
   "source": [
    "type(my_tuple)"
   ]
  },
  {
   "cell_type": "code",
   "execution_count": 52,
   "id": "fb9fe994",
   "metadata": {},
   "outputs": [
    {
     "name": "stdout",
     "output_type": "stream",
     "text": [
      "5\n",
      "True\n",
      "(5, 1.5, 'abc')\n",
      "(True, 1.5)\n"
     ]
    }
   ],
   "source": [
    "# accessing elements using indexing and slicing\n",
    "\n",
    "ele = my_tuple[1]\n",
    "print(ele)\n",
    "\n",
    "ele = my_tuple[-1]\n",
    "print(ele)\n",
    "\n",
    "ems = my_tuple[1:4]\n",
    "print(ems)\n",
    "\n",
    "ems = my_tuple[-1:-5:-2]\n",
    "print(ems)"
   ]
  },
  {
   "cell_type": "code",
   "execution_count": 53,
   "id": "7f4cf760",
   "metadata": {},
   "outputs": [
    {
     "ename": "TypeError",
     "evalue": "'tuple' object does not support item assignment",
     "output_type": "error",
     "traceback": [
      "\u001b[1;31m---------------------------------------------------------------------------\u001b[0m",
      "\u001b[1;31mTypeError\u001b[0m                                 Traceback (most recent call last)",
      "Cell \u001b[1;32mIn[53], line 3\u001b[0m\n\u001b[0;32m      1\u001b[0m \u001b[38;5;66;03m# trying to modify tuple\u001b[39;00m\n\u001b[1;32m----> 3\u001b[0m my_tuple[\u001b[38;5;241m5\u001b[39m] \u001b[38;5;241m=\u001b[39m \u001b[38;5;124m\"\u001b[39m\u001b[38;5;124mmodified_tuple\u001b[39m\u001b[38;5;124m\"\u001b[39m\n\u001b[0;32m      4\u001b[0m \u001b[38;5;28mprint\u001b[39m(my_tuple)\n",
      "\u001b[1;31mTypeError\u001b[0m: 'tuple' object does not support item assignment"
     ]
    }
   ],
   "source": [
    "# trying to modify tuple\n",
    "\n",
    "my_tuple[5] = \"modified_tuple\"\n",
    "print(my_tuple)"
   ]
  },
  {
   "cell_type": "markdown",
   "id": "d56e7ad2",
   "metadata": {},
   "source": [
    "### Dictionaries\n",
    "<hr>\n",
    "Dict is mutable builtin data structure in python.</br>\n",
    "Simply dictionary is group of key:value pairs. </br>\n",
    "Dict not supports indexing but we can access dictionary values using it's keys.</br>\n",
    "We can modify dictionary values after definition."
   ]
  },
  {
   "cell_type": "code",
   "execution_count": 55,
   "id": "67bb29a0",
   "metadata": {},
   "outputs": [
    {
     "data": {
      "text/plain": [
       "{'name': 'xyz', 'age': 21, 'salary': 20.5}"
      ]
     },
     "execution_count": 55,
     "metadata": {},
     "output_type": "execute_result"
    }
   ],
   "source": [
    "my_dict = {\n",
    "    \"name\": \"xyz\",\n",
    "    \"age\": 21,\n",
    "    \"salary\":20.50\n",
    "}\n",
    "my_dict"
   ]
  },
  {
   "cell_type": "code",
   "execution_count": 56,
   "id": "722c9eec",
   "metadata": {},
   "outputs": [
    {
     "data": {
      "text/plain": [
       "dict"
      ]
     },
     "execution_count": 56,
     "metadata": {},
     "output_type": "execute_result"
    }
   ],
   "source": [
    "type(my_dict)"
   ]
  },
  {
   "cell_type": "code",
   "execution_count": 58,
   "id": "13ceb00a",
   "metadata": {},
   "outputs": [
    {
     "ename": "KeyError",
     "evalue": "1",
     "output_type": "error",
     "traceback": [
      "\u001b[1;31m---------------------------------------------------------------------------\u001b[0m",
      "\u001b[1;31mKeyError\u001b[0m                                  Traceback (most recent call last)",
      "Cell \u001b[1;32mIn[58], line 3\u001b[0m\n\u001b[0;32m      1\u001b[0m \u001b[38;5;66;03m# accessing dict values\u001b[39;00m\n\u001b[1;32m----> 3\u001b[0m \u001b[38;5;28mprint\u001b[39m(\u001b[43mmy_dict\u001b[49m\u001b[43m[\u001b[49m\u001b[38;5;241;43m1\u001b[39;49m\u001b[43m]\u001b[49m)\n",
      "\u001b[1;31mKeyError\u001b[0m: 1"
     ]
    }
   ],
   "source": [
    "# accessing dict values\n",
    "\n",
    "print(my_dict[1])"
   ]
  },
  {
   "cell_type": "code",
   "execution_count": 60,
   "id": "1560f731",
   "metadata": {},
   "outputs": [
    {
     "name": "stdout",
     "output_type": "stream",
     "text": [
      "xyz\n",
      "20.5\n"
     ]
    }
   ],
   "source": [
    "print(my_dict['name'])\n",
    "print(my_dict['salary'])"
   ]
  },
  {
   "cell_type": "code",
   "execution_count": 61,
   "id": "67c83fd8",
   "metadata": {},
   "outputs": [
    {
     "name": "stdout",
     "output_type": "stream",
     "text": [
      "{'name': 'abc', 'age': 21, 'salary': 20.5}\n"
     ]
    }
   ],
   "source": [
    "my_dict['name'] = 'abc'\n",
    "print(my_dict)"
   ]
  },
  {
   "cell_type": "code",
   "execution_count": 62,
   "id": "df906873",
   "metadata": {},
   "outputs": [],
   "source": [
    "# adding new key:value in dict\n",
    "\n",
    "my_dict['company'] = 'abcxyz'"
   ]
  },
  {
   "cell_type": "code",
   "execution_count": 63,
   "id": "e8de12d4",
   "metadata": {},
   "outputs": [
    {
     "data": {
      "text/plain": [
       "{'name': 'abc', 'age': 21, 'salary': 20.5, 'company': 'abcxyz'}"
      ]
     },
     "execution_count": 63,
     "metadata": {},
     "output_type": "execute_result"
    }
   ],
   "source": [
    "my_dict"
   ]
  },
  {
   "cell_type": "markdown",
   "id": "8e14a23c",
   "metadata": {},
   "source": [
    "### Sets\n",
    "<hr>\n",
    "Set is immutable builtin data structure in python.</br>\n",
    "Simply set is represented using curly braces. </br>\n",
    "Set not supports indexing it's a unordered collection.</br>\n",
    "Set only contains unique entry, it can't store same elements multiple times."
   ]
  },
  {
   "cell_type": "code",
   "execution_count": 70,
   "id": "e47ab3a7",
   "metadata": {},
   "outputs": [
    {
     "data": {
      "text/plain": [
       "{1, 2, 3, 4, 5, 'name'}"
      ]
     },
     "execution_count": 70,
     "metadata": {},
     "output_type": "execute_result"
    }
   ],
   "source": [
    "my_set = {1, 2, 3, 4, 5, \"name\", 2, \"name\"}\n",
    "my_set"
   ]
  },
  {
   "cell_type": "code",
   "execution_count": 69,
   "id": "f8f6901e",
   "metadata": {},
   "outputs": [
    {
     "data": {
      "text/plain": [
       "set"
      ]
     },
     "execution_count": 69,
     "metadata": {},
     "output_type": "execute_result"
    }
   ],
   "source": [
    "type(my_set)"
   ]
  },
  {
   "cell_type": "code",
   "execution_count": 72,
   "id": "2803f7d8",
   "metadata": {},
   "outputs": [
    {
     "ename": "TypeError",
     "evalue": "'set' object is not subscriptable",
     "output_type": "error",
     "traceback": [
      "\u001b[1;31m---------------------------------------------------------------------------\u001b[0m",
      "\u001b[1;31mTypeError\u001b[0m                                 Traceback (most recent call last)",
      "Cell \u001b[1;32mIn[72], line 2\u001b[0m\n\u001b[0;32m      1\u001b[0m \u001b[38;5;66;03m# trying to accessing sets elements using indexing or slicing\u001b[39;00m\n\u001b[1;32m----> 2\u001b[0m \u001b[43mmy_set\u001b[49m\u001b[43m[\u001b[49m\u001b[38;5;241;43m1\u001b[39;49m\u001b[43m]\u001b[49m\n",
      "\u001b[1;31mTypeError\u001b[0m: 'set' object is not subscriptable"
     ]
    }
   ],
   "source": [
    "# trying to accessing sets elements using indexing or slicing\n",
    "my_set[1]"
   ]
  },
  {
   "cell_type": "code",
   "execution_count": 74,
   "id": "b74d6190",
   "metadata": {},
   "outputs": [
    {
     "ename": "TypeError",
     "evalue": "'set' object does not support item assignment",
     "output_type": "error",
     "traceback": [
      "\u001b[1;31m---------------------------------------------------------------------------\u001b[0m",
      "\u001b[1;31mTypeError\u001b[0m                                 Traceback (most recent call last)",
      "Cell \u001b[1;32mIn[74], line 3\u001b[0m\n\u001b[0;32m      1\u001b[0m \u001b[38;5;66;03m# trying to modifying set\u001b[39;00m\n\u001b[1;32m----> 3\u001b[0m my_set[\u001b[38;5;241m1\u001b[39m] \u001b[38;5;241m=\u001b[39m \u001b[38;5;241m100\u001b[39m\n\u001b[0;32m      4\u001b[0m \u001b[38;5;28mprint\u001b[39m(my_set)\n",
      "\u001b[1;31mTypeError\u001b[0m: 'set' object does not support item assignment"
     ]
    }
   ],
   "source": [
    "# trying to modifying set\n",
    "\n",
    "my_set[1] = 100\n",
    "print(my_set)"
   ]
  },
  {
   "cell_type": "markdown",
   "id": "03b12b9f-f4f5-42d1-b85c-93cbfc44b147",
   "metadata": {},
   "source": [
    "<h1 style=\"text-align:center; font-size:80px; font-family: 'Brush Script MT', cursive; color:blue\">Thankyou</h1>"
   ]
  }
 ],
 "metadata": {
  "kernelspec": {
   "display_name": "Python 3 (ipykernel)",
   "language": "python",
   "name": "python3"
  },
  "language_info": {
   "codemirror_mode": {
    "name": "ipython",
    "version": 3
   },
   "file_extension": ".py",
   "mimetype": "text/x-python",
   "name": "python",
   "nbconvert_exporter": "python",
   "pygments_lexer": "ipython3",
   "version": "3.10.12"
  }
 },
 "nbformat": 4,
 "nbformat_minor": 5
}
