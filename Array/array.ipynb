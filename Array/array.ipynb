{
 "cells": [
  {
   "cell_type": "markdown",
   "id": "da7b0f05-7745-476e-9165-1b836773b1f4",
   "metadata": {},
   "source": [
    "<h1 style=\"text-align:center; font-size:40px; font-family: 'Lucida Console', 'Courier New', 'monospace'; color:#87CEEB \">Array Data Structure</h1>"
   ]
  },
  {
   "cell_type": "markdown",
   "id": "44de76b7-aa3c-4569-b2dc-0cf79f03b706",
   "metadata": {},
   "source": [
    "## Introduction \n",
    "<hr>"
   ]
  },
  {
   "cell_type": "markdown",
   "id": "b8392178-3a74-4292-8c84-1c8663c18504",
   "metadata": {},
   "source": [
    "An array is a basic data structure in programming, widely applied for various purposes. It's a collection of elements with the same data type, stored in a contiguous, fixed-size fashion. Elements are accessed efficiently using unique numeric indexing(starts from 0). Arrays are also used to implement advanced data structure like stack, queue.\n",
    "\n",
    "Here are some key characteristics and properties of arrays:\n",
    "1. Fixed Size: Arrays have a fixed size.\n",
    "2. Homogeneous: Arrays contain only single data type values.\n",
    "3. Contiguous Memory: Elements are stored in contiguous memory blocks.\n",
    "4. Supports Indexing: Arrays support indexing-based element access, with indexing possibly being 0-based or 1-based.\n",
    "5. Constant-Time Access: Elements can be accessed in constant time using indexing.\n",
    "6. Multidimensional Arrays: Arrays can have different dimensions, such as 2D, 3D, 4D, and so on.\n",
    "   \n",
    "`In Python, an array is not a built-in data structure` like in other languages such as C, C++, and Java. However, we can implement an array data structure in Python using lists. In Python, lists behave like arrays. The main difference between lists and arrays is that arrays can only store single-type data values, whereas lists can store data values of multiple types.\n",
    "There is another way to implement arrays in Python, which is through the use of Numpy's array function. Numpy is an open-source library for the Python language, designed for scientific computation. Using Numpy's array function, we can define an array data structure in Python. Numpy's arrays, on the other hand, only contain single-type values."
   ]
  },
  {
   "cell_type": "markdown",
   "id": "64c1e676-cedf-481d-a405-30598e2e5ff3",
   "metadata": {},
   "source": [
    "## Implementation using Python\n",
    "<hr>"
   ]
  },
  {
   "cell_type": "code",
   "execution_count": 2,
   "id": "559268f4-18a2-4bab-891c-ab80922fd235",
   "metadata": {},
   "outputs": [
    {
     "name": "stdout",
     "output_type": "stream",
     "text": [
      "Array is(using list): [1, 2, 3, 4, 5]\n"
     ]
    }
   ],
   "source": [
    "# array using list\n",
    "my_array = [1, 2, 3, 4, 5]\n",
    "print(f\"Array is(using list): {my_array}\")"
   ]
  },
  {
   "cell_type": "code",
   "execution_count": 3,
   "id": "c3be938a-e0be-4a80-b09a-25ed8c252c34",
   "metadata": {},
   "outputs": [
    {
     "name": "stdout",
     "output_type": "stream",
     "text": [
      "type of array is: <class 'list'>\n"
     ]
    }
   ],
   "source": [
    "# data type of array\n",
    "# prints 'list' because we created array using list and list is also a data type in python\n",
    "print(f\"type of array is: {type(my_array)}\")"
   ]
  },
  {
   "cell_type": "code",
   "execution_count": 13,
   "id": "fd5c0ab7-edfb-4e20-bccc-97ad194023c2",
   "metadata": {},
   "outputs": [
    {
     "name": "stdout",
     "output_type": "stream",
     "text": [
      "Multidimensional array(2D): [[1, 2, 3, 4, 5], [6, 7, 8, 9, 10]]\n"
     ]
    }
   ],
   "source": [
    "# multidimensinol arrays using list:----- 2D array\n",
    "# for defining multidimensional arrays we just insert arrays into array, as we did below\n",
    "nd_array = [[1, 2, 3, 4, 5], [6, 7, 8, 9, 10]]\n",
    "print(f\"Multidimensional array(2D): {nd_array}\")"
   ]
  },
  {
   "cell_type": "markdown",
   "id": "120d4834-f64f-4269-9125-1a5efe11e634",
   "metadata": {},
   "source": [
    "#### Array using Numpy array()"
   ]
  },
  {
   "cell_type": "code",
   "execution_count": 14,
   "id": "a420f296-ff27-4c93-899a-cae2d18c06fd",
   "metadata": {},
   "outputs": [],
   "source": [
    "# loading numpy modules\n",
    "import numpy as np"
   ]
  },
  {
   "cell_type": "code",
   "execution_count": 15,
   "id": "6a759429-ee2b-4ee6-a7cd-d9a87241738a",
   "metadata": {},
   "outputs": [
    {
     "name": "stdout",
     "output_type": "stream",
     "text": [
      "Array using numpy: [1 2 3 4 5]\n"
     ]
    }
   ],
   "source": [
    "# using numpy.array, we can define arrays\n",
    "np_array = np.array([1, 2, 3, 4, 5])\n",
    "print(f\"Array using numpy: {np_array}\")"
   ]
  },
  {
   "cell_type": "code",
   "execution_count": 16,
   "id": "8f200db1-6067-4bb5-b8c8-b046517ea9d2",
   "metadata": {},
   "outputs": [
    {
     "name": "stdout",
     "output_type": "stream",
     "text": [
      "type of array is: <class 'numpy.ndarray'>\n"
     ]
    }
   ],
   "source": [
    "# data type of numpy array\n",
    "# prints 'numpy.ndarray' because we created array using numpy\n",
    "print(f\"type of array is: {type(np_array)}\")"
   ]
  },
  {
   "cell_type": "code",
   "execution_count": 17,
   "id": "3bcc672e-2afe-4c47-94f8-5dcc0eb35918",
   "metadata": {},
   "outputs": [
    {
     "name": "stdout",
     "output_type": "stream",
     "text": [
      "Dimension of array: 1\n"
     ]
    }
   ],
   "source": [
    "# we can also get dimension of arrays(if array is numpy array) using numpy.ndim \n",
    "print(f\"Dimension of array: {np_array.ndim}\")"
   ]
  },
  {
   "cell_type": "code",
   "execution_count": 24,
   "id": "34f86241-a46e-42a5-b546-de85f5f7e816",
   "metadata": {},
   "outputs": [
    {
     "name": "stdout",
     "output_type": "stream",
     "text": [
      "3D Array using numpy:\n",
      "[[[ 1  2  3  4  5]\n",
      "  [ 6  7  8  9 10]\n",
      "  [ 1  2  3  4  5]\n",
      "  [ 6  7  8  9 10]]]\n"
     ]
    }
   ],
   "source": [
    "# 3D Array or MultiDimensional Array\n",
    "np_3Darray = np.array([[[1, 2, 3, 4, 5], [6, 7, 8, 9, 10], [1, 2, 3, 4, 5], [6, 7, 8, 9, 10]]])\n",
    "print(f\"3D Array using numpy:\\n{np_3Darray}\")"
   ]
  },
  {
   "cell_type": "code",
   "execution_count": 25,
   "id": "f5c214c7-98bf-4af2-ade3-605079449d4e",
   "metadata": {},
   "outputs": [
    {
     "name": "stdout",
     "output_type": "stream",
     "text": [
      "Dimension of 3D array: 3\n"
     ]
    }
   ],
   "source": [
    "# dimension of 3D array\n",
    "print(f\"Dimension of 3D array: {np_3Darray.ndim}\")"
   ]
  },
  {
   "cell_type": "markdown",
   "id": "20d39cd5-2d3c-4076-b905-24233326bda8",
   "metadata": {},
   "source": [
    "## Operations in Arrays\n",
    "1. Insertion:- Inserting an element into array\n",
    "2. Deletion:- Deleting an element from array\n",
    "3. Update:- Update an element value with new value\n",
    "4. Search:- Search an element into array\n",
    "5. Accesssing:- Access an element from array using indexes\n",
    "\n",
    "<hr>"
   ]
  },
  {
   "cell_type": "code",
   "execution_count": 27,
   "id": "a8a3b562-83c0-4b1a-a9a9-14c41b390cb8",
   "metadata": {},
   "outputs": [],
   "source": [
    "# array for performing operations\n",
    "my_array = [1, 2, 3, 4, 5]"
   ]
  },
  {
   "cell_type": "markdown",
   "id": "5af4c402-ec58-45c6-b76a-92dd895130ba",
   "metadata": {},
   "source": [
    "#### Insertion"
   ]
  },
  {
   "cell_type": "code",
   "execution_count": 29,
   "id": "a0608d3b-ae1e-4fe7-af3c-bfcc6b678ade",
   "metadata": {},
   "outputs": [
    {
     "name": "stdout",
     "output_type": "stream",
     "text": [
      "Array before insertion(at index): [1, 2, 3, 4, 5, 100]\n",
      "Array after insertion(at index): [1, 2, 3, 500, 4, 5, 100]\n"
     ]
    }
   ],
   "source": [
    "# insertion at specified position \n",
    "print(f\"Array before insertion(at index): {my_array}\")\n",
    "my_array.insert(3, 500)\n",
    "print(f\"Array after insertion(at index): {my_array}\")"
   ]
  },
  {
   "cell_type": "code",
   "execution_count": 28,
   "id": "bb21d7a2-de5d-48c5-945d-1c918aa3e0d6",
   "metadata": {},
   "outputs": [
    {
     "name": "stdout",
     "output_type": "stream",
     "text": [
      "Array before insertion(at end): [1, 2, 3, 4, 5]\n",
      "Array after insertion(at end): [1, 2, 3, 4, 5, 100]\n"
     ]
    }
   ],
   "source": [
    "# insertion at end of array\n",
    "print(f\"Array before insertion(at end): {my_array}\")\n",
    "my_array.append(100)\n",
    "print(f\"Array after insertion(at end): {my_array}\")"
   ]
  },
  {
   "cell_type": "markdown",
   "id": "8609d763-46bd-43c5-86d0-e5416fceaebc",
   "metadata": {},
   "source": [
    "#### Deletion"
   ]
  },
  {
   "cell_type": "code",
   "execution_count": 31,
   "id": "a6b18df3-9151-41e6-b167-83a662446bbc",
   "metadata": {},
   "outputs": [
    {
     "name": "stdout",
     "output_type": "stream",
     "text": [
      "Array before deletion(from loc): [1, 2, 3, 500, 4, 5]\n",
      "Deleted element from 2 index:  3\n",
      "Array after insertion(at end): [1, 2, 500, 4, 5]\n"
     ]
    }
   ],
   "source": [
    "# deletion from location\n",
    "print(f\"Array before deletion(from loc): {my_array}\")\n",
    "item = my_array.pop(2)\n",
    "print(\"Deleted element from 2 index: \", item)\n",
    "print(f\"Array after deletion(from loc): {my_array}\")"
   ]
  },
  {
   "cell_type": "code",
   "execution_count": 30,
   "id": "74e00087-c7dd-422d-9bb2-f48a06a16b2b",
   "metadata": {},
   "outputs": [
    {
     "name": "stdout",
     "output_type": "stream",
     "text": [
      "Array before deletion(at end): [1, 2, 3, 500, 4, 5, 100]\n",
      "Deleted element:  100\n",
      "Array after deletion(at end): [1, 2, 3, 500, 4, 5]\n"
     ]
    }
   ],
   "source": [
    "# Deletion from end of array\n",
    "print(f\"Array before deletion(at end): {my_array}\")\n",
    "item = my_array.pop()\n",
    "print(\"Deleted element: \", item)\n",
    "print(f\"Array after deletion(at end): {my_array}\")"
   ]
  },
  {
   "cell_type": "markdown",
   "id": "33430b75-c1dd-4d67-9180-d6e3ab3e857b",
   "metadata": {},
   "source": [
    "#### Update"
   ]
  },
  {
   "cell_type": "code",
   "execution_count": 33,
   "id": "d5607606-7544-4593-85fc-62a8d2d70bbf",
   "metadata": {},
   "outputs": [
    {
     "name": "stdout",
     "output_type": "stream",
     "text": [
      "Array before update: [1, 2, 500, 4, 5]\n",
      "Array after update: [1, 2, 100, 4, 5]\n"
     ]
    }
   ],
   "source": [
    "print(f\"Array before update: {my_array}\")\n",
    "# updating element at index 2 with value 100 \n",
    "my_array[2] = 100\n",
    "print(f\"Array after update: {my_array}\")"
   ]
  },
  {
   "cell_type": "markdown",
   "id": "22cb3f2d-b092-467d-a9c9-c3331d6c8b3d",
   "metadata": {},
   "source": [
    "#### Search"
   ]
  },
  {
   "cell_type": "code",
   "execution_count": 34,
   "id": "248e28e9-5ddd-48bd-a736-dd4c83268cd8",
   "metadata": {},
   "outputs": [
    {
     "name": "stdout",
     "output_type": "stream",
     "text": [
      "element found at:  2\n"
     ]
    }
   ],
   "source": [
    "# searching an element in list using index()\n",
    "element_to_find = 100\n",
    "# index number \n",
    "index = my_array.index(element_to_find)\n",
    "print(\"element found at: \", index)"
   ]
  },
  {
   "cell_type": "markdown",
   "id": "b5d26b82-842a-4a44-914f-014ed72ee82e",
   "metadata": {},
   "source": [
    "#### Accessing an element"
   ]
  },
  {
   "cell_type": "code",
   "execution_count": 35,
   "id": "d0a9d36d-4697-4cb8-b0f7-863b2cf5a0bc",
   "metadata": {},
   "outputs": [
    {
     "name": "stdout",
     "output_type": "stream",
     "text": [
      "first element of array:  1\n",
      "last element of array:  5\n"
     ]
    }
   ],
   "source": [
    "print(\"first element of array: \", my_array[0])\n",
    "print(\"last element of array: \", my_array[-1])"
   ]
  },
  {
   "cell_type": "markdown",
   "id": "296e5e61-773c-4cf7-8a33-5825718097b0",
   "metadata": {},
   "source": [
    "## Advantages and Disadvantages of Array\n",
    "<hr>\n",
    "Arrays have their upsides and downsides. Let's break it down:\n",
    "\n",
    "**Advantages of Arrays:**\n",
    "1. **Quick Access:** Arrays let you get to elements super fast. Finding an element using its index is speedy, no matter the array's size.\n",
    "2. **Predictable Memory:** They allocate memory in one go, which makes memory management predictable and efficient.\n",
    "3. **Easy Looping:** You can easily go through all elements with a loop, thanks to the predictable memory layout.\n",
    "4. **Multidimensional:** Arrays can go beyond one dimension, handling complex stuff like grids or matrices.\n",
    "5. **Low-Level Control:** In low-level languages like C, you can directly work with arrays at the memory level, giving you precise control.\n",
    "\n",
    "**Disadvantages of Arrays:**\n",
    "1. **Set Size:** Arrays have a fixed size. Once you set it, you can't change it. This can be a hassle if you deal with collections of varying sizes.\n",
    "2. **Awkward Inserts and Deletions:** Adding or removing elements can be a pain, especially in big arrays. You might need to shift stuff around.\n",
    "3. **Data Type Limits:** Everything in an array must be the same data type. That's not great for mixed collections.\n",
    "4. **Memory Waste:** If you make a big array but use only a bit, you might waste memory since all of it's reserved.\n",
    "5. **DIY Functions:** Arrays in low-level languages lack built-in functions for things like searching or sorting. You'll have to code those yourself.\n",
    "6. **No Auto-Resizing:** Regular arrays don't resize on their own. You'll have to make a new one and copy stuff over when it gets too small.\n",
    "7. **Sparse Data Trouble:** Arrays struggle with sparse data – they reserve memory for everything, even empty slots.\n",
    "\n",
    "To sum up, arrays are great for quick and efficient data handling, but their size and data type restrictions can be limiting. The right choice depends on your specific app's needs."
   ]
  },
  {
   "cell_type": "markdown",
   "id": "9280ebde-174f-4b63-9692-360c983a58e5",
   "metadata": {},
   "source": [
    "<h1 style=\"text-align:center; font-size:100px; font-family: 'Brush Script MT', cursive; color:#87CEEB\">Thankyou</h1>"
   ]
  },
  {
   "cell_type": "code",
   "execution_count": null,
   "id": "91c8a8af-10e6-4af9-bda2-84d0e60f1f07",
   "metadata": {},
   "outputs": [],
   "source": []
  }
 ],
 "metadata": {
  "kernelspec": {
   "display_name": "Python 3 (ipykernel)",
   "language": "python",
   "name": "python3"
  },
  "language_info": {
   "codemirror_mode": {
    "name": "ipython",
    "version": 3
   },
   "file_extension": ".py",
   "mimetype": "text/x-python",
   "name": "python",
   "nbconvert_exporter": "python",
   "pygments_lexer": "ipython3",
   "version": "3.10.12"
  }
 },
 "nbformat": 4,
 "nbformat_minor": 5
}
