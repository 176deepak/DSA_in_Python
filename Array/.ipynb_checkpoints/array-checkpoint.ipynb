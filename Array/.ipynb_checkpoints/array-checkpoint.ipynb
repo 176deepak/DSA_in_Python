{
 "cells": [
  {
   "cell_type": "markdown",
   "id": "da7b0f05-7745-476e-9165-1b836773b1f4",
   "metadata": {},
   "source": [
    "# Array Data Structure\n",
    "\n",
    "<img src=\"array-img.png\" alt = \"array-img\" style=\"width:50%; margin-left: auto; margin-right: auto;\">"
   ]
  },
  {
   "cell_type": "markdown",
   "id": "44de76b7-aa3c-4569-b2dc-0cf79f03b706",
   "metadata": {},
   "source": [
    "_______________________"
   ]
  },
  {
   "cell_type": "markdown",
   "id": "15a77c3a-ef19-40fd-b41a-241e73af4e14",
   "metadata": {},
   "source": [
    "An array is a fundamental data structure used in computer programming to store and manage collections of elements. It is a contiguous, fixed-size collection of elements, all of which must have the same data type. Each element in an array is identified by its index, which is a unique numeric identifier that indicates its position within the array. Arrays are widely used in programming because of their efficiency in accessing elements, which is achieved in constant time (O(1)) by directly specifying the index.\n",
    "\n",
    "Here are some key characteristics and properties of arrays:\n",
    "\n",
    "1. Fixed Size\n",
    "2. Homogeneouseous\n",
    "3. Contiguous Memory\n",
    "4. Zero-Based Indexing\n",
    "5. Constant-Time Access\n",
    "6. Insertion and Deletion\n",
    "7. Dynamic Arrays\n",
    "8. Multidimensional Arrays\n",
    "   \n",
    "Arrays are a fundamental building block in programming and are used extensively in a wide range of applications, from simple data storage to more complex algorithms and data structures like lists, queues, stacks, matrices, and more.\n",
    "\n",
    "`In Python, Array is not a builtin data structure` like other languages C, C++, Java etc. But, We can implement array data structure in python using list. In Python, List behaves like arrays. There is only one difference in list and arrays is, array can only store single type data values and list can store multiple types data values.\n",
    "There is one more way to implement array in python. Which is Numpy's array function. Numpy is open source library for python laguage for scientific computation. Using numpy's array function we can define array data structure in python. Numpy's array only contains single type values.ngle type values."
   ]
  },
  {
   "cell_type": "markdown",
   "id": "64c1e676-cedf-481d-a405-30598e2e5ff3",
   "metadata": {},
   "source": [
    "____________________________________"
   ]
  },
  {
   "cell_type": "markdown",
   "id": "a8284ef4-c76f-46e3-a72c-4c53b4baaa96",
   "metadata": {},
   "source": [
    "## Array using Lists"
   ]
  },
  {
   "cell_type": "code",
   "execution_count": 1,
   "id": "559268f4-18a2-4bab-891c-ab80922fd235",
   "metadata": {},
   "outputs": [
    {
     "data": {
      "text/plain": [
       "[1, 2, 3, 4, 5]"
      ]
     },
     "execution_count": 1,
     "metadata": {},
     "output_type": "execute_result"
    }
   ],
   "source": [
    "my_array = [1, 2, 3, 4, 5]\n",
    "my_array"
   ]
  },
  {
   "cell_type": "code",
   "execution_count": 2,
   "id": "c3be938a-e0be-4a80-b09a-25ed8c252c34",
   "metadata": {},
   "outputs": [
    {
     "data": {
      "text/plain": [
       "list"
      ]
     },
     "execution_count": 2,
     "metadata": {},
     "output_type": "execute_result"
    }
   ],
   "source": [
    "type(my_array)"
   ]
  },
  {
   "cell_type": "code",
   "execution_count": 3,
   "id": "fd5c0ab7-edfb-4e20-bccc-97ad194023c2",
   "metadata": {},
   "outputs": [
    {
     "data": {
      "text/plain": [
       "[[1, 2, 3, 4, 5], [6, 7, 8, 9, 10]]"
      ]
     },
     "execution_count": 3,
     "metadata": {},
     "output_type": "execute_result"
    }
   ],
   "source": [
    "# multidimensinol arrays using list\n",
    "\n",
    "my_array = [[1, 2, 3, 4, 5], [6, 7, 8, 9, 10]]\n",
    "my_array"
   ]
  },
  {
   "cell_type": "markdown",
   "id": "120d4834-f64f-4269-9125-1a5efe11e634",
   "metadata": {},
   "source": [
    "## Array using Numpy array()"
   ]
  },
  {
   "cell_type": "code",
   "execution_count": 4,
   "id": "a420f296-ff27-4c93-899a-cae2d18c06fd",
   "metadata": {},
   "outputs": [],
   "source": [
    "import numpy as np"
   ]
  },
  {
   "cell_type": "code",
   "execution_count": 5,
   "id": "6a759429-ee2b-4ee6-a7cd-d9a87241738a",
   "metadata": {},
   "outputs": [
    {
     "data": {
      "text/plain": [
       "array([1, 2, 3, 4, 5])"
      ]
     },
     "execution_count": 5,
     "metadata": {},
     "output_type": "execute_result"
    }
   ],
   "source": [
    "my_Array = np.array([1, 2, 3, 4, 5])\n",
    "my_Array"
   ]
  },
  {
   "cell_type": "code",
   "execution_count": 6,
   "id": "8f200db1-6067-4bb5-b8c8-b046517ea9d2",
   "metadata": {},
   "outputs": [
    {
     "data": {
      "text/plain": [
       "numpy.ndarray"
      ]
     },
     "execution_count": 6,
     "metadata": {},
     "output_type": "execute_result"
    }
   ],
   "source": [
    "type(my_Array)"
   ]
  },
  {
   "cell_type": "code",
   "execution_count": 7,
   "id": "3bcc672e-2afe-4c47-94f8-5dcc0eb35918",
   "metadata": {},
   "outputs": [
    {
     "data": {
      "text/plain": [
       "(5,)"
      ]
     },
     "execution_count": 7,
     "metadata": {},
     "output_type": "execute_result"
    }
   ],
   "source": [
    "my_Array.shape"
   ]
  },
  {
   "cell_type": "code",
   "execution_count": 8,
   "id": "218ca846-f590-47ff-91e5-0ebe2b09b2ce",
   "metadata": {},
   "outputs": [
    {
     "data": {
      "text/plain": [
       "1"
      ]
     },
     "execution_count": 8,
     "metadata": {},
     "output_type": "execute_result"
    }
   ],
   "source": [
    "my_Array.ndim"
   ]
  },
  {
   "cell_type": "code",
   "execution_count": 9,
   "id": "c966b184-9ba2-4fb5-ae3b-9b4310b201f0",
   "metadata": {},
   "outputs": [
    {
     "data": {
      "text/plain": [
       "array([[ 1,  2,  3,  4,  5],\n",
       "       [ 6,  7,  8,  9, 10]])"
      ]
     },
     "execution_count": 9,
     "metadata": {},
     "output_type": "execute_result"
    }
   ],
   "source": [
    "# 2D Array using np.array\n",
    "\n",
    "my_Array = np.array([[1, 2, 3, 4, 5], [6, 7, 8, 9, 10]])\n",
    "my_Array"
   ]
  },
  {
   "cell_type": "code",
   "execution_count": 10,
   "id": "ca9f56cb-ae2f-424d-a3ec-9bb69a490bd6",
   "metadata": {},
   "outputs": [
    {
     "data": {
      "text/plain": [
       "numpy.ndarray"
      ]
     },
     "execution_count": 10,
     "metadata": {},
     "output_type": "execute_result"
    }
   ],
   "source": [
    "type(my_Array)"
   ]
  },
  {
   "cell_type": "code",
   "execution_count": 11,
   "id": "3847260e-6f8a-4ca8-ba22-f5e90126b3b2",
   "metadata": {},
   "outputs": [
    {
     "data": {
      "text/plain": [
       "(2, 5)"
      ]
     },
     "execution_count": 11,
     "metadata": {},
     "output_type": "execute_result"
    }
   ],
   "source": [
    "my_Array.shape"
   ]
  },
  {
   "cell_type": "code",
   "execution_count": 12,
   "id": "86b39138-6c34-425b-8036-046c3f52c1f7",
   "metadata": {},
   "outputs": [
    {
     "data": {
      "text/plain": [
       "2"
      ]
     },
     "execution_count": 12,
     "metadata": {},
     "output_type": "execute_result"
    }
   ],
   "source": [
    "my_Array.ndim"
   ]
  },
  {
   "cell_type": "code",
   "execution_count": 13,
   "id": "34f86241-a46e-42a5-b546-de85f5f7e816",
   "metadata": {},
   "outputs": [
    {
     "data": {
      "text/plain": [
       "array([[[ 1,  2,  3,  4,  5],\n",
       "        [ 6,  7,  8,  9, 10],\n",
       "        [ 1,  2,  3,  4,  5],\n",
       "        [ 6,  7,  8,  9, 10]]])"
      ]
     },
     "execution_count": 13,
     "metadata": {},
     "output_type": "execute_result"
    }
   ],
   "source": [
    "# 3D Array or MultiDimensional Array\n",
    "\n",
    "my_Array = np.array([[[1, 2, 3, 4, 5], [6, 7, 8, 9, 10], [1, 2, 3, 4, 5], [6, 7, 8, 9, 10]]])\n",
    "my_Array"
   ]
  },
  {
   "cell_type": "code",
   "execution_count": 14,
   "id": "a459410d-e74c-482b-8988-5cf044269834",
   "metadata": {},
   "outputs": [
    {
     "data": {
      "text/plain": [
       "(1, 4, 5)"
      ]
     },
     "execution_count": 14,
     "metadata": {},
     "output_type": "execute_result"
    }
   ],
   "source": [
    "my_Array.shape"
   ]
  },
  {
   "cell_type": "code",
   "execution_count": 15,
   "id": "f5c214c7-98bf-4af2-ade3-605079449d4e",
   "metadata": {},
   "outputs": [
    {
     "data": {
      "text/plain": [
       "3"
      ]
     },
     "execution_count": 15,
     "metadata": {},
     "output_type": "execute_result"
    }
   ],
   "source": [
    "my_Array.ndim"
   ]
  },
  {
   "cell_type": "code",
   "execution_count": 16,
   "id": "e7ba579c-f00b-4edb-9445-825e39fa9854",
   "metadata": {},
   "outputs": [
    {
     "data": {
      "text/plain": [
       "array([[[ 1,  2,  3,  4,  5],\n",
       "        [ 6,  7,  8,  9, 10],\n",
       "        [ 1,  2,  3,  4,  5],\n",
       "        [ 6,  7,  8,  9, 10]],\n",
       "\n",
       "       [[ 1,  2,  3,  4,  5],\n",
       "        [ 6,  7,  8,  9, 10],\n",
       "        [ 1,  2,  3,  4,  5],\n",
       "        [ 6,  7,  8,  9, 10]]])"
      ]
     },
     "execution_count": 16,
     "metadata": {},
     "output_type": "execute_result"
    }
   ],
   "source": [
    "my_Array = np.array([[[1, 2, 3, 4, 5], [6, 7, 8, 9, 10], [1, 2, 3, 4, 5], [6, 7, 8, 9, 10]], [[1, 2, 3, 4, 5], [6, 7, 8, 9, 10], [1, 2, 3, 4, 5], [6, 7, 8, 9, 10]]])\n",
    "my_Array"
   ]
  },
  {
   "cell_type": "code",
   "execution_count": 17,
   "id": "8caa1d9b-a8dd-4f91-8387-dfcd529f02e5",
   "metadata": {},
   "outputs": [
    {
     "data": {
      "text/plain": [
       "(2, 4, 5)"
      ]
     },
     "execution_count": 17,
     "metadata": {},
     "output_type": "execute_result"
    }
   ],
   "source": [
    "my_Array.shape"
   ]
  },
  {
   "cell_type": "markdown",
   "id": "fad822f0-2742-4216-812c-be381acd13da",
   "metadata": {},
   "source": [
    "____________________________"
   ]
  },
  {
   "cell_type": "markdown",
   "id": "20d39cd5-2d3c-4076-b905-24233326bda8",
   "metadata": {},
   "source": [
    "## Operations in Arrays\n",
    "1. Insertion:- Inserting an element into array\n",
    "2. Deletion:- Deleting an element from array\n",
    "3. Update:- Update an element value with new value\n",
    "4. Search:- Search an element into array\n",
    "5. Accesssing:- Access an element from array using indexes "
   ]
  },
  {
   "cell_type": "code",
   "execution_count": 18,
   "id": "a8a3b562-83c0-4b1a-a9a9-14c41b390cb8",
   "metadata": {},
   "outputs": [
    {
     "data": {
      "text/plain": [
       "[1, 2, 3, 4, 5]"
      ]
     },
     "execution_count": 18,
     "metadata": {},
     "output_type": "execute_result"
    }
   ],
   "source": [
    "my_array = [1, 2, 3, 4, 5]\n",
    "my_array"
   ]
  },
  {
   "cell_type": "markdown",
   "id": "5af4c402-ec58-45c6-b76a-92dd895130ba",
   "metadata": {},
   "source": [
    "### Insertion"
   ]
  },
  {
   "cell_type": "code",
   "execution_count": 19,
   "id": "bb21d7a2-de5d-48c5-945d-1c918aa3e0d6",
   "metadata": {},
   "outputs": [
    {
     "data": {
      "text/plain": [
       "[1, 2, 3, 4, 5, 100]"
      ]
     },
     "execution_count": 19,
     "metadata": {},
     "output_type": "execute_result"
    }
   ],
   "source": [
    "# insertion at end of array\n",
    "my_array.append(100)\n",
    "my_array"
   ]
  },
  {
   "cell_type": "code",
   "execution_count": 20,
   "id": "a0608d3b-ae1e-4fe7-af3c-bfcc6b678ade",
   "metadata": {},
   "outputs": [
    {
     "data": {
      "text/plain": [
       "[1, 2, 3, 500, 4, 5, 100]"
      ]
     },
     "execution_count": 20,
     "metadata": {},
     "output_type": "execute_result"
    }
   ],
   "source": [
    "# insertion at specified position \n",
    "my_array.insert(3, 500)\n",
    "my_array"
   ]
  },
  {
   "cell_type": "markdown",
   "id": "8609d763-46bd-43c5-86d0-e5416fceaebc",
   "metadata": {},
   "source": [
    "### Deletion"
   ]
  },
  {
   "cell_type": "code",
   "execution_count": 21,
   "id": "74e00087-c7dd-422d-9bb2-f48a06a16b2b",
   "metadata": {},
   "outputs": [
    {
     "name": "stdout",
     "output_type": "stream",
     "text": [
      "Deleted element:  100\n"
     ]
    },
    {
     "data": {
      "text/plain": [
       "[1, 2, 3, 500, 4, 5]"
      ]
     },
     "execution_count": 21,
     "metadata": {},
     "output_type": "execute_result"
    }
   ],
   "source": [
    "# Deletion from end of array\n",
    "item = my_array.pop()\n",
    "print(\"Deleted element: \", item)\n",
    "my_array"
   ]
  },
  {
   "cell_type": "code",
   "execution_count": 22,
   "id": "a6b18df3-9151-41e6-b167-83a662446bbc",
   "metadata": {},
   "outputs": [
    {
     "name": "stdout",
     "output_type": "stream",
     "text": [
      "Deleted element from 2 index:  3\n"
     ]
    },
    {
     "data": {
      "text/plain": [
       "[1, 2, 500, 4, 5]"
      ]
     },
     "execution_count": 22,
     "metadata": {},
     "output_type": "execute_result"
    }
   ],
   "source": [
    "# deletion from location\n",
    "item = my_array.pop(2)\n",
    "print(\"Deleted element from 2 index: \", item)\n",
    "my_array"
   ]
  },
  {
   "cell_type": "code",
   "execution_count": 23,
   "id": "bbb44dbd-21fd-4f88-a17b-4ddf206a90ac",
   "metadata": {},
   "outputs": [
    {
     "name": "stdout",
     "output_type": "stream",
     "text": [
      "Deleted element:  None\n"
     ]
    },
    {
     "data": {
      "text/plain": [
       "[1, 500, 4, 5]"
      ]
     },
     "execution_count": 23,
     "metadata": {},
     "output_type": "execute_result"
    }
   ],
   "source": [
    "# deletion of first occurence of element\n",
    "item = my_array.remove(2)\n",
    "print(\"Deleted element: \", item)\n",
    "my_array"
   ]
  },
  {
   "cell_type": "markdown",
   "id": "33430b75-c1dd-4d67-9180-d6e3ab3e857b",
   "metadata": {},
   "source": [
    "### Update"
   ]
  },
  {
   "cell_type": "code",
   "execution_count": 24,
   "id": "d3c04c9f-0bac-48ff-8804-0c80d3a46fbe",
   "metadata": {},
   "outputs": [
    {
     "data": {
      "text/plain": [
       "[1, 500, 4, 5]"
      ]
     },
     "execution_count": 24,
     "metadata": {},
     "output_type": "execute_result"
    }
   ],
   "source": [
    "my_array"
   ]
  },
  {
   "cell_type": "code",
   "execution_count": 25,
   "id": "d5607606-7544-4593-85fc-62a8d2d70bbf",
   "metadata": {},
   "outputs": [
    {
     "data": {
      "text/plain": [
       "[1, 500, 100, 5]"
      ]
     },
     "execution_count": 25,
     "metadata": {},
     "output_type": "execute_result"
    }
   ],
   "source": [
    "my_array[2] = 100\n",
    "my_array"
   ]
  },
  {
   "cell_type": "markdown",
   "id": "22cb3f2d-b092-467d-a9c9-c3331d6c8b3d",
   "metadata": {},
   "source": [
    "### Search"
   ]
  },
  {
   "cell_type": "code",
   "execution_count": 26,
   "id": "248e28e9-5ddd-48bd-a736-dd4c83268cd8",
   "metadata": {},
   "outputs": [
    {
     "name": "stdout",
     "output_type": "stream",
     "text": [
      "element found at:  2\n"
     ]
    }
   ],
   "source": [
    "# searching an element in list using index()\n",
    "element_to_find = 100\n",
    "index = my_array.index(element_to_find)\n",
    "print(\"element found at: \", index)"
   ]
  },
  {
   "cell_type": "markdown",
   "id": "b5d26b82-842a-4a44-914f-014ed72ee82e",
   "metadata": {},
   "source": [
    "### Accessing an element"
   ]
  },
  {
   "cell_type": "code",
   "execution_count": 27,
   "id": "e75a4f41-9445-4da3-8814-48913103a6b5",
   "metadata": {},
   "outputs": [
    {
     "data": {
      "text/plain": [
       "[1, 500, 100, 5]"
      ]
     },
     "execution_count": 27,
     "metadata": {},
     "output_type": "execute_result"
    }
   ],
   "source": [
    "my_array"
   ]
  },
  {
   "cell_type": "code",
   "execution_count": 28,
   "id": "d0a9d36d-4697-4cb8-b0f7-863b2cf5a0bc",
   "metadata": {},
   "outputs": [
    {
     "name": "stdout",
     "output_type": "stream",
     "text": [
      "first element of array:  1\n",
      "last element of array:  5\n"
     ]
    }
   ],
   "source": [
    "print(\"first element of array: \", my_array[0])\n",
    "print(\"last element of array: \", my_array[-1])"
   ]
  },
  {
   "cell_type": "markdown",
   "id": "8fdf70a5-63bf-45f6-ae4c-ac9e01e0e2ed",
   "metadata": {},
   "source": [
    "_______________________________________"
   ]
  },
  {
   "cell_type": "markdown",
   "id": "af263fc1-5081-4404-a737-95b04975d322",
   "metadata": {},
   "source": [
    "## Advantages and Disadvantages of Array\n",
    "\n",
    "Arrays offer several advantages and disadvantages, depending on the specific use case and requirements of your program. Let's explore some of these pros and cons:\r\n",
    "\r\n",
    "**Advantages of Arrays:**\r\n",
    "\r\n",
    "1. **Constant-Time Access:** Arrays provide constant-time access to elements. Retrieving an element from an array using its index is very efficient, regardless of the array's size.\r\n",
    "\r\n",
    "2. **Predictable Memory Allocation:** Arrays allocate memory in a contiguous block, making memory management relatively predictable and efficient.\r\n",
    "\r\n",
    "3. **Simple and Efficient Iteration:** You can easily iterate through all elements of an array using a loop, which is often very efficient due to the predictable memory layout.\r\n",
    "\r\n",
    "4. **Multidimensional Support:** Arrays can be easily extended to multiple dimensions (e.g., 2D or 3D arrays) to represent complex data structures like matrices or grids.\r\n",
    "\r\n",
    "5. **Low-Level Language Support:** Arrays are a fundamental data structure in low-level programming languages like C and can be directly manipulated at the memory level, offering fine-grained control over data storage and access.\r\n",
    "\r\n",
    "**Disadvantages of Arrays:**\r\n",
    "\r\n",
    "1. **Fixed Size:** One of the significant limitations of arrays is their fixed size. Once you define an array with a specific size, it cannot be changed during runtime. This can lead to inefficiencies if you need to manage collections of varying sizes.\r\n",
    "\r\n",
    "2. **Inefficient Insertions and Deletions:** Inserting or deleting elements in an array can be inefficient, especially in large arrays. Adding an element may require shifting all subsequent elements, and deleting an element may require shifting elements to fill the gap.\r\n",
    "\r\n",
    "3. **Homogeneous Data Types:** Arrays require all elements to have the same data type. This restriction can be limiting when you need to store a heterogeneous collection of elements.\r\n",
    "\r\n",
    "4. **Memory Wastage:** If you allocate a large array but only use a small portion of it, you might waste memory because the entire allocated space is reserved, even if it's not fully utilized.\r\n",
    "\r\n",
    "5. **Lack of Built-In Functions:** Most array implementations in low-level languages don't provide built-in functions for common operations like searching, sorting, or filtering. You often have to implement these functions manually.\r\n",
    "\r\n",
    "6. **No Built-In Dynamic Resizing:** Traditional arrays do not offer built-in dynamic resizing. To work with a variable-sized collection, you may need to create a new array and copy elements over when the original array becomes too small.\r\n",
    "\r\n",
    "7. **Sparse Data Handling:** Arrays are not efficient for storing sparse data (data with many gaps or empty slots) because they allocate memory for all elemen\n",
    "ts, including unused ones.\r\n",
    "\r\n",
    "In summary, arrays are a fundamental and efficient data structure for storing and accessing elements with constant-time complexity. However, their fixed size and limitations on data type homogeneity can make them less flexible in certain situations. To address some of these limitations, high-level programming languages often provide dynamic array-like data structures, such as lists, that can grow or shrink dynamically and offer more built-in functionality for common operations. The choice of data structure depends on the specific needs and constraints of your application."
   ]
  },
  {
   "cell_type": "markdown",
   "id": "f19f23ff-f8f5-4827-8d4d-9f2ec6e4a264",
   "metadata": {},
   "source": [
    "_______________________________________"
   ]
  }
 ],
 "metadata": {
  "kernelspec": {
   "display_name": "Python 3 (ipykernel)",
   "language": "python",
   "name": "python3"
  },
  "language_info": {
   "codemirror_mode": {
    "name": "ipython",
    "version": 3
   },
   "file_extension": ".py",
   "mimetype": "text/x-python",
   "name": "python",
   "nbconvert_exporter": "python",
   "pygments_lexer": "ipython3",
   "version": "3.10.12"
  }
 },
 "nbformat": 4,
 "nbformat_minor": 5
}
