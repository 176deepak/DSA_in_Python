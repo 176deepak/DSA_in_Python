{
 "cells": [
  {
   "cell_type": "markdown",
   "id": "d187482d-1a85-4977-8647-5b43d02f791b",
   "metadata": {},
   "source": [
    "<h1 style=\"\n",
    "    text-align:center; \n",
    "    font-size:40px; \n",
    "    font-weight: bold;\n",
    "    font-family: 'Lucida Console', 'Courier New', 'monospace'; \n",
    "    color:blue\n",
    "\">\n",
    "    Heap Sort Algorithm\n",
    "</h1>"
   ]
  },
  {
   "cell_type": "markdown",
   "id": "81c8a2e8-6898-4293-bf8d-55a15b15362c",
   "metadata": {},
   "source": [
    "## Theory\n",
    "<hr>\n",
    "\n",
    "Heap sort is a comparison-based sorting algorithm that efficiently sorts an array or a list by using a binary heap data structure. It has a `time complexity of O(n log n)`, which makes it suitable for sorting large data sets. \n",
    "\n",
    "The algorithm works by following these steps:\n",
    "1. **Build a Max Heap**: The first step is to create a max heap from the input array. `A max heap is a binary tree where the value of each node is greater than or equal to the values of its children`. To build the max heap, we start from the last non-leaf node (the parent of the last element in the array) and move upwards, ensuring that the heap property is maintained at each step.\n",
    "   1. Starting from the last non-leaf node, compare it with its children and swap if necessary to make the maximum value among the node, and its children is at the top of the heap.\n",
    "   2. Move to the previous non-leaf node and repeat the comparison and swap operation.\n",
    "   3. Continue this process until you reach the root of the tree. At this point, you have a max heap.\n",
    "2. **Heapify**: After building the max heap, the largest element (at the root of the heap) is guaranteed to be in the correct position. We then ***heapify*** the rest of the heap, which means we repeatedly remove the maximum element (the root), replace it with the last element in the array, and then adjust the heap to maintain the max heap property.\n",
    "   1. Swap the root (maximum element) with the last element in the array.\n",
    "   2. Decrease the heap size by one to exclude the last element (which is now in its final sorted position).\n",
    "   3. Sift down the new root (former last element) to maintain the max heap property. This involves comparing it with its children and swapping if necessary.\n",
    "   4. Repeat steps 2 and 3 until the heap size is 1.\n",
    "3. **Repeat Step 2**: Continue step 2 for the reduced heap until the entire array is sorted.\n",
    "4. **Result**: At the end of the algorithm, you will have a sorted array in ascending order.\n",
    "\n",
    "Heap sort has some advantages, such as in-place sorting (it doesn't require additional memory space), a predictable and `consistent O(n log n) time complexity`, and good cache performance due to its localized data access."
   ]
  },
  {
   "cell_type": "code",
   "execution_count": 1,
   "id": "fb42a99e-c803-4469-afc2-9a1a0f3a9137",
   "metadata": {},
   "outputs": [],
   "source": [
    "# Heap Sort in python\n",
    "\n",
    "def heapify(arr, n, i):\n",
    "    # Find largest among root and children\n",
    "    largest = i\n",
    "    l = 2 * i + 1\n",
    "    r = 2 * i + 2\n",
    "    # left child check\n",
    "    if l < n and arr[i] < arr[l]:\n",
    "        largest = l\n",
    "    # right child check\n",
    "    if r < n and arr[largest] < arr[r]:\n",
    "        largest = r\n",
    "    # If root is not largest, swap with largest(left child or right child) and continue heapifying\n",
    "    if largest != i:\n",
    "        arr[i], arr[largest] = arr[largest], arr[i]\n",
    "        heapify(arr, n, largest)        # recursion\n",
    "\n",
    "\n",
    "def heapSort(arr):\n",
    "    n = len(arr)\n",
    "    \n",
    "    # Build max heap\n",
    "    for i in range(n//2, -1, -1):\n",
    "        heapify(arr, n, i)\n",
    "\n",
    "    for i in range(n-1, 0, -1):\n",
    "        # Swap\n",
    "        arr[i], arr[0] = arr[0], arr[i]\n",
    "        # Heapify root element\n",
    "        heapify(arr, i, 0)"
   ]
  },
  {
   "cell_type": "code",
   "execution_count": 2,
   "id": "7c8b04a3-46a4-4883-b622-be928f25eab7",
   "metadata": {},
   "outputs": [
    {
     "name": "stdout",
     "output_type": "stream",
     "text": [
      "Original array is: [1, 12, 9, 5, 6, 10]\n",
      "Sorted array is: [1, 5, 6, 9, 10, 12]\n"
     ]
    }
   ],
   "source": [
    "arr = [1, 12, 9, 5, 6, 10]\n",
    "print(f\"Original array is: {arr}\")\n",
    "heapSort(arr)\n",
    "n = len(arr)\n",
    "print(f\"Sorted array is: {arr}\")"
   ]
  },
  {
   "cell_type": "markdown",
   "id": "9975884b-df0e-449c-a5e9-0ffd48571201",
   "metadata": {},
   "source": [
    "<h1 style=\"\n",
    "    text-align:center; \n",
    "    font-size:80px; \n",
    "    font-family: 'Brush Script MT', cursive; \n",
    "    color:blue\n",
    "\">\n",
    "    Thankyou\n",
    "</h1>"
   ]
  }
 ],
 "metadata": {
  "kernelspec": {
   "display_name": "Python 3 (ipykernel)",
   "language": "python",
   "name": "python3"
  },
  "language_info": {
   "codemirror_mode": {
    "name": "ipython",
    "version": 3
   },
   "file_extension": ".py",
   "mimetype": "text/x-python",
   "name": "python",
   "nbconvert_exporter": "python",
   "pygments_lexer": "ipython3",
   "version": "3.10.12"
  }
 },
 "nbformat": 4,
 "nbformat_minor": 5
}
