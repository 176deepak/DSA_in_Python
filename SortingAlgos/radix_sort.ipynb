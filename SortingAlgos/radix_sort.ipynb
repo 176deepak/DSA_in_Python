{
 "cells": [
  {
   "cell_type": "markdown",
   "id": "9ce87d98-732d-46f8-a87b-35cf59a064b5",
   "metadata": {},
   "source": [
    "<h1 style=\"text-align:center; font-size:40px; font-weight:bold; font-family: 'Lucida Console', 'Courier New', 'monospace'; color:blue \">Radix Sort Algorithm</h1>"
   ]
  },
  {
   "cell_type": "markdown",
   "id": "9e213f00-bc70-4e07-82f5-350e33b8ebfb",
   "metadata": {},
   "source": [
    "## Theory\n",
    "<hr>\n",
    "Radix sort is a non-comparative sorting algorithm that works by processing individual digits of numbers or characters of strings from the least significant digit (LSD) to the most significant digit (MSD) or vice versa. It's typically used for sorting integers, strings, or other data types with a fixed-length representation. Radix sort is efficient and stable but is most effective when sorting a large number of elements with a limited range of values.\n",
    "\n",
    "Here's how radix sort works:\n",
    "1. **Initialization:** Determine the maximum number of digits (or characters) in the input data. This determines how many passes the algorithm will perform. For example, if the data contains integers up to three digits in length, you'll need to perform three passes.\n",
    "2. **LSD Passes:** Start with the rightmost (LSD) digit of the data and work your way to the leftmost digit. In each pass, you create bins (buckets) for each possible value of the current digit (0 to 9 for base-10 integers), and you place each element into the appropriate bin based on that digit.\n",
    "3. **Sorting:** After placing all elements into bins, collect them in the order of the bins, starting with the 0 bin, then the 1 bin, and so on. This creates a partially sorted array based on the current digit.\n",
    "4. **Repeat:** Repeat the LSD passes for each digit position, moving from the rightmost to the leftmost digit. After each pass, the array becomes more sorted, considering more significant digits.\n",
    "5. **MSD Radix Sort (optional):** You can also perform radix sort from the most significant digit (MSD) to the least significant digit (LSD). In this case, you perform the sorting process in the opposite order, starting with the leftmost digit and working your way to the rightmost digit. MSD radix sort is often used with strings to preserve dictionary order.\n",
    "6. **Completion:** Once all the passes are complete (either LSD or MSD), the array is fully sorted.\n",
    "\n",
    "Radix sort is stable, meaning it preserves the relative order of equal elements. It has a time complexity of O(k * n), where \"k\" is the number of digits in the longest number, and \"n\" is the number of elements to be sorted. The efficiency of radix sort depends on the data and the number of digits. It can be very efficient for sorting large sets of data with a limited range of values."
   ]
  },
  {
   "cell_type": "code",
   "execution_count": 1,
   "id": "98aaa691-98e8-4155-bd6c-2c6581b52c6f",
   "metadata": {},
   "outputs": [],
   "source": [
    "# counting sort algo\n",
    "def counting_sort(arr, place):\n",
    "    size = len(arr)    # maximum elements present in array\n",
    "    tmp_arr = [0]*(size+1)    # temporary array for storing sorted elements of array\n",
    "    count = [0]*10    # array for storing digits frequency in elements\n",
    "    \n",
    "    # counting frequency of digits\n",
    "    for i in arr:\n",
    "        count[(i//place)%10] += 1\n",
    "    \n",
    "    # cumulative frequency of counting\n",
    "    for i in range(len(count)-1):\n",
    "        cum_sum = count[i] + count[i+1] # cumulative frequency of adjacent elements\n",
    "        count[i+1] = cum_sum\n",
    "\n",
    "    # sorting elements by place position(10th, 100th etc.)\n",
    "    i = size-1\n",
    "    while(i >= 0):\n",
    "        tmp_arr[count[(arr[i]//place)%10]-1] = arr[i]              # sorted elements \n",
    "        count[(arr[i]//place)%10] -= 1\n",
    "        i -= 1\n",
    "\n",
    "    # updating elements in original array\n",
    "    for i in range(size):           \n",
    "        arr[i] = tmp_arr[i]\n",
    "\n",
    "\n",
    "# radix sort algo\n",
    "def radix_sort(arr):\n",
    "    max_value = max(arr)    # maximum value in array\n",
    "    place = 1         # starting place position is 1th\n",
    "    \n",
    "    # iterating over digits place\n",
    "    while((max_value//place)>0):\n",
    "        counting_sort(arr, place)\n",
    "        place = place*10"
   ]
  },
  {
   "cell_type": "code",
   "execution_count": 2,
   "id": "a7fc9f73-778b-49c8-95fc-928ef664df92",
   "metadata": {},
   "outputs": [
    {
     "name": "stdin",
     "output_type": "stream",
     "text": [
      "Enter array:  100, 20, 90, 34, 57, 12, 69, 34, 99, 15\n"
     ]
    }
   ],
   "source": [
    "# Taking unsorted array\n",
    "arr = input(\"Enter array: \").split(', ')\n",
    "arr = list(map(lambda x: int(x), arr))"
   ]
  },
  {
   "cell_type": "code",
   "execution_count": 3,
   "id": "69beb1b4-9417-4972-937d-e4aba64a8e90",
   "metadata": {},
   "outputs": [
    {
     "name": "stdout",
     "output_type": "stream",
     "text": [
      "Array before sorting: [100, 20, 90, 34, 57, 12, 69, 34, 99, 15]\n",
      "Array after sorting: [12, 15, 20, 34, 34, 57, 69, 90, 99, 100]\n"
     ]
    }
   ],
   "source": [
    "print(f\"Array before sorting: {arr}\")\n",
    "radix_sort(arr)\n",
    "print(f\"Array after sorting: {arr}\")"
   ]
  },
  {
   "cell_type": "markdown",
   "id": "9d9e40d6-4905-4058-be0c-9cd1bd9f413d",
   "metadata": {},
   "source": [
    "<h1 style=\"text-align:center; font-size:80px; font-family: 'Brush Script MT', cursive; color:blue\">Thankyou</h1>"
   ]
  }
 ],
 "metadata": {
  "kernelspec": {
   "display_name": "Python 3 (ipykernel)",
   "language": "python",
   "name": "python3"
  },
  "language_info": {
   "codemirror_mode": {
    "name": "ipython",
    "version": 3
   },
   "file_extension": ".py",
   "mimetype": "text/x-python",
   "name": "python",
   "nbconvert_exporter": "python",
   "pygments_lexer": "ipython3",
   "version": "3.10.12"
  }
 },
 "nbformat": 4,
 "nbformat_minor": 5
}
