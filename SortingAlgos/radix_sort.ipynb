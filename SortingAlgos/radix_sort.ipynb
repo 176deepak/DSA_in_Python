{
 "cells": [
  {
   "cell_type": "markdown",
   "id": "9ce87d98-732d-46f8-a87b-35cf59a064b5",
   "metadata": {},
   "source": [
    "# Radix Sort ALgorithm"
   ]
  },
  {
   "cell_type": "code",
   "execution_count": 1,
   "id": "98aaa691-98e8-4155-bd6c-2c6581b52c6f",
   "metadata": {},
   "outputs": [],
   "source": [
    "# counting sort algo\n",
    "def counting_sort(arr, place):\n",
    "    size = len(arr)    # maximum elements present in array\n",
    "    tmp_arr = [0]*(size+1)    # temporary array for storing sorted elements of array\n",
    "    count = [0]*10    # array for storing digits frequency in elements\n",
    "    \n",
    "    # counting frequency of digits\n",
    "    for i in arr:\n",
    "        count[(i//place)%10] += 1\n",
    "    \n",
    "    # cumulative frequency of counting\n",
    "    for i in range(len(count)-1):\n",
    "        cum_sum = count[i] + count[i+1] # cumulative frequency of adjacent elements\n",
    "        count[i+1] = cum_sum\n",
    "\n",
    "    # sorting elements by place position(10th, 100th etc.)\n",
    "    i = size-1\n",
    "    while(i >= 0):\n",
    "        tmp_arr[count[(arr[i]//place)%10]-1] = arr[i]              # sorted elements \n",
    "        count[(arr[i]//place)%10] -= 1\n",
    "        i -= 1\n",
    "\n",
    "    # updating elements in original array\n",
    "    for i in range(size):           \n",
    "        arr[i] = tmp_arr[i]\n",
    "\n",
    "\n",
    "# radix sort algo\n",
    "def radix_sort(arr):\n",
    "    max_value = max(arr)    # maximum value in array\n",
    "    place = 1         # starting place position is 1th\n",
    "    \n",
    "    # iterating over digits place\n",
    "    while((max_value//place)>0):\n",
    "        counting_sort(arr, place)\n",
    "        place = place*10"
   ]
  },
  {
   "cell_type": "code",
   "execution_count": 2,
   "id": "a7fc9f73-778b-49c8-95fc-928ef664df92",
   "metadata": {},
   "outputs": [
    {
     "name": "stdin",
     "output_type": "stream",
     "text": [
      "Enter array:  100, 20, 90, 34, 57, 12, 69, 34, 99, 15\n"
     ]
    }
   ],
   "source": [
    "# Taking unsorted array\n",
    "arr = input(\"Enter array: \").split(', ')\n",
    "arr = list(map(lambda x: int(x), arr))"
   ]
  },
  {
   "cell_type": "code",
   "execution_count": 3,
   "id": "69beb1b4-9417-4972-937d-e4aba64a8e90",
   "metadata": {},
   "outputs": [
    {
     "name": "stdout",
     "output_type": "stream",
     "text": [
      "Array before sorting: [100, 20, 90, 34, 57, 12, 69, 34, 99, 15]\n",
      "Array after sorting: [12, 15, 20, 34, 34, 57, 69, 90, 99, 100]\n"
     ]
    }
   ],
   "source": [
    "print(f\"Array before sorting: {arr}\")\n",
    "radix_sort(arr)\n",
    "print(f\"Array after sorting: {arr}\")"
   ]
  }
 ],
 "metadata": {
  "kernelspec": {
   "display_name": "Python 3 (ipykernel)",
   "language": "python",
   "name": "python3"
  },
  "language_info": {
   "codemirror_mode": {
    "name": "ipython",
    "version": 3
   },
   "file_extension": ".py",
   "mimetype": "text/x-python",
   "name": "python",
   "nbconvert_exporter": "python",
   "pygments_lexer": "ipython3",
   "version": "3.10.12"
  }
 },
 "nbformat": 4,
 "nbformat_minor": 5
}
