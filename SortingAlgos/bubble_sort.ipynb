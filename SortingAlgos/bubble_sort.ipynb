{
 "cells": [
  {
   "cell_type": "markdown",
   "id": "c958e8c3-899a-49fe-ae4c-f503998ad425",
   "metadata": {},
   "source": [
    "<h1 style=\"text-align:center; font-size:40px; font-weight:bold; font-family: 'Lucida Console', 'Courier New', 'monospace'; color:blue \">Bubble Sort</h1>"
   ]
  },
  {
   "cell_type": "markdown",
   "id": "02c2cf67-4e47-4e18-8310-bbf905b460dd",
   "metadata": {},
   "source": [
    "## Theory\n",
    "<hr>\n",
    "Bubble sort is a simple sorting algorithm that repeatedly steps through a list, compares adjacent elements, and swaps them if they are in the wrong order. The pass through the list is repeated until no swaps are needed, which indicates that the list is sorted. Here's a step-by-step explanation of how the bubble sort algorithm works:\n",
    "\n",
    "1. **Initialization:** Start with an unsorted list (array) of elements that you want to sort. The list is divided into two regions: the sorted region (initially empty) and the unsorted region (containing all elements).\n",
    "2. **Pass through the list:** Begin at the beginning of the list and compare adjacent elements. The algorithm compares the element at the current position with the element to its right.\n",
    "3. **Comparison and Swap:** If the element on the left is greater than the element on the right, swap them. This step effectively \"bubbles\" the largest element to the end of the unsorted region.\n",
    "4. **Repeat:** Continue this process, moving one position to the right after each pass through the list. This is where the algorithm gets its name: as the largest element \"bubbles up\" to the end of the list after each pass.\n",
    "5. **End of Pass:** After each pass through the list, the largest unsorted element will be at the end of the list.\n",
    "6. **Repeat Passes:** Repeat the entire process (steps 2 to 5) for the remaining unsorted region. With each pass, the next largest unsorted element will move to its correct position in the sorted region.\n",
    "7. **Termination:** Continue the passes until no swaps are needed during a pass. This indicates that the list is fully sorted, and the algorithm can terminate.\n",
    "   \n",
    "The algorithm has now completed, and the array is fully sorted. Bubble sort has a `worst-case time complexity of O(n^2)`, which makes it inefficient for large datasets. However, it is easy to understand and implement, making it suitable for educational purposes and for small datasets where simplicity is more important than efficiency."
   ]
  },
  {
   "cell_type": "code",
   "execution_count": 1,
   "id": "fd161a01-0a12-42bd-8708-80f28f8c6fa2",
   "metadata": {},
   "outputs": [],
   "source": [
    "# Bubble sort\n",
    "def bubble_sort(arr):\n",
    "    # total number of elements in array\n",
    "    size = len(arr)\n",
    "    # outer loop ---> iterate from 1->size-1, 1 step forward from inner loop\n",
    "    for i in range(1, size):\n",
    "        # inner loop ---> iterate from 0->size-2, 1 step backward from outer loop\n",
    "        for j in range(0, size-1):\n",
    "            # check ---> two adjacent elements, which one is big\n",
    "            if arr[j] > arr[j+1]:\n",
    "                arr[j], arr[j+1] = arr[j+1], arr[j]"
   ]
  },
  {
   "cell_type": "code",
   "execution_count": 2,
   "id": "260b7abb-cdf3-44f6-971f-727e8748dce2",
   "metadata": {},
   "outputs": [
    {
     "name": "stdin",
     "output_type": "stream",
     "text": [
      "Enter array:  100, 10, 90, 20, 80, 30, 70, 40, 60, 50\n"
     ]
    }
   ],
   "source": [
    "# Taking unsorted array\n",
    "arr = input(\"Enter array: \").split(', ')\n",
    "arr = list(map(lambda x: int(x), arr))"
   ]
  },
  {
   "cell_type": "code",
   "execution_count": 3,
   "id": "5e303109-aab3-4280-8e4b-0bfd89945778",
   "metadata": {},
   "outputs": [
    {
     "name": "stdout",
     "output_type": "stream",
     "text": [
      "Orignal array:  [100, 10, 90, 20, 80, 30, 70, 40, 60, 50]\n",
      "Sorted array:  [10, 20, 30, 40, 50, 60, 70, 80, 90, 100]\n"
     ]
    }
   ],
   "source": [
    "# Array sorting using BubbleSort\n",
    "print(\"Orignal array: \", arr)\n",
    "# sort the array \n",
    "bubble_sort(arr)\n",
    "print(\"Sorted array: \", arr)"
   ]
  },
  {
   "cell_type": "markdown",
   "id": "dd294c01-bfa2-41c0-b71a-fbb294832b42",
   "metadata": {},
   "source": [
    "<h1 style=\"text-align:center; font-size:80px; font-family: 'Brush Script MT', cursive; color:blue\">Thankyou</h1>"
   ]
  }
 ],
 "metadata": {
  "kernelspec": {
   "display_name": "Python 3 (ipykernel)",
   "language": "python",
   "name": "python3"
  },
  "language_info": {
   "codemirror_mode": {
    "name": "ipython",
    "version": 3
   },
   "file_extension": ".py",
   "mimetype": "text/x-python",
   "name": "python",
   "nbconvert_exporter": "python",
   "pygments_lexer": "ipython3",
   "version": "3.10.12"
  }
 },
 "nbformat": 4,
 "nbformat_minor": 5
}
