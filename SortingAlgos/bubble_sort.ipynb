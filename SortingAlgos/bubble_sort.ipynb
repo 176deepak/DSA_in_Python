{
 "cells": [
  {
   "cell_type": "markdown",
   "id": "c958e8c3-899a-49fe-ae4c-f503998ad425",
   "metadata": {},
   "source": [
    "<center><h1>Bubble Sort Algorithm</h1></center>"
   ]
  },
  {
   "cell_type": "code",
   "execution_count": 1,
   "id": "fd161a01-0a12-42bd-8708-80f28f8c6fa2",
   "metadata": {},
   "outputs": [],
   "source": [
    "# Bubble sort\n",
    "def bubble_sort(arr):\n",
    "    # total number of elements in array\n",
    "    size = len(arr)\n",
    "    # outer loop ---> iterate from 1->size-1, 1 step forward from inner loop\n",
    "    for i in range(1, size):\n",
    "        # inner loop ---> iterate from 0->size-2, 1 step backward from outer loop\n",
    "        for j in range(0, size-1):\n",
    "            # check ---> two adjacent elements, which one is big\n",
    "            if arr[j] > arr[j+1]:\n",
    "                arr[j], arr[j+1] = arr[j+1], arr[j]"
   ]
  },
  {
   "cell_type": "code",
   "execution_count": 2,
   "id": "260b7abb-cdf3-44f6-971f-727e8748dce2",
   "metadata": {},
   "outputs": [
    {
     "name": "stdin",
     "output_type": "stream",
     "text": [
      "Enter array:  100, 10, 90, 20, 80, 30, 70, 40, 60, 50\n"
     ]
    }
   ],
   "source": [
    "# Taking unsorted array\n",
    "arr = input(\"Enter array: \").split(', ')\n",
    "arr = list(map(lambda x: int(x), arr))"
   ]
  },
  {
   "cell_type": "code",
   "execution_count": 3,
   "id": "5e303109-aab3-4280-8e4b-0bfd89945778",
   "metadata": {},
   "outputs": [
    {
     "name": "stdout",
     "output_type": "stream",
     "text": [
      "Orignal array:  [100, 10, 90, 20, 80, 30, 70, 40, 60, 50]\n",
      "Sorted array:  [10, 20, 30, 40, 50, 60, 70, 80, 90, 100]\n"
     ]
    }
   ],
   "source": [
    "# Array sorting using BubbleSort\n",
    "print(\"Orignal array: \", arr)\n",
    "# sort the array \n",
    "bubble_sort(arr)\n",
    "print(\"Sorted array: \", arr)"
   ]
  },
  {
   "cell_type": "code",
   "execution_count": null,
   "id": "0717c55a-91ee-4002-b6c4-8209b09d8968",
   "metadata": {},
   "outputs": [],
   "source": []
  }
 ],
 "metadata": {
  "kernelspec": {
   "display_name": "Python 3 (ipykernel)",
   "language": "python",
   "name": "python3"
  },
  "language_info": {
   "codemirror_mode": {
    "name": "ipython",
    "version": 3
   },
   "file_extension": ".py",
   "mimetype": "text/x-python",
   "name": "python",
   "nbconvert_exporter": "python",
   "pygments_lexer": "ipython3",
   "version": "3.10.12"
  }
 },
 "nbformat": 4,
 "nbformat_minor": 5
}
