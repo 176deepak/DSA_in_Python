{
 "cells": [
  {
   "cell_type": "markdown",
   "id": "f677e867-40b5-4b2a-86ab-85625e4194e9",
   "metadata": {},
   "source": [
    "<h1 style=\"text-align:center; font-size:40px; font-family: 'Lucida Console', 'Courier New', 'monospace'; color:blue \">Binary Search Algorithm</h1>"
   ]
  },
  {
   "cell_type": "markdown",
   "id": "69b072e0-8ccf-44cd-9ce4-e9c07e39daa3",
   "metadata": {},
   "source": [
    "## Theory\n",
    "<hr>\n",
    "Binary search is a commonly used algorithm for searching for a specific element in a sorted collection of data or array. It works by repeatedly dividing the search interval in half and eliminating one of the halves until the desired element is found, or it's determined that the element is not in the collection.\n",
    "\n",
    "Here's how binary search works step by step:\n",
    "1. **Initial Setup**:\n",
    "   - Start with a sorted collection of data, such as an array or a list.\n",
    "   - Initialize `two pointers: a low pointer (start) and a high pointer (end)`. The low pointer initially points to the beginning of the collection, and the high pointer points to the end of the collection.\n",
    "2. **Middle Point Calculation**:\n",
    "   - Calculate the middle index between the low and high pointers: `mid = (low + high) / 2`. This is where the algorithm gets its name, as it's splitting the search space in half.\n",
    "3. **Comparison**:\n",
    "   - Compare the element at the middle index with the target element you're searching for.\n",
    "4. **Three Possible Outcomes**:\n",
    "   - If the element at the middle index is equal to the target element, you've found the desired element, and you can return its index.\n",
    "   - If the element at the middle index is greater than the target element, update the high pointer to `mid - 1`. This means that you can eliminate the right half of the collection since the target element must be on the left side.\n",
    "   - If the element at the middle index is less than the target element, update the low pointer to `mid + 1`. This means that you can eliminate the left half of the collection since the target element must be on the right side.\n",
    "5. **Repeat the Process**:\n",
    "   - Continue this process, recalculating the middle index and comparing it to the target element, until either the target element is found or the low pointer is greater than the high pointer. `If the low pointer exceeds the high pointer, the target element is not in the collection.`\n",
    "\n",
    "Binary search is very efficient for searching in large, sorted datasets because with each comparison, it reduces the search space by half. This leads to a time complexity of O(log n), where \"n\" is the number of elements in the collection."
   ]
  },
  {
   "cell_type": "markdown",
   "id": "f15043f9-a17e-49a5-b4da-fb237672b4e5",
   "metadata": {},
   "source": [
    "## Implementation\n",
    "<hr>"
   ]
  },
  {
   "cell_type": "code",
   "execution_count": 1,
   "id": "933696b6-e890-434f-b83d-0f24aba714a9",
   "metadata": {},
   "outputs": [],
   "source": [
    "# Binary Search Algorithm\n",
    "def binary_search(arr, start, end, k):\n",
    "    # check 1: ckecks the end is not smaller than start\n",
    "    if end >= start:\n",
    "        mid = (start + end)//2\n",
    "        # check 2: checks, is target element present at mid  \n",
    "        if arr[mid] == k:\n",
    "            return mid\n",
    "        # check 3: when target element id lesser than arr[mid], work on left subarray \n",
    "        elif arr[mid] > k:\n",
    "            # recursive call\n",
    "            return binary_search(arr, start, mid-1, k)\n",
    "        # check 4: when target element id bigger than arr[mid], work on right subarray\n",
    "        else:\n",
    "            return binary_search(arr, mid+1, end, k)\n",
    "    else:\n",
    "        return -1        # if element not present in array"
   ]
  },
  {
   "cell_type": "code",
   "execution_count": 2,
   "id": "398a6c62-6fbf-4bbb-8d6f-442c575b63cb",
   "metadata": {},
   "outputs": [
    {
     "name": "stdin",
     "output_type": "stream",
     "text": [
      "Enter array:  10, 20, 30, 40, 50\n"
     ]
    }
   ],
   "source": [
    "# Taking unsorted array\n",
    "arr = input(\"Enter array: \").split(', ')\n",
    "arr = list(map(lambda x: int(x), arr))"
   ]
  },
  {
   "cell_type": "code",
   "execution_count": 5,
   "id": "ad73a56c-7e64-41bb-a092-a3c46f1a90df",
   "metadata": {},
   "outputs": [
    {
     "name": "stdin",
     "output_type": "stream",
     "text": [
      "Enter element which you want to find 40\n"
     ]
    },
    {
     "name": "stdout",
     "output_type": "stream",
     "text": [
      "40 present at 3 index in array.\n"
     ]
    }
   ],
   "source": [
    "# element which you want to find\n",
    "k = int(input(\"Enter element which you want to find\"))\n",
    "# index location of element\n",
    "loc = binary_search(arr, 0, 4, k)\n",
    "\n",
    "if loc != -1:\n",
    "    print(f\"{k} present at {loc} index in array.\")\n",
    "else:\n",
    "    print(f\"{k} not present in array.\")"
   ]
  },
  {
   "cell_type": "markdown",
   "id": "14f91a47-69b3-4f85-9de6-514a184c57d0",
   "metadata": {},
   "source": [
    "<h1 style=\"text-align:center; font-size:80px; font-family: 'Brush Script MT', cursive; color:blue\">Thankyou</h1>"
   ]
  }
 ],
 "metadata": {
  "kernelspec": {
   "display_name": "Python 3 (ipykernel)",
   "language": "python",
   "name": "python3"
  },
  "language_info": {
   "codemirror_mode": {
    "name": "ipython",
    "version": 3
   },
   "file_extension": ".py",
   "mimetype": "text/x-python",
   "name": "python",
   "nbconvert_exporter": "python",
   "pygments_lexer": "ipython3",
   "version": "3.10.12"
  }
 },
 "nbformat": 4,
 "nbformat_minor": 5
}
