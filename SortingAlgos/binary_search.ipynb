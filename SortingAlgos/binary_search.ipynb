{
 "cells": [
  {
   "cell_type": "markdown",
   "id": "f677e867-40b5-4b2a-86ab-85625e4194e9",
   "metadata": {},
   "source": [
    "# Binary Search"
   ]
  },
  {
   "cell_type": "code",
   "execution_count": 1,
   "id": "933696b6-e890-434f-b83d-0f24aba714a9",
   "metadata": {},
   "outputs": [],
   "source": [
    "# Binary Search Algorithm\n",
    "def binary_search(arr, start, end, k):\n",
    "    # check 1: ckecks the end is not smaller than start\n",
    "    if end >= start:\n",
    "        mid = (start + end)//2\n",
    "        # check 2: checks, is target element present at mid  \n",
    "        if arr[mid] == k:\n",
    "            return mid\n",
    "        # check 3: when target element id lesser than arr[mid], work on left subarray \n",
    "        elif arr[mid] > k:\n",
    "            # recursive call\n",
    "            return binary_search(arr, start, mid-1, k)\n",
    "        # check 4: when target element id bigger than arr[mid], work on right subarray\n",
    "        else:\n",
    "            return binary_search(arr, mid+1, end, k)\n",
    "    else:\n",
    "        return -1        # if element not present in array"
   ]
  },
  {
   "cell_type": "code",
   "execution_count": 2,
   "id": "398a6c62-6fbf-4bbb-8d6f-442c575b63cb",
   "metadata": {},
   "outputs": [
    {
     "name": "stdin",
     "output_type": "stream",
     "text": [
      "Enter array:  10, 20, 30, 40, 50\n"
     ]
    }
   ],
   "source": [
    "# Taking unsorted array\n",
    "arr = input(\"Enter array: \").split(', ')\n",
    "arr = list(map(lambda x: int(x), arr))"
   ]
  },
  {
   "cell_type": "code",
   "execution_count": 5,
   "id": "ad73a56c-7e64-41bb-a092-a3c46f1a90df",
   "metadata": {},
   "outputs": [
    {
     "name": "stdin",
     "output_type": "stream",
     "text": [
      "Enter element which you want to find 40\n"
     ]
    },
    {
     "name": "stdout",
     "output_type": "stream",
     "text": [
      "40 present at 3 index in array.\n"
     ]
    }
   ],
   "source": [
    "# element which you want to find\n",
    "k = int(input(\"Enter element which you want to find\"))\n",
    "# index location of element\n",
    "loc = binary_search(arr, 0, 4, k)\n",
    "\n",
    "\n",
    "if loc != -1:\n",
    "    print(f\"{k} present at {loc} index in array.\")\n",
    "else:\n",
    "    print(f\"{k} not present in array.\")"
   ]
  },
  {
   "cell_type": "code",
   "execution_count": null,
   "id": "4bce3cd7-ac80-49e8-b87b-40a5677e1821",
   "metadata": {},
   "outputs": [],
   "source": [
    "loc"
   ]
  },
  {
   "cell_type": "code",
   "execution_count": null,
   "id": "910fae53-4912-4f3a-a1ff-906cb250b6f3",
   "metadata": {},
   "outputs": [],
   "source": []
  }
 ],
 "metadata": {
  "kernelspec": {
   "display_name": "Python 3 (ipykernel)",
   "language": "python",
   "name": "python3"
  },
  "language_info": {
   "codemirror_mode": {
    "name": "ipython",
    "version": 3
   },
   "file_extension": ".py",
   "mimetype": "text/x-python",
   "name": "python",
   "nbconvert_exporter": "python",
   "pygments_lexer": "ipython3",
   "version": "3.10.12"
  }
 },
 "nbformat": 4,
 "nbformat_minor": 5
}
