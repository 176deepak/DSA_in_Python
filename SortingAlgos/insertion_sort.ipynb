{
 "cells": [
  {
   "cell_type": "markdown",
   "id": "623ca95f-a5dd-4365-b186-9e7609607769",
   "metadata": {},
   "source": [
    "<h1 style=\"text-align:center; font-size:40px; font-weight:bold; font-family: 'Lucida Console', 'Courier New', 'monospace'; color:blue \">Insertion Sort</h1>"
   ]
  },
  {
   "cell_type": "markdown",
   "id": "8e33c8d5-4ad2-45f0-abcd-6716ada3a327",
   "metadata": {},
   "source": [
    "## Theory\n",
    "<hr>\n",
    "Insertion sort is a simple and efficient comparison-based sorting algorithm used to arrange elements in a specific order, typically in ascending order. It works by dividing the input array into a sorted and an unsorted region and repeatedly moving elements from the unsorted region to their correct position in the sorted region.\n",
    "\n",
    "Here's how insertion sort works:\n",
    "1. Start with the first element in the array, considering it as the first element in the sorted region.\n",
    "2. Compare the second element with the elements in the sorted region. Shift the larger elements to the right to make room for the second element.\n",
    "3. Repeat step 2 for each element in the unsorted region, moving elements in the sorted region to their correct positions.\n",
    "4. Continue this process until you have compared and inserted all elements in the unsorted region.\n",
    "5. The sorted region will gradually expand, and the unsorted region will shrink until the entire array is sorted.\n",
    "\n",
    "Insertion sort is an in-place sorting algorithm, meaning it doesn't require additional memory for sorting. It has a time complexity of `O(n^2) in the worst and average cases`, where \"n\" is the number of elements in the array. However, it can be efficient for small input sizes and is often used as the building block in more advanced sorting algorithms like Timsort and Shell sort."
   ]
  },
  {
   "cell_type": "code",
   "execution_count": 1,
   "id": "79a802c6-1bf5-460b-bc11-6eba909ee43b",
   "metadata": {},
   "outputs": [
    {
     "name": "stdin",
     "output_type": "stream",
     "text": [
      "Enter array elements:  50, 10, 30, 40, 20\n"
     ]
    },
    {
     "name": "stdout",
     "output_type": "stream",
     "text": [
      "array:  [50, 10, 30, 40, 20]\n",
      "sorted array:  [10, 20, 30, 40, 50]\n"
     ]
    }
   ],
   "source": [
    "# insertion sort\n",
    "def insertion_sort(array):\n",
    "    size = len(array)\n",
    "    # iterating array according to it's size\n",
    "    for i in range(1, size):\n",
    "        # key element for comparesion\n",
    "        tmp = array[i]\n",
    "        j = i-1\n",
    "        # comparing elements which is occures before key element with key element\n",
    "        while((tmp < array[j]) and (j >= 0)):\n",
    "            array[j+1] = array[j]\n",
    "            # decresing j by 1\n",
    "            j = j-1\n",
    "        # placing the key element at right position\n",
    "        array[j+1] = tmp\n",
    "    return array\n",
    "\n",
    "array = input(\"Enter array elements: \").split(\",\")\n",
    "array = list(map(int, array))\n",
    "print(\"array: \", array)\n",
    "\n",
    "sorted_array = insertion_sort(array=array)\n",
    "print(\"sorted array: \", sorted_array)"
   ]
  },
  {
   "cell_type": "markdown",
   "id": "2aac49c6-a024-4f97-86c7-980a73613d41",
   "metadata": {},
   "source": [
    "<h1 style=\"text-align:center; font-size:80px; font-family: 'Brush Script MT', cursive; color:blue\">Thankyou</h1>"
   ]
  }
 ],
 "metadata": {
  "kernelspec": {
   "display_name": "Python 3 (ipykernel)",
   "language": "python",
   "name": "python3"
  },
  "language_info": {
   "codemirror_mode": {
    "name": "ipython",
    "version": 3
   },
   "file_extension": ".py",
   "mimetype": "text/x-python",
   "name": "python",
   "nbconvert_exporter": "python",
   "pygments_lexer": "ipython3",
   "version": "3.10.12"
  }
 },
 "nbformat": 4,
 "nbformat_minor": 5
}
