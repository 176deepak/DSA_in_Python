{
 "cells": [
  {
   "cell_type": "markdown",
   "id": "623ca95f-a5dd-4365-b186-9e7609607769",
   "metadata": {},
   "source": [
    "# INSERTION SORT ALGORITHM"
   ]
  },
  {
   "cell_type": "code",
   "execution_count": 2,
   "id": "79a802c6-1bf5-460b-bc11-6eba909ee43b",
   "metadata": {},
   "outputs": [
    {
     "name": "stdin",
     "output_type": "stream",
     "text": [
      "Enter array elements:  50, 10, 20, 40, 30\n"
     ]
    },
    {
     "name": "stdout",
     "output_type": "stream",
     "text": [
      "array:  [50, 10, 20, 40, 30]\n",
      "sorted array:  [10, 20, 30, 40, 50]\n"
     ]
    }
   ],
   "source": [
    "# insertion sort\n",
    "def insertion_sort(array):\n",
    "    size = len(array)\n",
    "    for i in range(1, size):\n",
    "        tmp = array[i]\n",
    "        j = i-1\n",
    "\n",
    "        while((tmp < array[j]) and (j >= 0)):\n",
    "            array[j+1] = array[j]\n",
    "            j = j-1\n",
    "\n",
    "        array[j+1] = tmp\n",
    "\n",
    "    return array\n",
    "\n",
    "array = input(\"Enter array elements: \").split(\",\")\n",
    "\n",
    "array = list(map(int, array))\n",
    "print(\"array: \", array)\n",
    "\n",
    "sorted_array = insertion_sort(array=array)\n",
    "print(\"sorted array: \", sorted_array)"
   ]
  },
  {
   "cell_type": "code",
   "execution_count": null,
   "id": "d2ce35a9-3ae6-4fc5-b29c-9bdb1045ca49",
   "metadata": {},
   "outputs": [],
   "source": []
  }
 ],
 "metadata": {
  "kernelspec": {
   "display_name": "Python 3 (ipykernel)",
   "language": "python",
   "name": "python3"
  },
  "language_info": {
   "codemirror_mode": {
    "name": "ipython",
    "version": 3
   },
   "file_extension": ".py",
   "mimetype": "text/x-python",
   "name": "python",
   "nbconvert_exporter": "python",
   "pygments_lexer": "ipython3",
   "version": "3.10.12"
  }
 },
 "nbformat": 4,
 "nbformat_minor": 5
}
