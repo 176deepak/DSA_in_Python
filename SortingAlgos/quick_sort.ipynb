{
 "cells": [
  {
   "cell_type": "markdown",
   "id": "27fd942d-f0c7-4e01-83c2-46bb2ba69837",
   "metadata": {},
   "source": [
    "# Qucik Sort Algorithm"
   ]
  },
  {
   "cell_type": "code",
   "execution_count": 1,
   "id": "7ed5705a-0c7b-471f-9429-7afb1e492d32",
   "metadata": {},
   "outputs": [],
   "source": [
    "# Quick Sort Algorithm\n",
    "\n",
    "def partition(arr, start, end):\n",
    "    # select any element as pivot here we select first element as pivot\n",
    "    pivot = arr[start]\n",
    "    # first pointer -> move forward\n",
    "    i = start\n",
    "    # second pointer -> move backward\n",
    "    j = end\n",
    "\n",
    "    # find loc for pivot element where all elements of left side are small, and all elements of right side are large\n",
    "    while(i < j):\n",
    "        # move forward bigger value\n",
    "        while((arr[i] <= pivot) and (i <= end-1)):\n",
    "            i += 1\n",
    "        # move backward, lesser value\n",
    "        while((arr[j] > pivot )):\n",
    "            j -= 1\n",
    "        # swapping ith and jth index value\n",
    "        if (i < j):\n",
    "            arr[i], arr[j] = arr[j], arr[i]\n",
    "    # positioning pivot element at right position  \n",
    "    arr[start], arr[j] = arr[j], arr[start]\n",
    "    loc = j\n",
    "    # returning index location\n",
    "    return loc\n",
    "\n",
    "# recursive quicksort function\n",
    "def quick(a, start, end):     \n",
    "    # check\n",
    "    if (start < end):  \n",
    "        # finding location \n",
    "        p = partition(a, start, end)   \n",
    "        # for left subarray\n",
    "        quick(a, start, p - 1)\n",
    "        # for right subarray\n",
    "        quick(a, p + 1, end)  "
   ]
  },
  {
   "cell_type": "code",
   "execution_count": 2,
   "id": "f61fff20-3181-4260-9257-179bb6a4ebff",
   "metadata": {},
   "outputs": [
    {
     "name": "stdin",
     "output_type": "stream",
     "text": [
      "Enter array:  10, 100, 48, 23, 18, 50, 30\n"
     ]
    }
   ],
   "source": [
    "# Taking unsorted array\n",
    "arr = input(\"Enter array: \").split(', ')\n",
    "arr = list(map(lambda x: int(x), arr))"
   ]
  },
  {
   "cell_type": "code",
   "execution_count": 3,
   "id": "cd1d76b8-d8c9-4e4f-abdb-cae7ee4378d2",
   "metadata": {},
   "outputs": [
    {
     "name": "stdout",
     "output_type": "stream",
     "text": [
      "Array before QuickSort:  [10, 100, 48, 23, 18, 50, 30]\n",
      "Array after QuickSort:  [10, 18, 23, 30, 48, 50, 100]\n"
     ]
    }
   ],
   "source": [
    "print(\"Array before QuickSort: \", arr)\n",
    "quick(arr, 0, len(arr)-1)\n",
    "print(\"Array after QuickSort: \", arr)"
   ]
  },
  {
   "cell_type": "code",
   "execution_count": null,
   "id": "c1b5fa80-fb1a-4b21-a8ac-42118037e117",
   "metadata": {},
   "outputs": [],
   "source": []
  }
 ],
 "metadata": {
  "kernelspec": {
   "display_name": "Python 3 (ipykernel)",
   "language": "python",
   "name": "python3"
  },
  "language_info": {
   "codemirror_mode": {
    "name": "ipython",
    "version": 3
   },
   "file_extension": ".py",
   "mimetype": "text/x-python",
   "name": "python",
   "nbconvert_exporter": "python",
   "pygments_lexer": "ipython3",
   "version": "3.10.12"
  }
 },
 "nbformat": 4,
 "nbformat_minor": 5
}
