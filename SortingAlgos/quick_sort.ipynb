{
 "cells": [
  {
   "cell_type": "markdown",
   "id": "27fd942d-f0c7-4e01-83c2-46bb2ba69837",
   "metadata": {},
   "source": [
    "<h1 style=\"text-align:center; font-size:40px; font-weight:bold; font-family: 'Lucida Console', 'Courier New', 'monospace'; color:blue \">Qucik Sort Algorithm</h1>"
   ]
  },
  {
   "cell_type": "markdown",
   "id": "2dba1127-e1e8-44ae-bf3d-2fc9fcb5c031",
   "metadata": {},
   "source": [
    "## Theory\n",
    "<hr>\n",
    "Quick sort is a widely used and efficient divide-and-conquer sorting algorithm known for its speed and space efficiency. It works by selecting a pivot element from the array and partitioning the other elements into two sub-arrays, according to whether they are less than or greater than the pivot. The sub-arrays are then sorted recursively. \n",
    "\n",
    "Here's how the quick sort algorithm works:\n",
    "1. **Pivot Selection:** Choose a pivot element from the array. The pivot can be selected in different ways, but a common choice is to pick the last element, the first element, or a random element.\n",
    "2. **Partitioning:** Rearrange the array so that elements less than the pivot come before it, and elements greater than the pivot come after it. The pivot is now in its final sorted position.\n",
    "   - Initialize two pointers, i and j, which start at the beginning and end of the array, respectively.\n",
    "   - Move the pointers toward each other, swapping elements as necessary to ensure that elements less than the pivot are on the left side of the pivot, and elements greater than the pivot are on the right side.\n",
    "   - Continue this process until the pointers meet. When the pointers meet, the pivot is in its correct sorted position.\n",
    "3. **Recursion:** After the pivot is in its final position, the array is divided into two sub-arrays, one on the left and one on the right of the pivot. Recursively apply the quick sort algorithm to each of these sub-arrays.\n",
    "4. **Base Case:** The recursion stops when the sub-arrays have only one or zero elements because these are considered sorted by definition.\n",
    "5. **Completion:** Once all sub-arrays are sorted, the entire array is sorted.\n",
    "\n",
    "Quick sort is an efficient and in-place sorting algorithm. Its `average-case time complexity is O(n log n)`, making it faster than many other sorting algorithms. However, in the worst case, when the pivot is always the smallest or largest element, the time complexity can be O(n^2)."
   ]
  },
  {
   "cell_type": "code",
   "execution_count": 1,
   "id": "7ed5705a-0c7b-471f-9429-7afb1e492d32",
   "metadata": {},
   "outputs": [],
   "source": [
    "# Quick Sort Algorithm\n",
    "\n",
    "def partition(arr, start, end):\n",
    "    # select any element as pivot here we select first element as pivot\n",
    "    pivot = arr[start]\n",
    "    # first pointer -> move forward\n",
    "    i = start\n",
    "    # second pointer -> move backward\n",
    "    j = end\n",
    "\n",
    "    # find loc for pivot element where all elements of left side are small, and all elements of right side are large\n",
    "    while(i < j):\n",
    "        # move forward bigger value\n",
    "        while((arr[i] <= pivot) and (i <= end-1)):\n",
    "            i += 1\n",
    "        # move backward, lesser value\n",
    "        while((arr[j] > pivot )):\n",
    "            j -= 1\n",
    "        # swapping ith and jth index value\n",
    "        if (i < j):\n",
    "            arr[i], arr[j] = arr[j], arr[i]\n",
    "    # positioning pivot element at right position  \n",
    "    arr[start], arr[j] = arr[j], arr[start]\n",
    "    loc = j\n",
    "    # returning index location\n",
    "    return loc\n",
    "\n",
    "# recursive quicksort function\n",
    "def quick(a, start, end):     \n",
    "    # check\n",
    "    if (start < end):  \n",
    "        # finding location \n",
    "        p = partition(a, start, end)   \n",
    "        # for left subarray\n",
    "        quick(a, start, p - 1)\n",
    "        # for right subarray\n",
    "        quick(a, p + 1, end)  "
   ]
  },
  {
   "cell_type": "code",
   "execution_count": 2,
   "id": "f61fff20-3181-4260-9257-179bb6a4ebff",
   "metadata": {},
   "outputs": [
    {
     "name": "stdin",
     "output_type": "stream",
     "text": [
      "Enter array:  10, 100, 48, 23, 18, 50, 30\n"
     ]
    }
   ],
   "source": [
    "# Taking unsorted array\n",
    "arr = input(\"Enter array: \").split(', ')\n",
    "arr = list(map(lambda x: int(x), arr))"
   ]
  },
  {
   "cell_type": "code",
   "execution_count": 3,
   "id": "cd1d76b8-d8c9-4e4f-abdb-cae7ee4378d2",
   "metadata": {},
   "outputs": [
    {
     "name": "stdout",
     "output_type": "stream",
     "text": [
      "Array before QuickSort:  [10, 100, 48, 23, 18, 50, 30]\n",
      "Array after QuickSort:  [10, 18, 23, 30, 48, 50, 100]\n"
     ]
    }
   ],
   "source": [
    "print(\"Array before QuickSort: \", arr)\n",
    "quick(arr, 0, len(arr)-1)\n",
    "print(\"Array after QuickSort: \", arr)"
   ]
  },
  {
   "cell_type": "markdown",
   "id": "ba1d0a54-5076-44c4-a9c8-1e106bbf6ac7",
   "metadata": {},
   "source": [
    "<h1 style=\"text-align:center; font-size:80px; font-family: 'Brush Script MT', cursive; color:blue\">Thankyou</h1>"
   ]
  }
 ],
 "metadata": {
  "kernelspec": {
   "display_name": "Python 3 (ipykernel)",
   "language": "python",
   "name": "python3"
  },
  "language_info": {
   "codemirror_mode": {
    "name": "ipython",
    "version": 3
   },
   "file_extension": ".py",
   "mimetype": "text/x-python",
   "name": "python",
   "nbconvert_exporter": "python",
   "pygments_lexer": "ipython3",
   "version": "3.10.12"
  }
 },
 "nbformat": 4,
 "nbformat_minor": 5
}
