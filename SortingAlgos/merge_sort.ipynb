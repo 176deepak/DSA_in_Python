{
 "cells": [
  {
   "cell_type": "markdown",
   "id": "6cc5cf1d-3c13-4243-ac9c-e4b657492aa7",
   "metadata": {},
   "source": [
    "<h1 style=\"text-align:center; font-size:40px; font-weight:bold; font-family: 'Lucida Console', 'Courier New', 'monospace'; color:blue \">Merge Sort Algorithm</h1>"
   ]
  },
  {
   "cell_type": "markdown",
   "id": "d0e424d3-ea5e-4104-b369-0293e5a7e99b",
   "metadata": {},
   "source": [
    "## Theory\n",
    "<hr>\n",
    "Merge sort is a popular and efficient comparison-based sorting algorithm known for its stability and consistent O(n log n) time complexity. It follows the divide-and-conquer strategy to sort an array or list of elements. Here's how the merge sort algorithm works:\n",
    "\n",
    "1. **Divide:** The unsorted array is divided into two roughly equal halves. This division continues recursively until each subarray consists of only one element, which is considered sorted.\n",
    "2. **Conquer:** After dividing the array into smaller parts, the algorithm begins merging these smaller subarrays into larger sorted arrays.\n",
    "3. **Merge:** The merging process involves comparing the elements in the two subarrays and combining them into a single sorted array. This is done as follows:\n",
    "   - Start with two subarrays, each considered sorted.\n",
    "   - Compare the first element in each subarray. Take the smaller of the two elements and place it in the new merged array.\n",
    "   - Move the pointer in the subarray from which you took the element one step to the right.\n",
    "   - Repeat the comparison and placement process until you've merged all the elements from both subarrays into the new merged array.\n",
    "   - If one subarray is exhausted before the other, simply copy the remaining elements from the other subarray into the merged array, as they are already sorted.\n",
    "   - The merged array is now sorted.\n",
    "4. **Repeat:** Continue this process, dividing and merging the subarrays recursively until the entire array is sorted.\n",
    "5. **Completion:** When the recursion is finished, and the subarrays have all been merged into a single sorted array, the array is considered fully sorted.\n",
    "\n",
    "Merge sort is a stable sorting algorithm, meaning it preserves the relative order of equal elements, and it doesn't suffer from worst-case scenarios like other sorting algorithms. Its time complexity is O(n log n), which makes it efficient for large datasets. However, it does require additional memory to store the subarrays during the merging process, which is a downside in some memory-constrained environments."
   ]
  },
  {
   "cell_type": "code",
   "execution_count": 4,
   "id": "77d0b433-cb78-40ff-9ef6-aca863c85e3f",
   "metadata": {},
   "outputs": [],
   "source": [
    "# Merge sort Algorithm\n",
    "class MergeSort:\n",
    "    def __init__(self):\n",
    "        pass\n",
    "\n",
    "    # function for dividing the array into two halves\n",
    "    def divide(self, array, start, end):\n",
    "        if start >= end:\n",
    "            return \n",
    "        else:\n",
    "            # mid position\n",
    "            mid = (start+end)//2\n",
    "            # dividing the left half\n",
    "            self.divide(arr, start, mid)\n",
    "            # dividing the right half\n",
    "            self.divide(arr, mid+1, end)\n",
    "            # merging the sorted array\n",
    "            self.merge(arr, start, mid, end)\n",
    "\n",
    "    # function for merging the divided subarrays\n",
    "    def merge(self, arr, start, mid, end):\n",
    "        tmp_arr = []\n",
    "        # pointers for traking elements\n",
    "        left = start\n",
    "        right = mid+1\n",
    "        # sorting the elements\n",
    "        while((left <= mid) and (right <= end)):\n",
    "            # if left element is small, insert it into tmp_arr and increase left pointer by 1\n",
    "            if (arr[left] <= arr[right]):\n",
    "                tmp_arr.append(arr[left])\n",
    "                left += 1\n",
    "            else:\n",
    "                # if right element is small, insert it into tmp_arr and increase right pointer by 1\n",
    "                tmp_arr.append(arr[right])\n",
    "                right += 1\n",
    "\n",
    "        while(left <= mid):\n",
    "            # insert remaining elements(left) into tmp_arr \n",
    "            tmp_arr.append(arr[left])\n",
    "            left += 1\n",
    "\n",
    "        while(right <= end):\n",
    "            # insert remaining elements(right) into tmp_arr\n",
    "            tmp_arr.append(arr[right])\n",
    "            right += 1\n",
    "\n",
    "        # updating original array with sorted tmp_arr\n",
    "        for i in range(start, end+1):\n",
    "            arr[i] = tmp_arr[i-start]\n",
    "\n",
    "    def sort(self, array, start, end):\n",
    "        self.divide(array, start, end)"
   ]
  },
  {
   "cell_type": "code",
   "execution_count": 5,
   "id": "6c7805a9-d3fb-408c-aac8-0603e1a96430",
   "metadata": {},
   "outputs": [
    {
     "name": "stdin",
     "output_type": "stream",
     "text": [
      "Enter array:  50, 20, 30, 40, 60, 10\n"
     ]
    },
    {
     "name": "stdout",
     "output_type": "stream",
     "text": [
      "Entered array:  [50, 20, 30, 40, 60, 10]\n"
     ]
    }
   ],
   "source": [
    "# Taking unsorted array\n",
    "arr = input(\"Enter array: \").split(', ')\n",
    "arr = list(map(lambda x: int(x), arr))\n",
    "print(\"Entered array: \", arr)"
   ]
  },
  {
   "cell_type": "code",
   "execution_count": 6,
   "id": "52a24136-72af-4c67-8ce8-61ba6b1d7e20",
   "metadata": {},
   "outputs": [
    {
     "name": "stdout",
     "output_type": "stream",
     "text": [
      "Orignal array:  [50, 20, 30, 40, 60, 10]\n",
      "Sorted array:  [10, 20, 30, 40, 50, 60]\n"
     ]
    }
   ],
   "source": [
    "# Array sorting using MergeSort\n",
    "merge_sort = MergeSort()\n",
    "\n",
    "print(\"Orignal array: \", arr)\n",
    "\n",
    "merge_sort.sort(arr, 0, 5)\n",
    "print(\"Sorted array: \", arr)"
   ]
  },
  {
   "cell_type": "markdown",
   "id": "263b8a75-d8c3-4f26-bc91-1a1ba84b7b3d",
   "metadata": {},
   "source": [
    "<h1 style=\"text-align:center; font-size:80px; font-family: 'Brush Script MT', cursive; color:blue\">Thankyou</h1>"
   ]
  }
 ],
 "metadata": {
  "kernelspec": {
   "display_name": "Python 3 (ipykernel)",
   "language": "python",
   "name": "python3"
  },
  "language_info": {
   "codemirror_mode": {
    "name": "ipython",
    "version": 3
   },
   "file_extension": ".py",
   "mimetype": "text/x-python",
   "name": "python",
   "nbconvert_exporter": "python",
   "pygments_lexer": "ipython3",
   "version": "3.10.12"
  }
 },
 "nbformat": 4,
 "nbformat_minor": 5
}
