{
 "cells": [
  {
   "cell_type": "markdown",
   "id": "6cc5cf1d-3c13-4243-ac9c-e4b657492aa7",
   "metadata": {},
   "source": [
    "# Merge Sort Algorithm"
   ]
  },
  {
   "cell_type": "code",
   "execution_count": 4,
   "id": "77d0b433-cb78-40ff-9ef6-aca863c85e3f",
   "metadata": {},
   "outputs": [],
   "source": [
    "class MergeSort:\n",
    "    def __init__(self):\n",
    "        pass\n",
    "\n",
    "    \n",
    "    def divide(self, array, start, end):\n",
    "        if start >= end:\n",
    "            return \n",
    "        else:\n",
    "            mid = (start+end)//2\n",
    "            self.divide(arr, start, mid)\n",
    "            self.divide(arr, mid+1, end)\n",
    "            self.merge(arr, start, mid, end)\n",
    "            \n",
    "\n",
    "    def merge(self, arr, start, mid, end):\n",
    "        tmp_arr = []\n",
    "        left = start\n",
    "        right = mid+1\n",
    "\n",
    "        while((left <= mid) and (right <= end)):\n",
    "            if (arr[left] <= arr[right]):\n",
    "                tmp_arr.append(arr[left])\n",
    "                left += 1\n",
    "            else:\n",
    "                tmp_arr.append(arr[right])\n",
    "                right += 1\n",
    "\n",
    "        while(left <= mid):\n",
    "            tmp_arr.append(arr[left])\n",
    "            left += 1\n",
    "\n",
    "        while(right <= end):\n",
    "            tmp_arr.append(arr[right])\n",
    "            right += 1\n",
    "\n",
    "        for i in range(start, end+1):\n",
    "            arr[i] = tmp_arr[i-start]\n",
    "\n",
    "    def sort(self, array, start, end):\n",
    "        self.divide(array, start, end)"
   ]
  },
  {
   "cell_type": "code",
   "execution_count": 5,
   "id": "6c7805a9-d3fb-408c-aac8-0603e1a96430",
   "metadata": {},
   "outputs": [
    {
     "name": "stdin",
     "output_type": "stream",
     "text": [
      "Enter array:  50, 20, 30, 40, 60, 10\n"
     ]
    },
    {
     "name": "stdout",
     "output_type": "stream",
     "text": [
      "Entered array:  [50, 20, 30, 40, 60, 10]\n"
     ]
    }
   ],
   "source": [
    "# Taking unsorted array\n",
    "arr = input(\"Enter array: \").split(', ')\n",
    "arr = list(map(lambda x: int(x), arr))\n",
    "print(\"Entered array: \", arr)"
   ]
  },
  {
   "cell_type": "code",
   "execution_count": 6,
   "id": "52a24136-72af-4c67-8ce8-61ba6b1d7e20",
   "metadata": {},
   "outputs": [
    {
     "name": "stdout",
     "output_type": "stream",
     "text": [
      "Orignal array:  [50, 20, 30, 40, 60, 10]\n",
      "Sorted array:  [10, 20, 30, 40, 50, 60]\n"
     ]
    }
   ],
   "source": [
    "# Array sorting using MergeSort\n",
    "merge_sort = MergeSort()\n",
    "\n",
    "print(\"Orignal array: \", arr)\n",
    "\n",
    "merge_sort.sort(arr, 0, 5)\n",
    "print(\"Sorted array: \", arr)"
   ]
  },
  {
   "cell_type": "code",
   "execution_count": null,
   "id": "10e87506-9fd6-4a46-9035-e1a9b1326d6f",
   "metadata": {},
   "outputs": [],
   "source": []
  }
 ],
 "metadata": {
  "kernelspec": {
   "display_name": "Python 3 (ipykernel)",
   "language": "python",
   "name": "python3"
  },
  "language_info": {
   "codemirror_mode": {
    "name": "ipython",
    "version": 3
   },
   "file_extension": ".py",
   "mimetype": "text/x-python",
   "name": "python",
   "nbconvert_exporter": "python",
   "pygments_lexer": "ipython3",
   "version": "3.10.12"
  }
 },
 "nbformat": 4,
 "nbformat_minor": 5
}
