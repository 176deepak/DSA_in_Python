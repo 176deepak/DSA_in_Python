{
 "cells": [
  {
   "cell_type": "markdown",
   "id": "aafc51bc-bd9c-40e9-9b5e-56e0a82a070f",
   "metadata": {},
   "source": [
    "# Counting Sort"
   ]
  },
  {
   "cell_type": "code",
   "execution_count": 1,
   "id": "29e24c0a-281d-48fd-bfa7-b7a18403c351",
   "metadata": {},
   "outputs": [],
   "source": [
    "# counting sort algo\n",
    "def counting_sort(arr):\n",
    "    # total number of elements in array\n",
    "    size = len(arr)\n",
    "    # maximum value in array\n",
    "    max_value = max(arr)\n",
    "    # creating array of size max_value, all elements all zero\n",
    "    tmp_arr = [0 for i in range(max_value+1)]\n",
    "    # output array or sorted array, initially all elements are zero\n",
    "    output_arr = [0]*size\n",
    "\n",
    "    # counting each element occurence in unsorted array, and storing them into tmp_arr\n",
    "    for i in arr:\n",
    "        tmp_arr[i] += 1\n",
    "\n",
    "    # finding cumulative sum of frequencies\n",
    "    for i in range(len(tmp_arr)-1):\n",
    "        cum_sum = tmp_arr[i] + tmp_arr[i+1]\n",
    "        tmp_arr[i+1] = cum_sum\n",
    "\n",
    "    # finding correct index position of elements of unsorted array, and storing array elements into output array at correct index position\n",
    "    for i in arr:\n",
    "        index = tmp_arr[i] - 1 \n",
    "        output_arr[index] = i\n",
    "\n",
    "    return output_arr"
   ]
  },
  {
   "cell_type": "code",
   "execution_count": 2,
   "id": "b1fc38dc-9890-44cd-86bf-50b96d6d9d24",
   "metadata": {},
   "outputs": [
    {
     "name": "stdin",
     "output_type": "stream",
     "text": [
      "Enter array:  100, 10, 20, 90, 30, 40, 80, 50, 60, 70\n"
     ]
    }
   ],
   "source": [
    "# Taking unsorted array\n",
    "arr = input(\"Enter array: \").split(', ')\n",
    "arr = list(map(lambda x: int(x), arr))"
   ]
  },
  {
   "cell_type": "code",
   "execution_count": 3,
   "id": "11007019-2653-4b22-a6b1-d5130865a8de",
   "metadata": {},
   "outputs": [
    {
     "name": "stdout",
     "output_type": "stream",
     "text": [
      "Orignal array:  [100, 10, 20, 90, 30, 40, 80, 50, 60, 70]\n",
      "Sorted array:  [10, 20, 30, 40, 50, 60, 70, 80, 90, 100]\n"
     ]
    }
   ],
   "source": [
    "# Array sorting using Counting Sort\n",
    "print(\"Orignal array: \", arr)\n",
    "arr = counting_sort(arr)\n",
    "print(\"Sorted array: \", arr)"
   ]
  },
  {
   "cell_type": "code",
   "execution_count": null,
   "id": "2550eb87-1ea8-4723-b86a-375fca7f6475",
   "metadata": {},
   "outputs": [],
   "source": []
  }
 ],
 "metadata": {
  "kernelspec": {
   "display_name": "Python 3 (ipykernel)",
   "language": "python",
   "name": "python3"
  },
  "language_info": {
   "codemirror_mode": {
    "name": "ipython",
    "version": 3
   },
   "file_extension": ".py",
   "mimetype": "text/x-python",
   "name": "python",
   "nbconvert_exporter": "python",
   "pygments_lexer": "ipython3",
   "version": "3.10.12"
  }
 },
 "nbformat": 4,
 "nbformat_minor": 5
}
