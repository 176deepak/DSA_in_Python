{
 "cells": [
  {
   "cell_type": "markdown",
   "id": "aafc51bc-bd9c-40e9-9b5e-56e0a82a070f",
   "metadata": {},
   "source": [
    "<h1 style=\"text-align:center; font-size:40px; font-weight:bold; font-family: 'Lucida Console', 'Courier New', 'monospace'; color:blue \">Counting Sort</h1>"
   ]
  },
  {
   "cell_type": "markdown",
   "id": "c1b080d7-eede-4f7f-a850-794ac9f9d1f4",
   "metadata": {},
   "source": [
    "## Theory\n",
    "<hr>\n",
    "Counting sort is a non-comparative, integer-based sorting algorithm that works by counting the number of elements with distinct key values and using this information to place the elements in sorted order. It is particularly efficient for sorting integers or other data types with a small range of possible values. Counting sort is not a comparison-based sorting algorithm, so it can achieve linear time complexity in many cases, making it faster than comparison-based algorithms like quicksort or merge sort in certain scenarios.\n",
    "\n",
    "Here's how counting sort works:\n",
    "1. **Initialization:** Determine the range of input values and create a counting array (also called a count or frequency array) that can hold counts for each possible value within that range. Initialize the counting array with all values set to zero.\n",
    "2. **Counting:** For each element in the input array, increment the count in the counting array at the index corresponding to the element's value. This step builds a histogram of the input data, showing how many times each distinct element appears.\n",
    "3. **Cumulative Counting:** Modify the counting array by adding each element's count to the count of the previous element. This step transforms the counting array into a cumulative counting array, indicating the position at which each distinct element should be placed in the sorted output.\n",
    "4. **Sorting:** Create an output array of the same size as the input array. For each element in the input array, find its count in the cumulative counting array, which specifies its correct position in the output array. Place the element in the output array at that position, and decrement the count in the cumulative counting array for that element.\n",
    "5. **Repeat:** Continue this process for all elements in the input array.\n",
    "6. **Completion:** Once all elements have been placed in the output array, it is now a sorted version of the input array.\n",
    "\n",
    "It has a `time complexity of O(n + k)`, where \"n\" is the number of elements to be sorted and \"k\" is the range of possible values. When \"k\" is relatively small, counting sort can be significantly faster than comparison-based sorting algorithms, especially for large datasets."
   ]
  },
  {
   "cell_type": "code",
   "execution_count": 1,
   "id": "29e24c0a-281d-48fd-bfa7-b7a18403c351",
   "metadata": {},
   "outputs": [],
   "source": [
    "# counting sort algo\n",
    "def counting_sort(arr):\n",
    "    # total number of elements in array\n",
    "    size = len(arr)\n",
    "    # maximum value in array\n",
    "    max_value = max(arr)\n",
    "    # creating array of size max_value, all elements all zero\n",
    "    tmp_arr = [0 for i in range(max_value+1)]\n",
    "    # output array or sorted array, initially all elements are zero\n",
    "    output_arr = [0]*size\n",
    "\n",
    "    # counting each element occurence in unsorted array, and storing them into tmp_arr\n",
    "    for i in arr:\n",
    "        tmp_arr[i] += 1\n",
    "\n",
    "    # finding cumulative sum of frequencies\n",
    "    for i in range(len(tmp_arr)-1):\n",
    "        cum_sum = tmp_arr[i] + tmp_arr[i+1]\n",
    "        tmp_arr[i+1] = cum_sum\n",
    "\n",
    "    # finding correct index position of elements of unsorted array, and storing array elements into output array at correct index position\n",
    "    for i in arr:\n",
    "        index = tmp_arr[i] - 1 \n",
    "        output_arr[index] = i\n",
    "\n",
    "    return output_arr"
   ]
  },
  {
   "cell_type": "code",
   "execution_count": 2,
   "id": "b1fc38dc-9890-44cd-86bf-50b96d6d9d24",
   "metadata": {},
   "outputs": [
    {
     "name": "stdin",
     "output_type": "stream",
     "text": [
      "Enter array:  100, 10, 20, 90, 30, 40, 80, 50, 60, 70\n"
     ]
    }
   ],
   "source": [
    "# Taking unsorted array\n",
    "arr = input(\"Enter array: \").split(', ')\n",
    "arr = list(map(lambda x: int(x), arr))"
   ]
  },
  {
   "cell_type": "code",
   "execution_count": 3,
   "id": "11007019-2653-4b22-a6b1-d5130865a8de",
   "metadata": {},
   "outputs": [
    {
     "name": "stdout",
     "output_type": "stream",
     "text": [
      "Orignal array:  [100, 10, 20, 90, 30, 40, 80, 50, 60, 70]\n",
      "Sorted array:  [10, 20, 30, 40, 50, 60, 70, 80, 90, 100]\n"
     ]
    }
   ],
   "source": [
    "# Array sorting using Counting Sort\n",
    "print(\"Orignal array: \", arr)\n",
    "arr = counting_sort(arr)\n",
    "print(\"Sorted array: \", arr)"
   ]
  },
  {
   "cell_type": "markdown",
   "id": "7f03eb84-8218-4a97-9b51-2d03385094ba",
   "metadata": {},
   "source": [
    "<h1 style=\"text-align:center; font-size:80px; font-family: 'Brush Script MT', cursive; color:blue\">Thankyou</h1>"
   ]
  }
 ],
 "metadata": {
  "kernelspec": {
   "display_name": "Python 3 (ipykernel)",
   "language": "python",
   "name": "python3"
  },
  "language_info": {
   "codemirror_mode": {
    "name": "ipython",
    "version": 3
   },
   "file_extension": ".py",
   "mimetype": "text/x-python",
   "name": "python",
   "nbconvert_exporter": "python",
   "pygments_lexer": "ipython3",
   "version": "3.10.12"
  }
 },
 "nbformat": 4,
 "nbformat_minor": 5
}
