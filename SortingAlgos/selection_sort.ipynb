{
 "cells": [
  {
   "cell_type": "markdown",
   "id": "da16f529-e1c8-461b-841f-2e3a495ab26d",
   "metadata": {},
   "source": [
    "<h1 style=\"text-align:center; font-size:40px; font-weight:bold; font-family: 'Lucida Console', 'Courier New', 'monospace'; color:blue \">Selection Sort Algorithm</h1>"
   ]
  },
  {
   "cell_type": "markdown",
   "id": "b462113d-1813-4d38-b32e-d858379efc8a",
   "metadata": {},
   "source": [
    "## Theory\n",
    "<hr>\n",
    "Selection sort is a simple, in-place comparison-based sorting algorithm that divides the input list into two parts: the sorted part and the unsorted part. It repeatedly selects the minimum (or maximum) element from the unsorted part and moves it to the end of the sorted part. This process continues until the entire list is sorted. \n",
    "\n",
    "Here's a step-by-step explanation of how the selection sort algorithm works:\n",
    "1. **Initialization:** The algorithm starts with the entire list as unsorted. The sorted part is initially empty.\n",
    "2. **Finding the Minimum:** Search through the unsorted part of the list to find the minimum (or maximum) element. This involves comparing each element in the unsorted part with the current minimum (or maximum) value.\n",
    "3. **Swap:** Once the minimum (or maximum) element is found in the unsorted part, swap it with the first element in the unsorted part. This element is now considered part of the sorted region.\n",
    "4. **Shifting Boundaries:** Update the boundaries of the sorted and unsorted parts. The sorted part grows by one element, and the unsorted part shrinks by one element.\n",
    "5. **Repeat:** Repeat steps 2 to 4 for the remaining unsorted part until the entire list is sorted. In each iteration, you find the minimum (or maximum) element from the unsorted part and move it to the end of the sorted part.\n",
    "6. **Completion:** When the unsorted part becomes empty, the algorithm is complete, and the list is fully sorted.\n",
    "\n",
    "Selection sort is straightforward to understand and implement, but it is not the most efficient sorting algorithm for large datasets. It has a time complexity of O(n^2), where \"n\" is the number of elements in the list. This makes it less suitable for large datasets, where more efficient sorting algorithms like quicksort or merge sort are preferred."
   ]
  },
  {
   "cell_type": "code",
   "execution_count": 4,
   "id": "c38efa1c-4adf-408c-bb58-a447dba20644",
   "metadata": {},
   "outputs": [],
   "source": [
    "def selection_sort(arr):\n",
    "    # total elements in array\n",
    "    size = len(arr)\n",
    "    # outer loop ---> iterate over complete unsorted array\n",
    "    for i in range(size):\n",
    "        # assume smallest element of array present at ith index\n",
    "        small_pos = i\n",
    "        # inner loop ---> finds the smallest element index\n",
    "        for j in range(i+1, size):\n",
    "            if arr[small_pos] > arr[j]:\n",
    "                # if smallest, update small_pos with new index\n",
    "                small_pos = j\n",
    "        # swap the first element of unsorted array with smallest element\n",
    "        arr[i], arr[small_pos] = arr[small_pos], arr[i]"
   ]
  },
  {
   "cell_type": "code",
   "execution_count": 2,
   "id": "5e955694-3a0a-4863-a8ab-46f62fe208c0",
   "metadata": {},
   "outputs": [
    {
     "name": "stdin",
     "output_type": "stream",
     "text": [
      "Enter array:  100, 10, 90, 20, 80, 30, 70, 40, 60, 50\n"
     ]
    }
   ],
   "source": [
    "# Taking unsorted array\n",
    "arr = input(\"Enter array: \").split(', ')\n",
    "arr = list(map(lambda x: int(x), arr))"
   ]
  },
  {
   "cell_type": "code",
   "execution_count": 6,
   "id": "8f8a2554-6a36-4bd2-9a1e-6d79a3c5876d",
   "metadata": {},
   "outputs": [
    {
     "name": "stdout",
     "output_type": "stream",
     "text": [
      "Orignal array:  [100, 10, 90, 20, 80, 30, 70, 40, 60, 50]\n",
      "Sorted array:  [10, 20, 30, 40, 50, 60, 70, 80, 90, 100]\n"
     ]
    }
   ],
   "source": [
    "# Array sorting using SelectionSort\n",
    "print(\"Orignal array: \", arr)\n",
    "# sort the array\n",
    "selection_sort(arr)\n",
    "print(\"Sorted array: \", arr)"
   ]
  },
  {
   "cell_type": "markdown",
   "id": "8a248c08-66e7-40a3-8b80-af68c286fad5",
   "metadata": {},
   "source": [
    "<h1 style=\"text-align:center; font-size:80px; font-family: 'Brush Script MT', cursive; color:blue\">Thankyou</h1>"
   ]
  }
 ],
 "metadata": {
  "kernelspec": {
   "display_name": "Python 3 (ipykernel)",
   "language": "python",
   "name": "python3"
  },
  "language_info": {
   "codemirror_mode": {
    "name": "ipython",
    "version": 3
   },
   "file_extension": ".py",
   "mimetype": "text/x-python",
   "name": "python",
   "nbconvert_exporter": "python",
   "pygments_lexer": "ipython3",
   "version": "3.10.12"
  }
 },
 "nbformat": 4,
 "nbformat_minor": 5
}
