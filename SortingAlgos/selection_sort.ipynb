{
 "cells": [
  {
   "cell_type": "markdown",
   "id": "da16f529-e1c8-461b-841f-2e3a495ab26d",
   "metadata": {},
   "source": [
    "<center><h1>Selection Sort Algorithm</h1></center>"
   ]
  },
  {
   "cell_type": "code",
   "execution_count": 4,
   "id": "c38efa1c-4adf-408c-bb58-a447dba20644",
   "metadata": {},
   "outputs": [],
   "source": [
    "def selection_sort(arr):\n",
    "    # total elements in array\n",
    "    size = len(arr)\n",
    "    # outer loop ---> iterate over complete unsorted array\n",
    "    for i in range(size):\n",
    "        # assume smallest element of array present at ith index\n",
    "        small_pos = i\n",
    "        # inner loop ---> finds the smallest element index\n",
    "        for j in range(i+1, size):\n",
    "            if arr[small_pos] > arr[j]:\n",
    "                # if smallest, update small_pos with new index\n",
    "                small_pos = j\n",
    "        # swap the first element of unsorted array with smallest element\n",
    "        arr[i], arr[small_pos] = arr[small_pos], arr[i]"
   ]
  },
  {
   "cell_type": "code",
   "execution_count": 2,
   "id": "5e955694-3a0a-4863-a8ab-46f62fe208c0",
   "metadata": {},
   "outputs": [
    {
     "name": "stdin",
     "output_type": "stream",
     "text": [
      "Enter array:  100, 10, 90, 20, 80, 30, 70, 40, 60, 50\n"
     ]
    }
   ],
   "source": [
    "# Taking unsorted array\n",
    "arr = input(\"Enter array: \").split(', ')\n",
    "arr = list(map(lambda x: int(x), arr))"
   ]
  },
  {
   "cell_type": "code",
   "execution_count": 6,
   "id": "8f8a2554-6a36-4bd2-9a1e-6d79a3c5876d",
   "metadata": {},
   "outputs": [
    {
     "name": "stdout",
     "output_type": "stream",
     "text": [
      "Orignal array:  [100, 10, 90, 20, 80, 30, 70, 40, 60, 50]\n",
      "Sorted array:  [10, 20, 30, 40, 50, 60, 70, 80, 90, 100]\n"
     ]
    }
   ],
   "source": [
    "# Array sorting using SelectionSort\n",
    "print(\"Orignal array: \", arr)\n",
    "# sort the array\n",
    "selection_sort(arr)\n",
    "print(\"Sorted array: \", arr)"
   ]
  },
  {
   "cell_type": "code",
   "execution_count": null,
   "id": "728f4fc0-eecc-495a-a5e5-4ddceb9c3b00",
   "metadata": {},
   "outputs": [],
   "source": []
  }
 ],
 "metadata": {
  "kernelspec": {
   "display_name": "Python 3 (ipykernel)",
   "language": "python",
   "name": "python3"
  },
  "language_info": {
   "codemirror_mode": {
    "name": "ipython",
    "version": 3
   },
   "file_extension": ".py",
   "mimetype": "text/x-python",
   "name": "python",
   "nbconvert_exporter": "python",
   "pygments_lexer": "ipython3",
   "version": "3.10.12"
  }
 },
 "nbformat": 4,
 "nbformat_minor": 5
}
