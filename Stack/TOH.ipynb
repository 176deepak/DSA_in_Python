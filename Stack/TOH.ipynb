{
 "cells": [
  {
   "cell_type": "markdown",
   "id": "ea55c8da-8cc3-4dd9-aafd-3028e4c4f72a",
   "metadata": {},
   "source": [
    "<h1 style=\"text-align:center; font-size:50px; font-weight: bold; font-family: 'Lucida Console', 'Courier New', 'monospace'; color:blue \">Tower of Honai</h1>"
   ]
  },
  {
   "cell_type": "markdown",
   "id": "1d722d7e-afd1-4ee9-873a-efd79da553b9",
   "metadata": {},
   "source": [
    "`Problem Statement`\n",
    "The Tower of Hanoi is a classic mathematical puzzle that consists of three towers or rods and a number of disks of different sizes, which can be moved between the towers. The puzzle starts with all the disks arranged in ascending order of size on one tower, with the smallest disk at the top and the largest disk at the bottom. The objective is to move all the disks to another tower, adhering to the following rules:\n",
    "\n",
    "1. Only one disk can be moved at a time.\n",
    "2. Each move consists of taking the uppermost disk from one of the stacks and placing it on top of the stack or on an empty tower.\n",
    "3. No disk may be placed on top of a smaller disk.\n",
    "\n",
    "`Task`\n",
    "Your task is to write a program or algorithm to solve the Tower of Hanoi puzzle for a given number of disks, following the rules outlined above. The program should output the sequence of moves required to solve the puzzle and move all the disks from the source rod to the destination rod, using the auxiliary rod as needed.\n",
    "\n",
    "**Input:** An integer 'n' representing the number of disks (1 ≤ n ≤ 10).\n",
    "\n",
    "**Output:** A sequence of instructions or moves to solve the Tower of Hanoi puzzle, which moves all 'n' disks from the source tower to the destination tower while using the auxiliary tower as needed.\n",
    "\n",
    "**Example:**\n",
    "Input: n = 3\n",
    "Output:\n",
    "1. Move disk 1 from source tower to destination tower\n",
    "2. Move disk 2 from source tower to auxiliary tower\n",
    "3. Move disk 1 from destination tower to auxiliary tower\n",
    "4. Move disk 3 from source tower to destination tower\n",
    "5. Move disk 1 from auxiliary tower to source tower\n",
    "6. Move disk 2 from auxiliary tower to destination tower\n",
    "7. Move disk 1 from source tower to destination tower\n",
    "\n",
    "`Note:`\n",
    "<p>The number of moves required to solve the Tower of Hanoi puzzle with 'n' disks is 2<sup>n</sup> - 1.</p>"
   ]
  },
  {
   "cell_type": "code",
   "execution_count": 1,
   "id": "08b52aad-29c4-4347-b0bd-056161b13788",
   "metadata": {},
   "outputs": [],
   "source": [
    "def tower_of_hanoi(n, source_rod, auxiliary_rod, destination_rod):\n",
    "    if n == 1:\n",
    "        print(f\"Move disk 1 from {source_rod} to {destination_rod}\")\n",
    "        return\n",
    "    tower_of_hanoi(n - 1, source_rod, destination_rod, auxiliary_rod)\n",
    "    print(f\"Move disk {n} from {source_rod} to {destination_rod}\")\n",
    "    tower_of_hanoi(n - 1, auxiliary_rod, source_rod, destination_rod)"
   ]
  },
  {
   "cell_type": "code",
   "execution_count": 2,
   "id": "c49827d2-c2a0-423c-bda4-3e6b694768e4",
   "metadata": {},
   "outputs": [
    {
     "name": "stdout",
     "output_type": "stream",
     "text": [
      "Move disk 1 from A to C\n",
      "Move disk 2 from A to B\n",
      "Move disk 1 from C to B\n",
      "Move disk 3 from A to C\n",
      "Move disk 1 from B to A\n",
      "Move disk 2 from B to C\n",
      "Move disk 1 from A to C\n"
     ]
    }
   ],
   "source": [
    "# usage\n",
    "n = 3\n",
    "tower_of_hanoi(n, 'A', 'B', 'C')"
   ]
  },
  {
   "cell_type": "markdown",
   "id": "d0a209b4-e923-4620-91e5-f7c1d7881417",
   "metadata": {},
   "source": [
    "<h1 style=\"text-align:center; font-size:80px; font-family: 'Brush Script MT', cursive; color:blue\">Thankyou</h1>"
   ]
  }
 ],
 "metadata": {
  "kernelspec": {
   "display_name": "Python 3 (ipykernel)",
   "language": "python",
   "name": "python3"
  },
  "language_info": {
   "codemirror_mode": {
    "name": "ipython",
    "version": 3
   },
   "file_extension": ".py",
   "mimetype": "text/x-python",
   "name": "python",
   "nbconvert_exporter": "python",
   "pygments_lexer": "ipython3",
   "version": "3.10.12"
  }
 },
 "nbformat": 4,
 "nbformat_minor": 5
}
